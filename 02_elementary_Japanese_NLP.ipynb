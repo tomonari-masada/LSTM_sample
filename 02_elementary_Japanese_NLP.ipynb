{
  "nbformat": 4,
  "nbformat_minor": 0,
  "metadata": {
    "colab": {
      "name": "02_elementary_Japanese_NLP.ipynb",
      "provenance": [],
      "collapsed_sections": [],
      "authorship_tag": "ABX9TyOiuTq8Qd4OxzDRdvqeHnhG",
      "include_colab_link": true
    },
    "kernelspec": {
      "name": "python3",
      "display_name": "Python 3"
    }
  },
  "cells": [
    {
      "cell_type": "markdown",
      "metadata": {
        "id": "view-in-github",
        "colab_type": "text"
      },
      "source": [
        "<a href=\"https://colab.research.google.com/github/tomonari-masada/LSTM_sample/blob/master/02_elementary_Japanese_NLP.ipynb\" target=\"_parent\"><img src=\"https://colab.research.google.com/assets/colab-badge.svg\" alt=\"Open In Colab\"/></a>"
      ]
    },
    {
      "cell_type": "markdown",
      "metadata": {
        "id": "m_GmRdAi6h89"
      },
      "source": [
        "# 02 日本語のテキストデータの扱い方\n",
        "\n",
        "* 日本語は、言語の性質上、文が空白によって単語へ分たれていない。\n",
        " * 同じように、文が空白によって単語へ分たれていない言語として、他にどのような言語があるか？\n",
        "* そのため、まず最初に文を単語へ分割する必要がある。\n",
        "* この作業を**形態素解析**と言う。\n",
        " * 長い文字列としての言語データを、単語のような細かい単位へ分割することを、一般にtokenizationと言う。\n",
        " * tokenizationの単位は、単語のように意味的なまとまりをもつ単位とは限らない。\n",
        " *cf. [SentencePiece](https://arxiv.org/pdf/1808.06226.pdf) ... [この解説](https://qiita.com/taku910/items/7e52f1e58d0ea6e7859c)も参照。\n",
        "* ここでは、spaCyを介してsudachiというツールで形態素解析をおこなう。\n",
        " * 形態素解析システムとしては、他には、MeCabやJUMANが有名。"
      ]
    },
    {
      "cell_type": "markdown",
      "metadata": {
        "id": "MyUrPpHK-woI"
      },
      "source": [
        "## 注\n",
        "* \"ContextualVersionConflict ...\"というエラーが出たら、上部メニューの「ランタイム」から「ランタイムを再起動」をクリックして、ランタイムを再起動してみてください。"
      ]
    },
    {
      "cell_type": "markdown",
      "metadata": {
        "id": "n5jhMBOX72rt"
      },
      "source": [
        "## 02-01 spaCyの準備"
      ]
    },
    {
      "cell_type": "markdown",
      "metadata": {
        "id": "XTdXc5Z_7UZ_"
      },
      "source": [
        "### spaCyを最新版にアップデートする。"
      ]
    },
    {
      "cell_type": "code",
      "metadata": {
        "id": "wDyU7FXpgf6L",
        "outputId": "96797f38-f140-423d-fbdb-19a7115aead4",
        "colab": {
          "base_uri": "https://localhost:8080/",
          "height": 397
        }
      },
      "source": [
        "! pip install -U spacy"
      ],
      "execution_count": 1,
      "outputs": [
        {
          "output_type": "stream",
          "text": [
            "Requirement already up-to-date: spacy in /usr/local/lib/python3.6/dist-packages (2.3.2)\n",
            "Requirement already satisfied, skipping upgrade: setuptools in /usr/local/lib/python3.6/dist-packages (from spacy) (50.3.0)\n",
            "Requirement already satisfied, skipping upgrade: requests<3.0.0,>=2.13.0 in /usr/local/lib/python3.6/dist-packages (from spacy) (2.23.0)\n",
            "Requirement already satisfied, skipping upgrade: plac<1.2.0,>=0.9.6 in /usr/local/lib/python3.6/dist-packages (from spacy) (1.1.3)\n",
            "Requirement already satisfied, skipping upgrade: cymem<2.1.0,>=2.0.2 in /usr/local/lib/python3.6/dist-packages (from spacy) (2.0.3)\n",
            "Requirement already satisfied, skipping upgrade: wasabi<1.1.0,>=0.4.0 in /usr/local/lib/python3.6/dist-packages (from spacy) (0.8.0)\n",
            "Requirement already satisfied, skipping upgrade: numpy>=1.15.0 in /usr/local/lib/python3.6/dist-packages (from spacy) (1.18.5)\n",
            "Requirement already satisfied, skipping upgrade: blis<0.5.0,>=0.4.0 in /usr/local/lib/python3.6/dist-packages (from spacy) (0.4.1)\n",
            "Requirement already satisfied, skipping upgrade: murmurhash<1.1.0,>=0.28.0 in /usr/local/lib/python3.6/dist-packages (from spacy) (1.0.2)\n",
            "Requirement already satisfied, skipping upgrade: preshed<3.1.0,>=3.0.2 in /usr/local/lib/python3.6/dist-packages (from spacy) (3.0.2)\n",
            "Requirement already satisfied, skipping upgrade: thinc==7.4.1 in /usr/local/lib/python3.6/dist-packages (from spacy) (7.4.1)\n",
            "Requirement already satisfied, skipping upgrade: srsly<1.1.0,>=1.0.2 in /usr/local/lib/python3.6/dist-packages (from spacy) (1.0.2)\n",
            "Requirement already satisfied, skipping upgrade: tqdm<5.0.0,>=4.38.0 in /usr/local/lib/python3.6/dist-packages (from spacy) (4.41.1)\n",
            "Requirement already satisfied, skipping upgrade: catalogue<1.1.0,>=0.0.7 in /usr/local/lib/python3.6/dist-packages (from spacy) (1.0.0)\n",
            "Requirement already satisfied, skipping upgrade: urllib3!=1.25.0,!=1.25.1,<1.26,>=1.21.1 in /usr/local/lib/python3.6/dist-packages (from requests<3.0.0,>=2.13.0->spacy) (1.24.3)\n",
            "Requirement already satisfied, skipping upgrade: certifi>=2017.4.17 in /usr/local/lib/python3.6/dist-packages (from requests<3.0.0,>=2.13.0->spacy) (2020.6.20)\n",
            "Requirement already satisfied, skipping upgrade: chardet<4,>=3.0.2 in /usr/local/lib/python3.6/dist-packages (from requests<3.0.0,>=2.13.0->spacy) (3.0.4)\n",
            "Requirement already satisfied, skipping upgrade: idna<3,>=2.5 in /usr/local/lib/python3.6/dist-packages (from requests<3.0.0,>=2.13.0->spacy) (2.10)\n",
            "Requirement already satisfied, skipping upgrade: importlib-metadata>=0.20; python_version < \"3.8\" in /usr/local/lib/python3.6/dist-packages (from catalogue<1.1.0,>=0.0.7->spacy) (2.0.0)\n",
            "Requirement already satisfied, skipping upgrade: zipp>=0.5 in /usr/local/lib/python3.6/dist-packages (from importlib-metadata>=0.20; python_version < \"3.8\"->catalogue<1.1.0,>=0.0.7->spacy) (3.2.0)\n"
          ],
          "name": "stdout"
        }
      ]
    },
    {
      "cell_type": "markdown",
      "metadata": {
        "id": "mm9xRGBQ82x9"
      },
      "source": [
        "### バージョンを確認する。"
      ]
    },
    {
      "cell_type": "code",
      "metadata": {
        "id": "EQzgkN1B8yzP",
        "outputId": "9ce795d5-1cbf-4ad3-8b3e-06c4ca6eb6a8",
        "colab": {
          "base_uri": "https://localhost:8080/",
          "height": 179
        }
      },
      "source": [
        "! python -m spacy validate"
      ],
      "execution_count": 2,
      "outputs": [
        {
          "output_type": "stream",
          "text": [
            "\r⠙ Loading compatibility table...\r⠹ Loading compatibility table...\r\u001b[2K\u001b[38;5;2m✔ Loaded compatibility table\u001b[0m\n",
            "\u001b[1m\n",
            "====================== Installed models (spaCy v2.3.2) ======================\u001b[0m\n",
            "\u001b[38;5;4mℹ spaCy installation: /usr/local/lib/python3.6/dist-packages/spacy\u001b[0m\n",
            "\n",
            "TYPE      NAME              MODEL             VERSION                            \n",
            "package   ja-core-news-sm   ja_core_news_sm   \u001b[38;5;2m2.3.2\u001b[0m   \u001b[38;5;2m✔\u001b[0m\n",
            "package   en-core-web-sm    en_core_web_sm    \u001b[38;5;2m2.3.1\u001b[0m   \u001b[38;5;2m✔\u001b[0m\n",
            "\n"
          ],
          "name": "stdout"
        }
      ]
    },
    {
      "cell_type": "markdown",
      "metadata": {
        "id": "ILTyM-jV9uPe"
      },
      "source": [
        "### 英語の統計モデルもアップデートしておく。\n",
        "* 今回は英語データは使わないが。"
      ]
    },
    {
      "cell_type": "code",
      "metadata": {
        "id": "o0M3NKIm9iwe",
        "outputId": "1b928367-2ed9-4759-abf9-1524f540c3a3",
        "colab": {
          "base_uri": "https://localhost:8080/",
          "height": 451
        }
      },
      "source": [
        "! python -m spacy download en_core_web_sm"
      ],
      "execution_count": 3,
      "outputs": [
        {
          "output_type": "stream",
          "text": [
            "Requirement already satisfied: en_core_web_sm==2.3.1 from https://github.com/explosion/spacy-models/releases/download/en_core_web_sm-2.3.1/en_core_web_sm-2.3.1.tar.gz#egg=en_core_web_sm==2.3.1 in /usr/local/lib/python3.6/dist-packages (2.3.1)\n",
            "Requirement already satisfied: spacy<2.4.0,>=2.3.0 in /usr/local/lib/python3.6/dist-packages (from en_core_web_sm==2.3.1) (2.3.2)\n",
            "Requirement already satisfied: catalogue<1.1.0,>=0.0.7 in /usr/local/lib/python3.6/dist-packages (from spacy<2.4.0,>=2.3.0->en_core_web_sm==2.3.1) (1.0.0)\n",
            "Requirement already satisfied: requests<3.0.0,>=2.13.0 in /usr/local/lib/python3.6/dist-packages (from spacy<2.4.0,>=2.3.0->en_core_web_sm==2.3.1) (2.23.0)\n",
            "Requirement already satisfied: tqdm<5.0.0,>=4.38.0 in /usr/local/lib/python3.6/dist-packages (from spacy<2.4.0,>=2.3.0->en_core_web_sm==2.3.1) (4.41.1)\n",
            "Requirement already satisfied: setuptools in /usr/local/lib/python3.6/dist-packages (from spacy<2.4.0,>=2.3.0->en_core_web_sm==2.3.1) (50.3.0)\n",
            "Requirement already satisfied: murmurhash<1.1.0,>=0.28.0 in /usr/local/lib/python3.6/dist-packages (from spacy<2.4.0,>=2.3.0->en_core_web_sm==2.3.1) (1.0.2)\n",
            "Requirement already satisfied: srsly<1.1.0,>=1.0.2 in /usr/local/lib/python3.6/dist-packages (from spacy<2.4.0,>=2.3.0->en_core_web_sm==2.3.1) (1.0.2)\n",
            "Requirement already satisfied: thinc==7.4.1 in /usr/local/lib/python3.6/dist-packages (from spacy<2.4.0,>=2.3.0->en_core_web_sm==2.3.1) (7.4.1)\n",
            "Requirement already satisfied: preshed<3.1.0,>=3.0.2 in /usr/local/lib/python3.6/dist-packages (from spacy<2.4.0,>=2.3.0->en_core_web_sm==2.3.1) (3.0.2)\n",
            "Requirement already satisfied: blis<0.5.0,>=0.4.0 in /usr/local/lib/python3.6/dist-packages (from spacy<2.4.0,>=2.3.0->en_core_web_sm==2.3.1) (0.4.1)\n",
            "Requirement already satisfied: cymem<2.1.0,>=2.0.2 in /usr/local/lib/python3.6/dist-packages (from spacy<2.4.0,>=2.3.0->en_core_web_sm==2.3.1) (2.0.3)\n",
            "Requirement already satisfied: plac<1.2.0,>=0.9.6 in /usr/local/lib/python3.6/dist-packages (from spacy<2.4.0,>=2.3.0->en_core_web_sm==2.3.1) (1.1.3)\n",
            "Requirement already satisfied: wasabi<1.1.0,>=0.4.0 in /usr/local/lib/python3.6/dist-packages (from spacy<2.4.0,>=2.3.0->en_core_web_sm==2.3.1) (0.8.0)\n",
            "Requirement already satisfied: numpy>=1.15.0 in /usr/local/lib/python3.6/dist-packages (from spacy<2.4.0,>=2.3.0->en_core_web_sm==2.3.1) (1.18.5)\n",
            "Requirement already satisfied: importlib-metadata>=0.20; python_version < \"3.8\" in /usr/local/lib/python3.6/dist-packages (from catalogue<1.1.0,>=0.0.7->spacy<2.4.0,>=2.3.0->en_core_web_sm==2.3.1) (2.0.0)\n",
            "Requirement already satisfied: certifi>=2017.4.17 in /usr/local/lib/python3.6/dist-packages (from requests<3.0.0,>=2.13.0->spacy<2.4.0,>=2.3.0->en_core_web_sm==2.3.1) (2020.6.20)\n",
            "Requirement already satisfied: chardet<4,>=3.0.2 in /usr/local/lib/python3.6/dist-packages (from requests<3.0.0,>=2.13.0->spacy<2.4.0,>=2.3.0->en_core_web_sm==2.3.1) (3.0.4)\n",
            "Requirement already satisfied: idna<3,>=2.5 in /usr/local/lib/python3.6/dist-packages (from requests<3.0.0,>=2.13.0->spacy<2.4.0,>=2.3.0->en_core_web_sm==2.3.1) (2.10)\n",
            "Requirement already satisfied: urllib3!=1.25.0,!=1.25.1,<1.26,>=1.21.1 in /usr/local/lib/python3.6/dist-packages (from requests<3.0.0,>=2.13.0->spacy<2.4.0,>=2.3.0->en_core_web_sm==2.3.1) (1.24.3)\n",
            "Requirement already satisfied: zipp>=0.5 in /usr/local/lib/python3.6/dist-packages (from importlib-metadata>=0.20; python_version < \"3.8\"->catalogue<1.1.0,>=0.0.7->spacy<2.4.0,>=2.3.0->en_core_web_sm==2.3.1) (3.2.0)\n",
            "\u001b[38;5;2m✔ Download and installation successful\u001b[0m\n",
            "You can now load the model via spacy.load('en_core_web_sm')\n"
          ],
          "name": "stdout"
        }
      ]
    },
    {
      "cell_type": "code",
      "metadata": {
        "id": "Ye7LwqHG9ri-",
        "outputId": "842b4f7d-59a5-4229-acb0-03a90514e8ec",
        "colab": {
          "base_uri": "https://localhost:8080/",
          "height": 179
        }
      },
      "source": [
        "! python -m spacy validate"
      ],
      "execution_count": 4,
      "outputs": [
        {
          "output_type": "stream",
          "text": [
            "\r⠙ Loading compatibility table...\r⠹ Loading compatibility table...\r\u001b[2K\u001b[38;5;2m✔ Loaded compatibility table\u001b[0m\n",
            "\u001b[1m\n",
            "====================== Installed models (spaCy v2.3.2) ======================\u001b[0m\n",
            "\u001b[38;5;4mℹ spaCy installation: /usr/local/lib/python3.6/dist-packages/spacy\u001b[0m\n",
            "\n",
            "TYPE      NAME              MODEL             VERSION                            \n",
            "package   ja-core-news-sm   ja_core_news_sm   \u001b[38;5;2m2.3.2\u001b[0m   \u001b[38;5;2m✔\u001b[0m\n",
            "package   en-core-web-sm    en_core_web_sm    \u001b[38;5;2m2.3.1\u001b[0m   \u001b[38;5;2m✔\u001b[0m\n",
            "\n"
          ],
          "name": "stdout"
        }
      ]
    },
    {
      "cell_type": "markdown",
      "metadata": {
        "id": "vOdfbC087sA0"
      },
      "source": [
        "### spaCyの日本語の訓練済み統計モデルをダウンロードする\n",
        "* 「sm」で終わるものは、小規模なモデル。\n",
        "* 「md」で終わるものが、中規模のモデル。\n",
        "* 「lg」で終わるものが、大規模なモデル。\n",
        "* 詳細は、以下を参照。\n",
        " * https://explosion.ai/blog/spacy-v2-3\n",
        "* ダウンロード時間短縮のため、ここでは小規模モデルを使う。"
      ]
    },
    {
      "cell_type": "code",
      "metadata": {
        "id": "Cm_9hXxtgcfI",
        "outputId": "edc5a20d-6f9f-4a84-b440-6913482f077d",
        "colab": {
          "base_uri": "https://localhost:8080/",
          "height": 541
        }
      },
      "source": [
        "! python -m spacy download ja_core_news_sm"
      ],
      "execution_count": 5,
      "outputs": [
        {
          "output_type": "stream",
          "text": [
            "Requirement already satisfied: ja_core_news_sm==2.3.2 from https://github.com/explosion/spacy-models/releases/download/ja_core_news_sm-2.3.2/ja_core_news_sm-2.3.2.tar.gz#egg=ja_core_news_sm==2.3.2 in /usr/local/lib/python3.6/dist-packages (2.3.2)\n",
            "Requirement already satisfied: sudachidict-core>=20200330 in /usr/local/lib/python3.6/dist-packages (from ja_core_news_sm==2.3.2) (20200722)\n",
            "Requirement already satisfied: sudachipy>=0.4.5 in /usr/local/lib/python3.6/dist-packages (from ja_core_news_sm==2.3.2) (0.4.9)\n",
            "Requirement already satisfied: spacy<2.4.0,>=2.3.0 in /usr/local/lib/python3.6/dist-packages (from ja_core_news_sm==2.3.2) (2.3.2)\n",
            "Requirement already satisfied: dartsclone~=0.9.0 in /usr/local/lib/python3.6/dist-packages (from sudachipy>=0.4.5->ja_core_news_sm==2.3.2) (0.9.0)\n",
            "Requirement already satisfied: sortedcontainers~=2.1.0 in /usr/local/lib/python3.6/dist-packages (from sudachipy>=0.4.5->ja_core_news_sm==2.3.2) (2.1.0)\n",
            "Requirement already satisfied: murmurhash<1.1.0,>=0.28.0 in /usr/local/lib/python3.6/dist-packages (from spacy<2.4.0,>=2.3.0->ja_core_news_sm==2.3.2) (1.0.2)\n",
            "Requirement already satisfied: wasabi<1.1.0,>=0.4.0 in /usr/local/lib/python3.6/dist-packages (from spacy<2.4.0,>=2.3.0->ja_core_news_sm==2.3.2) (0.8.0)\n",
            "Requirement already satisfied: requests<3.0.0,>=2.13.0 in /usr/local/lib/python3.6/dist-packages (from spacy<2.4.0,>=2.3.0->ja_core_news_sm==2.3.2) (2.23.0)\n",
            "Requirement already satisfied: plac<1.2.0,>=0.9.6 in /usr/local/lib/python3.6/dist-packages (from spacy<2.4.0,>=2.3.0->ja_core_news_sm==2.3.2) (1.1.3)\n",
            "Requirement already satisfied: blis<0.5.0,>=0.4.0 in /usr/local/lib/python3.6/dist-packages (from spacy<2.4.0,>=2.3.0->ja_core_news_sm==2.3.2) (0.4.1)\n",
            "Requirement already satisfied: numpy>=1.15.0 in /usr/local/lib/python3.6/dist-packages (from spacy<2.4.0,>=2.3.0->ja_core_news_sm==2.3.2) (1.18.5)\n",
            "Requirement already satisfied: tqdm<5.0.0,>=4.38.0 in /usr/local/lib/python3.6/dist-packages (from spacy<2.4.0,>=2.3.0->ja_core_news_sm==2.3.2) (4.41.1)\n",
            "Requirement already satisfied: catalogue<1.1.0,>=0.0.7 in /usr/local/lib/python3.6/dist-packages (from spacy<2.4.0,>=2.3.0->ja_core_news_sm==2.3.2) (1.0.0)\n",
            "Requirement already satisfied: thinc==7.4.1 in /usr/local/lib/python3.6/dist-packages (from spacy<2.4.0,>=2.3.0->ja_core_news_sm==2.3.2) (7.4.1)\n",
            "Requirement already satisfied: srsly<1.1.0,>=1.0.2 in /usr/local/lib/python3.6/dist-packages (from spacy<2.4.0,>=2.3.0->ja_core_news_sm==2.3.2) (1.0.2)\n",
            "Requirement already satisfied: cymem<2.1.0,>=2.0.2 in /usr/local/lib/python3.6/dist-packages (from spacy<2.4.0,>=2.3.0->ja_core_news_sm==2.3.2) (2.0.3)\n",
            "Requirement already satisfied: preshed<3.1.0,>=3.0.2 in /usr/local/lib/python3.6/dist-packages (from spacy<2.4.0,>=2.3.0->ja_core_news_sm==2.3.2) (3.0.2)\n",
            "Requirement already satisfied: setuptools in /usr/local/lib/python3.6/dist-packages (from spacy<2.4.0,>=2.3.0->ja_core_news_sm==2.3.2) (50.3.0)\n",
            "Requirement already satisfied: Cython in /usr/local/lib/python3.6/dist-packages (from dartsclone~=0.9.0->sudachipy>=0.4.5->ja_core_news_sm==2.3.2) (0.29.21)\n",
            "Requirement already satisfied: urllib3!=1.25.0,!=1.25.1,<1.26,>=1.21.1 in /usr/local/lib/python3.6/dist-packages (from requests<3.0.0,>=2.13.0->spacy<2.4.0,>=2.3.0->ja_core_news_sm==2.3.2) (1.24.3)\n",
            "Requirement already satisfied: chardet<4,>=3.0.2 in /usr/local/lib/python3.6/dist-packages (from requests<3.0.0,>=2.13.0->spacy<2.4.0,>=2.3.0->ja_core_news_sm==2.3.2) (3.0.4)\n",
            "Requirement already satisfied: certifi>=2017.4.17 in /usr/local/lib/python3.6/dist-packages (from requests<3.0.0,>=2.13.0->spacy<2.4.0,>=2.3.0->ja_core_news_sm==2.3.2) (2020.6.20)\n",
            "Requirement already satisfied: idna<3,>=2.5 in /usr/local/lib/python3.6/dist-packages (from requests<3.0.0,>=2.13.0->spacy<2.4.0,>=2.3.0->ja_core_news_sm==2.3.2) (2.10)\n",
            "Requirement already satisfied: importlib-metadata>=0.20; python_version < \"3.8\" in /usr/local/lib/python3.6/dist-packages (from catalogue<1.1.0,>=0.0.7->spacy<2.4.0,>=2.3.0->ja_core_news_sm==2.3.2) (2.0.0)\n",
            "Requirement already satisfied: zipp>=0.5 in /usr/local/lib/python3.6/dist-packages (from importlib-metadata>=0.20; python_version < \"3.8\"->catalogue<1.1.0,>=0.0.7->spacy<2.4.0,>=2.3.0->ja_core_news_sm==2.3.2) (3.2.0)\n",
            "\u001b[38;5;2m✔ Download and installation successful\u001b[0m\n",
            "You can now load the model via spacy.load('ja_core_news_sm')\n"
          ],
          "name": "stdout"
        }
      ]
    },
    {
      "cell_type": "markdown",
      "metadata": {
        "id": "62mbrOSY8QJ9"
      },
      "source": [
        "## 02-02 sudachiによる形態素解析を試してみる。\n",
        "* spaCyの日本語統計モデルをインストールすると、自動的にsudachiがインストールされる。\n",
        "* そこで、sudachipyコマンドを使って、コマンドラインで形態素解析を試してみる。"
      ]
    },
    {
      "cell_type": "code",
      "metadata": {
        "id": "9_mUBCBAgz1o",
        "outputId": "4360d017-fa26-4988-d08d-9a2ec10e7741",
        "colab": {
          "base_uri": "https://localhost:8080/",
          "height": 161
        }
      },
      "source": [
        "! echo \"すもももももももものうち\" | sudachipy"
      ],
      "execution_count": 6,
      "outputs": [
        {
          "output_type": "stream",
          "text": [
            "すもも\t名詞,普通名詞,一般,*,*,*\t李\n",
            "も\t助詞,係助詞,*,*,*,*\tも\n",
            "もも\t名詞,普通名詞,一般,*,*,*\tもも\n",
            "も\t助詞,係助詞,*,*,*,*\tも\n",
            "もも\t名詞,普通名詞,一般,*,*,*\tもも\n",
            "の\t助詞,格助詞,*,*,*,*\tの\n",
            "うち\t名詞,普通名詞,副詞可能,*,*,*\t内\n",
            "EOS\n"
          ],
          "name": "stdout"
        }
      ]
    },
    {
      "cell_type": "markdown",
      "metadata": {
        "id": "ZrnUvkLz8i2y"
      },
      "source": [
        "## 02-03 spaCyによる日本語テキスト処理"
      ]
    },
    {
      "cell_type": "markdown",
      "metadata": {
        "id": "mREm_MVK8m5q"
      },
      "source": [
        "### 日本語統計モデルのロード"
      ]
    },
    {
      "cell_type": "code",
      "metadata": {
        "id": "OzXLkIsEerem"
      },
      "source": [
        "from spacy.lang.ja import Japanese\n",
        "\n",
        "# Load SudachiPy with split mode A (default)\n",
        "nlp = Japanese()\n",
        "\n",
        "# Load SudachiPy with split mode B\n",
        "#cfg = {\"split_mode\": \"B\"}\n",
        "#nlp = Japanese(meta={\"tokenizer\": {\"config\": cfg}})"
      ],
      "execution_count": 7,
      "outputs": []
    },
    {
      "cell_type": "markdown",
      "metadata": {
        "id": "L7nRxPnE_HhI"
      },
      "source": [
        "### documentを作成"
      ]
    },
    {
      "cell_type": "code",
      "metadata": {
        "id": "VbVAM7qvgW0n",
        "outputId": "30023d00-7093-4760-8f2a-228b779cf337",
        "colab": {
          "base_uri": "https://localhost:8080/",
          "height": 35
        }
      },
      "source": [
        "doc = nlp('これは、やっぱり相当冗長な日本語の文じゃないかなと思っていたのですが。')\n",
        "print(doc.text)"
      ],
      "execution_count": 8,
      "outputs": [
        {
          "output_type": "stream",
          "text": [
            "これは、やっぱり相当冗長な日本語の文じゃないかなと思っていたのですが。\n"
          ],
          "name": "stdout"
        }
      ]
    },
    {
      "cell_type": "markdown",
      "metadata": {
        "id": "8jW0p4D3_sk8"
      },
      "source": [
        "### spaCyからsudachiを利用した形態素解析の実行\n",
        "* 分かち書きされた単語そのもの以外の、品詞などの情報も表示させている。\n",
        " * tagに「形容動詞」は無く、その語幹が「形状詞」とされている。\n",
        " * 「じゃない」の「ない」は、tagでは「形容詞」だが、posでは「AUX」である。"
      ]
    },
    {
      "cell_type": "code",
      "metadata": {
        "id": "UNu4wuDP_qU-",
        "outputId": "8f4bd680-1a63-4204-df6c-866ae495cd37",
        "colab": {
          "base_uri": "https://localhost:8080/",
          "height": 449
        }
      },
      "source": [
        "for token in doc:\n",
        "  print(f'text:{token.text}, pos:{token.pos_}, tag:{token.tag_}, lemma:{token.lemma_}')"
      ],
      "execution_count": 9,
      "outputs": [
        {
          "output_type": "stream",
          "text": [
            "text:これ, pos:PRON, tag:代名詞, lemma:これ\n",
            "text:は, pos:ADP, tag:助詞-係助詞, lemma:は\n",
            "text:、, pos:PUNCT, tag:補助記号-読点, lemma:、\n",
            "text:やっぱり, pos:ADV, tag:副詞, lemma:やっぱり\n",
            "text:相当, pos:ADV, tag:副詞, lemma:相当\n",
            "text:冗長, pos:ADJ, tag:形状詞-一般, lemma:冗長\n",
            "text:な, pos:AUX, tag:助動詞, lemma:だ\n",
            "text:日本, pos:PROPN, tag:名詞-固有名詞-地名-国, lemma:日本\n",
            "text:語, pos:NOUN, tag:名詞-普通名詞-一般, lemma:語\n",
            "text:の, pos:ADP, tag:助詞-格助詞, lemma:の\n",
            "text:文, pos:NOUN, tag:名詞-普通名詞-一般, lemma:文\n",
            "text:じゃ, pos:AUX, tag:助動詞, lemma:だ\n",
            "text:ない, pos:AUX, tag:形容詞-非自立可能, lemma:ない\n",
            "text:か, pos:PART, tag:助詞-終助詞, lemma:か\n",
            "text:な, pos:PART, tag:助詞-終助詞, lemma:な\n",
            "text:と, pos:ADP, tag:助詞-格助詞, lemma:と\n",
            "text:思っ, pos:VERB, tag:動詞-一般, lemma:思う\n",
            "text:て, pos:SCONJ, tag:助詞-接続助詞, lemma:て\n",
            "text:い, pos:AUX, tag:動詞-非自立可能, lemma:いる\n",
            "text:た, pos:AUX, tag:助動詞, lemma:た\n",
            "text:の, pos:SCONJ, tag:助詞-準体助詞, lemma:の\n",
            "text:です, pos:AUX, tag:助動詞, lemma:です\n",
            "text:が, pos:SCONJ, tag:助詞-接続助詞, lemma:が\n",
            "text:。, pos:PUNCT, tag:補助記号-句点, lemma:。\n"
          ],
          "name": "stdout"
        }
      ]
    },
    {
      "cell_type": "markdown",
      "metadata": {
        "id": "_cj_qwejIj_g"
      },
      "source": [
        "### 英語の場合（復習）"
      ]
    },
    {
      "cell_type": "code",
      "metadata": {
        "id": "LsyZHx3UIjMe",
        "outputId": "252cd197-c1c6-45bc-b7b7-10464a158741",
        "colab": {
          "base_uri": "https://localhost:8080/",
          "height": 35
        }
      },
      "source": [
        "import spacy\n",
        "\n",
        "nlp_en = spacy.load(\"en_core_web_sm\")\n",
        "doc = nlp_en(\"Apple is looking at buying U.K. startup for $1 billion\")\n",
        "print(doc.text)"
      ],
      "execution_count": 10,
      "outputs": [
        {
          "output_type": "stream",
          "text": [
            "Apple is looking at buying U.K. startup for $1 billion\n"
          ],
          "name": "stdout"
        }
      ]
    },
    {
      "cell_type": "code",
      "metadata": {
        "id": "h3XWU5l6Iu7L",
        "outputId": "adb2fd6f-5c30-4062-b38a-b13346a3be9d",
        "colab": {
          "base_uri": "https://localhost:8080/",
          "height": 215
        }
      },
      "source": [
        "for token in doc:\n",
        "  print(f'text:{token.text}, pos:{token.pos_}, tag:{token.tag_}, lemma:{token.lemma_}')"
      ],
      "execution_count": 11,
      "outputs": [
        {
          "output_type": "stream",
          "text": [
            "text:Apple, pos:PROPN, tag:NNP, lemma:Apple\n",
            "text:is, pos:AUX, tag:VBZ, lemma:be\n",
            "text:looking, pos:VERB, tag:VBG, lemma:look\n",
            "text:at, pos:ADP, tag:IN, lemma:at\n",
            "text:buying, pos:VERB, tag:VBG, lemma:buy\n",
            "text:U.K., pos:PROPN, tag:NNP, lemma:U.K.\n",
            "text:startup, pos:NOUN, tag:NN, lemma:startup\n",
            "text:for, pos:ADP, tag:IN, lemma:for\n",
            "text:$, pos:SYM, tag:$, lemma:$\n",
            "text:1, pos:NUM, tag:CD, lemma:1\n",
            "text:billion, pos:NUM, tag:CD, lemma:billion\n"
          ],
          "name": "stdout"
        }
      ]
    },
    {
      "cell_type": "markdown",
      "metadata": {
        "id": "tME6lbWjErVS"
      },
      "source": [
        "# 課題2: 文書のbag-of-words表現を得る\n",
        "\n",
        "* （この課題は、宿題ではなく、いまここで作業しつつ解いてしまいます。）\n",
        "* Wikipediaの複数のエントリを、lemmaを半角スペースでつないだ、長い文字列へ変換する。\n",
        " * ここでは、コンピュータ科学の様々な分野のエントリを題材として使う。\n",
        "* scikit-learnのCountVectorizerやTfidfVectorizerを使って、各エントリにおける単語の出現頻度からなる特徴ベクトルを得る。\n",
        "* **文書を、そこに現れる単語の出現頻度やTF-IDFを使ってベクトル表現している限り、単語の出現順序は無視されている。文書に現れる単語は、バッグに入った品物のように扱われており、各々の品物が何個入っているかだけが問題とされていて、出現順の情報は失われている。このように、文書を単語のmultisetとしてモデル化することを、bag-of-words modelingと呼ぶ。**\n",
        "* 特徴ベクトルどうしの類似度を計算し、「人工知能」分野と最も似ている順に　３つの分野がどの分野かを求める。\n",
        " * 答えは自分の感覚でチェック。\n",
        " * 特徴ベクトルを作る時に単語の品詞を名詞に限定するなど、品詞の情報を使うことで結果を改善できるかどうかも、余裕があれば試行錯誤する。"
      ]
    },
    {
      "cell_type": "markdown",
      "metadata": {
        "id": "2n4zl1W407u6"
      },
      "source": [
        "## 課題の手順(1)"
      ]
    },
    {
      "cell_type": "markdown",
      "metadata": {
        "id": "BhCnUa1syjI5"
      },
      "source": [
        "### Wikipediaのエントリをダウンロードして形態素解析を適用\n",
        "\n",
        "* Wikipediaの「人工知能」エントリをダウンロードする。\n",
        " * https://ja.wikipedia.org/wiki/%E4%BA%BA%E5%B7%A5%E7%9F%A5%E8%83%BD\n",
        "* そして、そこに含まれる段落（__`<p>`__タグで囲まれた範囲）を列挙する。\n",
        "* 各段落のテキストに形態素解析を適用する。\n",
        "* 形態素解析で得られたlemmaを半角スペースでつないで、エントリ全体をひとつの長い文字列にする。\n",
        " * text、つまり、単語に分たれたそのままの文字列を半角スペースでつなぐのではない。\n",
        " * lemma（原型に戻したもの）を半角スペースでつなぐこと。\n",
        " * posやtagを見て、不要そうな単語を適当に削除してもよい。\n"
      ]
    },
    {
      "cell_type": "code",
      "metadata": {
        "id": "HJ2gPVtnDZvk"
      },
      "source": [
        "# 「人工知能」エントリをダウンロードしてparserのインスタンスを作る。\n",
        "\n",
        "from bs4 import BeautifulSoup\n",
        "from urllib.request import urlopen\n",
        "\n",
        "url = 'https://ja.wikipedia.org/wiki/%E4%BA%BA%E5%B7%A5%E7%9F%A5%E8%83%BD'\n",
        "html = urlopen(url) \n",
        "soup = BeautifulSoup(html, 'html.parser')"
      ],
      "execution_count": 12,
      "outputs": []
    },
    {
      "cell_type": "code",
      "metadata": {
        "id": "3y5MSWBXDuE-"
      },
      "source": [
        "# 段落のテキストを取得する。\n",
        "\n",
        "lines = list()\n",
        "for para in soup.find_all('p'):\n",
        "  lines.append(para.text)"
      ],
      "execution_count": 13,
      "outputs": []
    },
    {
      "cell_type": "code",
      "metadata": {
        "id": "CafzVR3NHG0c",
        "outputId": "2d9491d3-f910-4a45-e19e-5e016dda4c56",
        "colab": {
          "base_uri": "https://localhost:8080/",
          "height": 1000
        }
      },
      "source": [
        "lines"
      ],
      "execution_count": 14,
      "outputs": [
        {
          "output_type": "execute_result",
          "data": {
            "text/plain": [
              "['人工知能（じんこうちのう、英: artificial intelligence、AI〈エーアイ〉）とは、「『計算（computation）』という概念と『コンピュータ（computer）』という道具を用いて『知能』を研究する計算機科学（computer science）の一分野」を指す語[1]。「言語の理解や推論、問題解決などの知的行動を人間に代わってコンピューターに行わせる技術」[2]、または、「計算機（コンピュータ）による知的な情報処理システムの設計や実現に関する研究分野」ともされる[3]。\\n',\n",
              " '『日本大百科全書(ニッポニカ)』の解説で、情報工学者・通信工学者の佐藤理史は次のように述べている[1]。\\n',\n",
              " '人間の知的能力をコンピュータ上で実現する、様々な技術・ソフトウェア・コンピュータシステム[4]。応用例は自然言語処理（機械翻訳・かな漢字変換・構文解析等）[5]、専門家の推論・判断を模倣するエキスパートシステム、画像データを解析して特定のパターンを検出・抽出したりする画像認識等がある[4]。1956年にダートマス会議でジョン・マッカーシーにより命名された。現在では、記号処理を用いた知能の記述を主体とする情報処理や研究でのアプローチという意味あいでも使われている。家庭用電気機械器具の制御システムやゲームソフトの思考ルーチンもこう呼ばれることもある。\\n',\n",
              " 'プログラミング言語 LISP による「ELIZA」というカウンセラーを模倣したプログラム（人工無脳）がしばしば引き合いに出されるが、計算機に人間の専門家の役割をさせようという「エキスパートシステム」と呼ばれる研究・情報処理システムの実現は、人間が暗黙に持つ常識の記述が問題となり、実用への利用が困難視されている。人工的な知能の実現へのアプローチとしては、「ファジィ理論」や「ニューラルネットワーク」などのようなアプローチも知られているが、従来の人工知能であるGOFAI (Good Old Fashioned AI) との差は記述の記号的明示性にある。その後「サポートベクターマシン」が注目を集めた。また、自らの経験を元に学習を行う強化学習という手法もある。「この宇宙において、知性とは最も強力な形質である（レイ・カーツワイル）」という言葉通り、知性を機械的に表現し実装するということは極めて重要な作業である。\\n',\n",
              " '2006年のディープラーニング（深層学習）の登場と2010年代以降のビッグデータの登場により、一過性の流行を超えて社会に浸透して行った。2016年から2017年にかけて、ディープラーニングを導入したAIが完全情報ゲームである囲碁などのトップ棋士、さらに不完全情報ゲームであるポーカーの世界トップクラスのプレイヤーも破り[6][7]、麻雀では「Microsoft Suphx (Super Phoenix)」がAIとして初めて十段に到達する[8]など、時代の最先端技術となった[9]。\\n',\n",
              " '第２次人工知能ブームでの人工知能は機械学習と呼ばれ、以下のようなものがある。\\n',\n",
              " '一方、計算知能（CI）は開発や学習を繰り返すことを基本としている（例えば、パラメータ調整、コネクショニズムのシステム）。学習は経験に基づく手法であり、非記号的AI、美しくないAI[注 1]、ソフトコンピューティングと関係している。その手法としては、以下のものがある。\\n',\n",
              " 'これらを統合した知的システムを作る試みもなされている。ACT-Rでは、エキスパートの推論ルールを、統計的学習を元にニューラルネットワークや生成規則を通して生成する。\\n',\n",
              " '第3次人工知能ブームでは、ディープラーニングが画像認識、テキスト解析、音声認識など様々な領域で第2次人工知能ブームの人工知能を上回る精度を出しており、ディープラーニングの研究が盛んに行われている。最近では、DQN、CNN、RNN、GANと様々なディープラーニングの派生がでて各分野で活躍している。特に、GAN（敵対的生成ネットワーク）は、ディープラーニングが認識や予測などの分野で成果をだしていることに加えて、画像の生成技術において大きな進化を見せている。森正弥はこれらの成果を背景に、従来の人工知能の応用分野が広がっており、Creative AIというコンテンツ生成を行っていく応用も始まっていると指摘している[10]。\\n',\n",
              " 'AIの構築が長い間試みられてきているが、シンボルグラウンディング問題とフレーム問題の解決が大きな壁となってきた。\\n',\n",
              " '17世紀初め、ルネ・デカルトは、動物の身体がただの複雑な機械であると提唱した（機械論）。ブレーズ・パスカルは1642年、最初の機械式計算機を製作した。チャールズ・バベッジとエイダ・ラブレスはプログラム可能な機械式計算機の開発を行った。\\n',\n",
              " 'バートランド・ラッセルとアルフレッド・ノース・ホワイトヘッドは『数学原理』を出版し、形式論理に革命をもたらした。ウォーレン・マカロックとウォルター・ピッツは「神経活動に内在するアイデアの論理計算」と題する論文を1943年に発表し、ニューラルネットワークの基礎を築いた。\\n',\n",
              " '1950年代になるとAIに関して活発な成果が出始めた。ジョン・マッカーシーはAIに関する最初の会議で「人工知能[注 2]」という用語を作り出した。彼はまたプログラミング言語LISPを開発した。知的ふるまいに関するテストを可能にする方法として、アラン・チューリングは「チューリングテスト」を導入した。ジョセフ・ワイゼンバウムはELIZAを構築した。これは来談者中心療法を行うおしゃべりロボット[注 3]である。\\n',\n",
              " '1956年に行われた、ダートマス会議開催の提案書において、人類史上、用語として初めて使用され、新たな分野として創立された。\\n',\n",
              " '1960年代と1970年代の間に、ジョエル・モーゼスは Macsyma（マクシマ）プログラム[注 4]中で積分問題での記号的推論のパワーを示した。マービン・ミンスキーとシーモア・パパートは『パーセプトロン』を出版して単純なニューラルネットの限界を示し、アラン・カルメラウアーはプログラミング言語 Prolog を開発した。テッド・ショートリッフェは医学的診断と療法におけるルールベースシステムを構築し、知識表現と推論のパワーを示した。これは、最初のエキスパートシステムと呼ばれることもある。ハンス・モラベックは、障害物があるコースを自律的に走行する最初のコンピューター制御の乗り物を開発した。\\n',\n",
              " '1980年代に、ニューラルネットワークはバックプロパゲーションアルゴリズムによって広く使われるようになった。\\n',\n",
              " 'また、この時代にロドニー・ブルックスが、知能には身体が必須との学説（身体性）を提唱した。\\n',\n",
              " '1990年代はAIの多くの分野で様々なアプリケーションが成果を上げた。特に、ボードゲームでは目覚ましく、1992年にIBMは世界チャンピオンに匹敵するバックギャモン専用コンピュータ・TDギャモンを開発し、IBMのチェス専用コンピュータ・ディープ・ブルーは、1997年5月にガルリ・カスパロフを打ち負かし、同年8月にはオセロで日本電気のオセロ専用コンピュータ・ロジステロに世界チャンピオンの村上健が敗れた[11]。国防高等研究計画局は、最初の湾岸戦争においてユニットをスケジューリングするのにAIを使い、これによって省かれたコストが1950年代以来のAI研究への政府の投資全額を上回ったことを明らかにした。日本では甘利俊一（日本学士院会員）らが精力的に啓蒙し、優秀な成果も発生したが、論理のブラックボックス性が指摘された。\\n',\n",
              " '1998年には非構造化データ形式の国際規格であるXMLが提唱されたが、ここからWeb上の非構造化データに対して、アプリケーション別に適した意味付けを適用し、処理を行わせる試みが開始された。同年に、W3Cのティム・バーナーズ＝リーにより、Webに知的処理を行わせるセマンティック・ウェブが提唱された。この技術はWeb上のデータに意味を付加して、コンピュータに知的処理を行わせる方法を国際的に規格化するものである。この規格には知識工学におけるオントロジーを表現するデータ形式のOWLも含まれていることから、かつて流行したエキスパートシステムの亜種であることが分かる。2000年代前半に規格化が完了しているが、Web開発者にとっては開発工数に見合うだけのメリットが見出せなかったことから、現在も普及はしていない。\\n',\n",
              " '日本においてはエキスパートシステムの流行の後にニューロファジィが流行した。しかし、研究が進むにつれて計算リソースやデータ量の不足，シンボルグラウンディング問題，フレーム問題に直面し、産業の在り方を激変させるようなAIに至ることは無く、ブームは終焉した。\\n',\n",
              " '1980年代に入って、大企業の研究所を中心に、知識工学に基づくエキスパートシステムが多数提案されるようになり、エキスパートシステムを専門とするAIベンチャーも次々と立ち上がった。その流行から生まれた究極のプロジェクトとして第五世代コンピュータが挙げられる。\\n',\n",
              " '1982年から1992年まで日本は国家プロジェクトとして570億円を費やして第五世代コンピュータの研究を進めるも、採用した知識工学的手法では膨大なルールの手入力が必要で、専門家間で専門知識の解釈が異なる場合には統一したルール化が行えない等の問題もあり、実用的なエキスパートシステムの実現には至らなかった。実現した成果物はPrologの命令を直接CPUのハードウェアの機構で解釈して高速に実行する、並列型のProlog専用機であるが、商業的な意味で応用先が全く見つからなかった。\\n',\n",
              " '1980年代後半から1990年代中頃にかけて、従来から電子制御の手法として用いられてきたON/OFF制御，PID制御，現代制御の問題を克服するため、知的制御が盛んに研究され、知識工学的なルールを用いるファジィ制御，データの特徴を学習して分類するニューラルネットワーク，その2つを融合したニューロファジィという手法が日本を中心にブームを迎えた。バブル期の高級路線に合わせて、白物家電製品でもセンサの個数と種類を大幅に増やし、多様なデータを元に運転を最適化するモデルが多数発売され始めた。\\n',\n",
              " 'ファジィについては、2018年までに日本が世界の1/5の特許を取得している事から、日本で特に大きなブームとなっていたことが分かっている[13]。現在の白物家電ではこの当時より更に発展した制御技術が用いられているが、既に当たり前のものになり、利用者には意識されなくなっている。ニューロファジィがブームになった1990年代には未だビッグデータという概念は無く（ブロードバンド接続普及後の2010年に初めて提唱された）、データマイニングとしての産業応用は行われなかった。しかし、ニューラルネットワークが一般人も巻き込んで流行した事例としては初めての事例であり、2010年代のディープラーニングブームの前史とも言える社会現象と言える。\\n',\n",
              " '松下電器が1985年頃から人間が持つような曖昧さを制御に活かすファジィ制御についての研究を開始し、1990年2月1日にファジィ洗濯機第1号である「愛妻号Dayファジィ」の発売に漕ぎ着けた。「愛妻号Dayファジィ」は従来よりも多数のセンサーで収集したデータに基づいて、柔軟に運転を最適化する洗濯機で、同種の洗濯機としては世界初であった。ファジィ制御という当時最先端の技術の導入がバブル期の高級路線にもマッチしたことから、ファジィは裏方の制御技術であるにも関わらず世間の大きな注目を集めた[13]。その流行の度合いは、1990年の新語・流行語大賞における新語部門の金賞で「ファジィ」が選ばれる程であった。その後に、松下電器はファジィルールの煩雑なチューニングを自動化したニューロファジィ制御を開発し、従来のファジィ理論の限界を突破して学会で評価されるだけでなく、白物家電への応用にも成功して更なるブームを巻き起こした。松下電器の試みの成功を受けて、他社も同様の知的制御を用いる製品を多数発売した。1990年代中頃までは、メーカー各社による一般向けの白物家電の売り文句として知的制御技術の名称が大々的に用いられており、洗濯機の製品名では「愛妻号DAYファジィ」，掃除機の分類としては「ニューロ・ファジィ掃除機」，エアコンの運転モードでは「ニューロ自動」などの名称が付与されていた[14][15][16][17][18][19]。\\n',\n",
              " 'ニューロ，ファジィ，ニューロファジィという手法は、従来の単純なオン・オフ制御や、対象を数式で客観的にモデル化する（この作業は対象が複雑な機構を持つ場合は極めて難しくなる）必要があるPID制御や現代制御等と比較して、人間の主観的な経験則や計測したデータの特徴が利用可能となるファジィ、ニューロ、ニューロファジィは開発工数を抑えながら、環境適応時の柔軟性を高くできるという利点があった[12]。しかし、開発者らの努力にも関わらず、計算能力や収集可能なデータ量の少なさから、既存の工作機械や家電製品の制御を多少改善する程度で限界を迎えた。理論的にもファジィ集合と深層学習が不可能なニューラルネットワークの組み合わせであり、計算リソースやデータが潤沢に与えられたとしても、認識精度の向上には限界があった。\\n',\n",
              " '以降、計算機の能力限界から理論の改善は遅々として進まず、目立った進展は無くなり、1990年代末には知的制御を搭載する白物家電が大多数になったことで、売り文句としてのブームは去った[20]。ブーム後は一般には意識されなくなったが、現在では裏方の技術として、家電製品のみならず、雨水の排水，駐車場，ビルの管理システムなどの社会インフラにも使われ、十分に性能と安定性が実証されている。2003年頃には、人間が設計したオントロジー（ファジィルールとして表現する）を利活用するネットワーク・インテリジェンスという分野に発展した[21]。\\n',\n",
              " '2005年、レイ・カーツワイルは著作で、「圧倒的な人工知能が知識・知能の点で人間を超越し、科学技術の進歩を担い世界を変革する技術的特異点（シンギュラリティ）が2045年にも訪れる」とする説を発表した。\\n',\n",
              " '2006年に、ジェフリー・ヒントンらの研究チームによりオートエンコーダによるニューラルネットワークの深層化手法が提案された（現在のディープラーニングの直接的な起源）。\\n',\n",
              " '2010年代に入り、膨大なデータを扱う研究開発のための環境が整備されたことで、AI関連の研究が再び大きく前進し始めた。\\n',\n",
              " '2010年に英国エコノミスト誌で「ビッグデータ」という用語が提唱された。同年に質問応答システムのワトソンが、クイズ番組「ジェパディ!」の練習戦で人間に勝利し、大きなニュースとなった[22]。2012年に画像処理コンテストでジェフリー・ヒントン氏のチームが従来手法からの大幅な精度改善を果たした上で優勝したことで、第三次AIブームが始まった。\\n',\n",
              " '2013年には国立情報学研究所[注 5]や富士通研究所の研究チームが開発した「東ロボくん」で東京大学入試の模擬試験に挑んだと発表した。数式の計算や単語の解析にあたる専用プログラムを使い、実際に受験生が臨んだ大学入試センター試験と東大の2次試験の問題を解読した。代々木ゼミナールの判定では「東大の合格は難しいが、私立大学には合格できる水準」だった[23]。\\n',\n",
              " '2014年には、日本の人工知能学者である齊藤元章により、特異点に先立ち、オートメーション化とコンピューター技術の進歩により衣食住の生産コストがゼロに限りなく近づくというプレ・シンギュラリティという概念も提唱された。\\n',\n",
              " 'ジェフ・ホーキンスが、実現に向けて研究を続けているが、著書『考える脳 考えるコンピューター』の中で自己連想記憶理論という独自の理論を展開している。\\n',\n",
              " '世界各国において、軍事・民間共に実用化に向け研究開発が進んでいるが、とくに無人戦闘機UCAVや無人自動車ロボットカーの開発が進行しているものの、2010年代にはまだ完全な自動化は試験的なものに留まった（UCAVは利用されているが、一部操作は地上から行っているものが多い）。\\n',\n",
              " 'ロボット向けとしては、CSAILのロドニー・ブルックスが提唱した包摂アーキテクチャという理論が登場している。これは従来型の「我思う、故に我あり」の知が先行するものではなく、体の神経ネットワークのみを用いて環境から学習する行動型システムを用いている。これに基づいたゲンギスと呼ばれる六本足のロボットは、いわゆる「脳」を持たないにも関わらず、まるで生きているかのように行動する。\\n',\n",
              " '2015年10月に米DeepMind社が作成した「AlphaGo」が人間のプロ囲碁棋士に勝利して以降はディープラーニングと呼ばれる手法が注目され、人工知能自体の研究の他にも、人工知能が雇用などに与える影響についても研究が進められている[24]。\\n',\n",
              " '2016年10月、DeepMindが、入力された情報の関連性を導き出し仮説に近いものを導き出す人工知能技術「ディファレンシャブル・ニューラル・コンピューター」を発表[25]し、同年11月、大量のデータが不要の「ワンショット学習」を可能にする深層学習システムを[26]、翌2017年6月、関係推論のような人間並みの認識能力を持つシステムを開発[27]。2017年8月には、記号接地問題(シンボルグラウンディング問題)を解決した[28]。\\n',\n",
              " '従来、AIには不向きとされてきた不完全情報ゲームのポーカーでもAIが人間に勝利するようになった。\\n',\n",
              " 'Googleの関係者はさらに野心的な取り組みとして単一のソフトウェアで数百万から１億のタスクを実行可能なAIを開発していると明らかにした。\\n',\n",
              " '2006年のディープラーニングの発明と、2010年以降のビッグデータ収集環境の整備、計算資源となるGPUの高性能化により、2012年にディープラーニングが画像処理コンテストで他の手法に圧倒的大差を付けて優勝したことで、技術的特異点という概念は急速に世界中の識者の注目を集め、現実味を持って受け止められるようになった。ディープラーニングの発明と急速な普及を受けて、研究開発の現場においては、デミス・ハサビス率いるDeepMindを筆頭に、Vicarious、IBM Cortical Learning Center、全脳アーキテクチャ、PEZY Computing、OpenCog、GoodAI、nnaisense、IBM SyNAPSE等、汎用人工知能（AGI）を開発するプロジェクトが数多く立ち上げられている。これらの研究開発の現場では、脳をリバースエンジニアリングして構築された神経科学と機械学習を組み合わせるアプローチが有望とされている[29]。結果として、Hierarchical Temporal Memory (HTM) 理論、Complementary Learning Systems (CLS) 理論の更新版等、単一のタスクのみを扱うディープラーニングから更に一歩進んだ、複数のタスクを同時に扱う理論が提唱され始めている。\\n',\n",
              " '3Dゲームのような仮想空間でモデルを動かし現実世界のことを高速に学ばせるといったことも大きな成果を上げている（シミュレーションによる学習）。\\n',\n",
              " 'また、数は少ないがAGIだけでは知能の再現は不可能と考えて、身体知を再現するために、全人体シミュレーションが必要だとする研究者やより生物に近い振る舞いを見せるAL（人工生命）の作成に挑む研究者、知能と密接な関係にあると思われる意識のデジタル的再現（人工意識）に挑戦する研究者もいる。\\n',\n",
              " 'リーズナブルなコストで大量の計算リソースが手に入るようになったことで、ビッグデータが出現し、企業が膨大なデータの活用に極めて強い関心を寄せており、全世界的に民間企業主導で莫大な投資を行って人工知能に関する研究開発競争が展開されている。また、2011年のD-Wave Systemsによる量子アニーリング方式の製品化を嚆矢として、量子コンピュータという超々並列処理が可能な次世代のITインフラが急速に実用化され始めた事で、人工知能の高速化にも深く関わる組み合わせ最適化問題をリアルタイムに解決できる環境が整備され始めている。この動向を受ける形で、2016年頃から、一般向けのニュース番組でも人工知能の研究開発や新しいサービス展開や量子コンピュータに関する報道が目立つようになった。\\n',\n",
              " '2017年にはイーロン・マスクが、急速に進化し続ける人工知能に対して人間が遅れを取らないようにするために、人間の脳を機械に接続するブレイン・マシン・インターフェースを研究開発するニューラ・リンク社を立ち上げていたことを公表し、世界中で話題になった。ブレイン・マシン・インターフェースにより、人のインターネットが出現する事が予測されている。\\n',\n",
              " '2017年10月にはジェフリー・ヒントンにより要素間の相対的な位置関係まで含めて学習できるカプセルネットワークが提唱された[30]。\\n',\n",
              " '2018年3月16日の国際大学GLOCOMの提言によると、課題解決型のAIを活用する事で社会変革に寄与できると分析されている[31]。\\n',\n",
              " '2018年8月、Open AIが好奇心を実装しノーゲームスコア、ノーゴール、無報酬で目的なき探索を行うAIを公表。これまでのAIで最も人間らしいという。\\n[32]\\n',\n",
              " '2018年9月、MITリンカーン研究所は従来ブラックボックスであったニューラルネットワークの推論をどのような段階を経て識別したのかが明確に分かるアーキテクチャを開発した。[33]\\n',\n",
              " '2019年に入るとこれまで深層学習では困難とされてきた言語処理において大きな進展があり、Wikipediaなどを使用した読解テストで人間を上回るに至った。(BERT、ROBERT。)[34]\\n',\n",
              " 'アメリカでは2013年に時の大統領バラク・オバマが脳研究プロジェクト「BRAIN Initiative」を発表。\\n',\n",
              " 'Googleはアレン脳科学研究所と連携し脳スキャンによって生まれた大量のデータを処理するためのソフトウェアを開発している。2016年の時点で、Googleが管理しているBrainmapのデータ量はすでに1Zettaバイトに達しているという[35][36]。Googleは、ドイツのマックスプランク研究所とも共同研究を始めており、脳の電子顕微鏡写真から神経回路を再構成するという研究を行っている。[37]\\n',\n",
              " '中国では2016年の第13次5カ年計画からAIを国家プロジェクトに位置づけ[38]、脳研究プロジェクトとして中国脳計画（英語版）も立ち上げ[39]、官民一体でAIの研究開発を推進してる[40]。中国の教育機関では18歳以下の天才児を集めて公然とAI兵器の開発に投じられてもいる[41]。マサチューセッツ工科大学（MIT）のエリック・ブリニョルフソン（英語版）教授や情報技術イノベーション財団（英語版）などによれば、中国ではプライバシー意識の強い欧米と比較してAIの研究や新技術の実験をしやすい環境にあるとされている[42][43][44]。日本でスーパーコンピュータの研究開発を推進している齊藤元章もAIの開発において中国がリードする可能性を主張している[45]。世界のディープラーニング用計算機の4分の3は中国が占めてるともされる[46]。米国政府によれば、2013年からディープラーニングに関する論文数では中国が米国を超えて世界一となっている[47]。FRVT（英語版）やImageNet（英語版）などAIの世界的な大会でも中国勢が上位を独占している[48][49]。大手AI企業Google、マイクロソフト、アップルなどの幹部でもあった台湾系アメリカ人科学者の李開復（英語版）は中国がAIで覇権を握りつつあるとする『AI超大国：中国、シリコンバレーと新世界秩序（英語版）』を著してアメリカの政界やメディアなどが取り上げた[50][51]。\\n',\n",
              " 'フランス大統領エマニュエル・マクロンはAI分野の開発支援に向け5年で15億ドル（約1600億円）を支出すると宣言し[52]、AI研究所をパリに開き、フェイスブック、グーグル、サムスン、DeepMind、富士通などを招致した。イギリスともAI研究における長期的な連携も決定されている。\\nEU全体としても、「Horizon 2020」計画を通じて、215億ユーロが投じられる方向。\\n韓国は、20億ドルを2022年までに投資をする。6つのAI機関を設立し褒賞制度も作られた。目標は2022年までにAIの世界トップ4に入ることだという。\\n[53]\\n',\n",
              " '日経新聞調べによると、国別のAI研究論文数は1位米国、2位中国、3位インドで日本は7位だった[54]。\\n',\n",
              " 'プログラミング言語は、C++のほかPythonが広く使われている。\\n深層学習を利用するには微分、線形代数、確率・統計といった大学レベル以上の数学知識が必要となる。\\n脳シミュレーションを行うには脳神経科学の知識も重要となる。\\n',\n",
              " '人工知能学会の松尾豊は、著書『人工知能は人間を超えるか』内に於いて、人間に対して反乱を起こす可能性を否定しているが、人工知能の危険性について、警鐘を鳴らしている著名人もいる。\\n',\n",
              " 'MITのローレン・R・グレアム（英語版）教授は莫大な資金力と人権の弾圧を併せ持つ中華人民共和国が人工知能の開発競争で成功すれば民主的な国家が技術革新に優位という既成概念が変わると述べ[42]、「ディープラーニングの父」の一人と呼ばれているヨシュア・ベンジオ（英語版）は中国が市民の監視や政治目的で人工知能を利用していることに警鐘を鳴らしており[58][59]、海外の人権団体やメディアなどは中国に代表される人工知能で人権を抑圧する政治体制を「デジタル権威主義」[60][61]「デジタル独裁」[62][63][64]「デジタル警察国家」[65]「デジタル全体主義」[66]「AI独裁」[67]と呼んだ。中国ではヘルメットや帽子に埋め込んだセンサーから国民の脳波と感情を人工知能で監視する政府支援のプロジェクトが推し進められ[68][69][70][71]、ネット検閲[72][73]と官僚や刑務所の囚人から横断歩道の歩行者まで監視を人工知能に行わせ[74][75][76][77][78][79]、監視カメラと警察のサングラス型スマートグラス[80]やロボット[81]に顔認識システム（天網）を搭載するなど人工知能による監視社会・管理社会化が行われている[82][83][84][85]。新疆ウイグル自治区では監視カメラや携帯電話などから収集した個人情報を人工知能で解析するプレディクティブ・ポリシング（英語版）や人種プロファイリングで選別した少数民族のウイグル族を法的手続きを経ずに2017年6月時点で約1万5千人もテロや犯罪を犯す可能性があるとして新疆ウイグル再教育キャンプに予防拘禁しているとする中国政府の内部文書であるチャイナ・ケーブル（英語版）が報じられており[86][87][88]、AIを使った政府による特定の民族の選別やコンピュータが人間を強制収容所に送る人権侵害は前例がないとして国際問題になっている[89][90]。香港では、中国本土と同様の人工知能による監視社会化を恐れ[91]、2019年-2020年香港民主化デモが起きた際は監視カメラを搭載したスマート街灯が市民に次々と破壊された[92][93]。中国はAI監視技術を中東・アジア・アフリカなど世界各国に輸出しており[94][95][96][97][98][60]、国際連合の専門機関である国際電気通信連合（ITU）を通じて中国がAI監視技術の国際標準化も主導してることから中国のような人権侵害が世界に拡散することが人権団体などから懸念されている[99][100]。\\n',\n",
              " '中国の社会信用システムに代表されるような、人工知能でビッグデータを活用して人々の適性を決める制度は、社会階層間の格差を固定化することに繋がるとする懸念があり[101]、欧州連合では2018年5月から、人工知能のビッグデータ分析のみによる、雇用や融資での差別を認めないEU一般データ保護規則が施行された[102]。\\n',\n",
              " 'マサチューセッツ工科大学が顔認識システムの精度でMicrosoftと中国のMegviiは9割超でIBMは8割に達したのに対してAmazonは6割で人種差別的なバイアスがあるとする研究を発表した際はAmazonと論争になった[103]。\\n',\n",
              " '主要国の軍隊は、ミサイル防衛の分野での自動化を試みている。アメリカ海軍は完全自動の防空システム「ファランクスCIWS」を導入しガトリング砲により対艦ミサイルを破壊できる。イスラエル軍は対空迎撃ミサイルシステム「アイアンドーム」を所有し、ガザ地区との境界線には標的を自動検知するガーディアムやサムソン RCWSを稼働させて複数の人間を射殺している[104][105]。今後AIは新しい軍事能力を生み、軍の指揮、訓練、部隊の展開を変え、戦争を一変させその変化は大国間の軍事バランスを決めることになるとの主張もある[106]。P-1 (哨戒機)のように戦闘指揮システムに支援用に搭載されることもある。\\n',\n",
              " '2016年6月、米シンシナティ大学の研究チームが開発した「ALPHA」は、元米軍パイロットとの模擬空戦で一方的に勝利したと発表された。AIプログラムは遺伝的アルゴリズムとファジィ制御を使用しており、アルゴリズムの動作に高い処理能力は必要とせず、Raspberry Pi上で動作可能[107][108]。アメリカ合衆国国防総省は、人道上の観点から人間の判断を介さない自律殺傷兵器の開発禁止令を2012年に出し、2017年にはこれを恒久的なものにした[109]。\\n',\n",
              " '人工知能に人間が勝ち残る力として、OODAループが注目されている[110]。\\n',\n",
              " '一部の科学者やハイテク企業の首脳らは、AIの軍事利用により世界の不安定化は加速すると主張している。2015年にブエノスアイレスで開催された人工知能国際合同会議で、スティーブン・ホーキング、アメリカ宇宙ベンチャー企業のスペースX創業者のイーロン・マスク、アップル社の共同創業者のスティーブ・ウォズニアックら、科学者と企業家らにより公開書簡が出されたが、そこには自動操縦による無人爆撃機や銃火器を操る人型ロボットなどAI搭載型兵器は、火薬、核兵器に続く第3の革命ととらえられ、うち一部は数年以内に実用可能となると予測。国家の不安定化、暗殺、抑圧、特定の民族への選別攻撃などに利用され、兵器の開発競争が人類にとって有益なものとはならないと記された。同年4月にはハーバード大学ロースクールと国際人権団体であるヒューマン・ライツ・ウォッチが、自動操縦型武器の禁止を求めている[111]。2017年11月には国際連合でAIの軍事利用に関する初の公式専門家会議が行われ[112]、2019年8月に同会議はAI兵器の運用をめぐる事実上初の国際ルールを採択するも法的拘束力は盛り込まれなかった[113]。\\n',\n",
              " '新冷戦や米中冷戦の状態にあるとも評されている米国・中国・ロシアは核開発に匹敵する開発競争を人工知能の軍事利用をめぐって行っている[114]。中国は2017年6月に119機のドローン群の自律飛行実験で前年2016年に103機の飛行実験に成功した米軍の記録を更新して翌2018年5月には北米の都市を爆撃するCGの映像も発表し[115]、同年6月には56隻の自律無人艇を使った世界最大規模の試験[116]を行うなどAIの軍事利用の技術（特にスウォームと呼ばれる大量の徘徊型兵器などの自律兵器の統合運用）で中国が急速に進展しており、アメリカに追い付く可能性があることについて懸念しアメリカ側では将来に備える必要があるとの主張もされている[106]。中国の軍用AI開発はアメリカの軍部や政界に危機感を与え、2019年3月にジョセフ・ダンフォード統合参謀本部議長やパトリック・シャナハン国防長官代行、ドナルド・トランプ大統領は中国でのAI研究拠点の設立などで中国人民解放軍に協力しているとGoogleを非難し[117][118]、GoogleのCEOサンダー・ピチャイはダンフォードやトランプ大統領と面談して中国のAI研究拠点の成果は中国に限らず全ての人々に開放されていると釈明する事態になった[119]。アメリカではGoogleが米軍のAIの軍事利用に協力する極秘計画「メイヴン計画」を行っていたことがGoogleの社員に暴露されており[120]、2018年12月のアメリカ議会の公聴会では、同様に暴露された中国政府に協力する秘密計画「ドラゴンフライ計画（英語版）」とともに、人工知能を用いた兵器開発や人権侵害は拒否するとGoogleが誓った同年6月の人工知能開発6原則との整合性で追及を受けた[121]。中国軍の戦闘機J-20の標的選択支援アルゴリズムにグーグルのAI研究者が関わったと報道された際は「AIではなく、統計学的なモデリング」と否定した[122]。また、Microsoftが中国軍の教育機関とAIの共同研究を発表した際も同様に波紋を呼んだ[123]。2019年11月にマーク・エスパー国防長官は中国がAIによって新しい監視国家を構築しているだけでなく、中東で翼竜や彩虹など無人攻撃機を大量に拡散させてAIで自律的に攻撃するドローン兵器も販売していることに警鐘を鳴らした[124]。\\n',\n",
              " 'ロシアと中国は既に実用化してるとされるハッキングの自動化の他[125]、特定の個人を攻撃したりディープフェイクでなりすましたり、ボット投稿により世論を操る等の懸念が挙げられている[126]。\\n',\n",
              " 'オックスフォード大学のマイケル・オズボーン博士が2013年に発表した論文によれば、人工知能やロボット等による代替可能性が高い労働人口が日本で約49%いること（アメリカは約47%、イギリスは約35%）、2030年代までにファストフード店で料理をする従業員が、ロボットやAIに取って代わられる可能性が81%と高いことを指摘されている[127][128][129]。しかし、この論文に対して、実験室レベルで自動化が出来る仕事も含まれているため、過大に推計されているとの批判もある。実際に2016年10月、マイケル・オズボーンが来日した際、経済産業研究所の岩本晃一が「どのような意図、いかなる前提で試算したのか」と質問したところ、「技術的な可能性を示しただけ、雇用増の部分は一切考慮していない。」との回答が返ってきている。例えれば、現在既に将棋AIが実験室レベルで出現しているので、現時点で世界中の将棋棋士全員が既にAIに代替されている可能性があると示しているに過ぎないのである。\\n',\n",
              " 'そして、職業を構成するタスク（業務）単位でみた場合に70%超えのタスクが自動化される職業は9％程度（日本の場合は7%程度）にとどまるとの研究結果もある。またAIや機械化によって雇用が奪われるという主張もあるが、それらの技術によってタスク量が減少するが、AIや機械化を導入したり、維持したりする仕事やそれらの技術により新たな仕事が生まれることにより、雇用が生み出される可能性もある。しかし同時に、中程度の技能を有するルーティン業務が減少し、専門的な技能が求められない低スキルの仕事と高度な技能が求められる仕事へと2極化していき、経済格差が拡大していくとの予測もある[130][131][132]。\\n',\n",
              " 'Googleは2019年3月、人工知能プロジェクトを倫理面で指導するために哲学者・政策立案者・経済学者・テクノロジスト等で構成される、AI倫理委員会を設置すると発表した[133]。しかし倫理委員会には反科学・反マイノリティ・地球温暖化懐疑論等を支持する人物も含まれており、Google社員らは解任を要請した[133]。4月4日、Googleは倫理委員会が「期待どおりに機能できないことが判明した」という理由で、委員会の解散を発表した[133]。\\n',\n",
              " '東洋哲学をAIに吸収させるという三宅陽一郎のテーマに応じて、井口尊仁は「鳥居（TORII）」という自分のプロジェクトを挙げ、「われわれはアニミズムで、あらゆるものに霊的存在を見いだす文化があります」と三宅および立石従寛に語る[134]。アニミズム的人工知能論は現代アートや、「禅の悟りをどうやってAIにやらせるか」を論じた三宅の『人工知能のための哲学塾 東洋哲学篇』にも通じている[134]。\\n',\n",
              " '元Googleエンジニアのアンソニー゠レバンドウスキーは2017年、AIを神とする宗教団体「Way of the Future (未来の道)」を創立している[135]。団体の使命は「人工知能（AI）に基づいたGodheadの実現を促進し開発すること、そしてGodheadの理解と崇拝を通して社会をより良くすることに貢献すること」と抽象的に表現されており、多くの海外メディアはSF映画や歴史などと関連付けて報道した[135]。UberとGoogleのWaymoは、レバンドウスキーが自動運転に関する機密情報を盗用したことを訴え裁判を行っている一方、レバンドウスキーはUberの元CEO（トラビス゠カラニック）に対し「ボットひとつずつ、我々は世界を征服するんだ」と発言するなど、野心的な振る舞いを示している[135]。\\n',\n",
              " '相愛大学人文学部教授の釈徹宗は「哲学や思想や文学と、宗教や霊性論との線引きも不明瞭になってきています。」と述べている[136]。哲学者・倫理学者である内田樹によれば、「本物の哲学者はみんな死者と幽霊と異界の話をしている。」という[137]。\\n',\n",
              " '発明家レイ・カーツワイルが言うには、哲学者ジョン・サールが提起した強いAIと弱いAIの論争は、AIの哲学議論でホットな話題である[138]。哲学者ジョン・サールおよびダニエル・デネットによると、サールの「中国語の部屋」やネド・ブロックらの「中国脳」といった機能主義に批判的な思考実験は、真の意識が形式論理システムによって実現できないと主張している[139][140]。\\n',\n",
              " '『科学を語るとはどういうことか』において科学者の須藤靖は、科学についての哲学的考察（科学哲学）が、実際には科学と「断絶」していることを指摘している[141]。また、「心」や「意識」という問題を解明してきた脳科学・計算機科学（コンピュータ科学）・人工知能研究開発等に関連して、科学者のフランシス・クリックは「哲学者たちは2000年という長い間、ほとんど何も成果を残してこなかった」と批判している[142]。こうした観点において、哲学は「二流どころか三流」の学問・科学に過ぎない、と評価されている[142]。脳科学者の澤口俊之は、クリックに賛同し「これは私のため息まじりの愚痴になるが、哲学者や思想家というのはつくづく『暇』だと思う」と述べている[142]。実際、哲学は暇（スコレー）から始まったとアリストテレスが伝えており、上記のような否定的発言も的外れではないと、科学哲学者の野家啓一は言う[142]。\\n',\n",
              " '哲学者は、科学とは違う日常的言語で「存在」や「宇宙」を語ろうとしてきた[143]。しかし理論物理学者ディラックは、哲学者をことさら信用していなかった[144]。ディラックが見たところ、ウィトゲンシュタインを含め哲学者たちは量子力学どころか、パスカル以降の「確率」の概念さえ理解していない[145]。非科学的な日常的言語をいくら使っても、正確な意思疎通を行うことはできないというのが、ディラックの考えだとされている[144]。\\n',\n",
              " '生命情報科学者・神経科学者の合原一幸編著『人工知能はこうして創られる』によれば、AIの急激な発展に伴って「技術的特異点、シンギュラリティ」の思想や哲学が一部で論じられているが、特異点と言っても「数学」的な話ではない[146]。前掲書は「そもそもシンギュラリティと関係した議論における『人間の脳を超える』という言明自体がうまく定義できていない」と記している[147]。確かに、脳を「デジタル情報処理システム」として捉える観点から見れば、シンギュラリティは起こり得るかもしれない[148]。しかし実際の脳はそのような単純なシステムではなく、デジタルとアナログが融合した「ハイブリッド系」であることが、脳神経科学の観察結果で示されている[148]。前掲書によると、神経膜では様々な「ノイズ」が存在し、このノイズ付きのアナログ量によって脳内のニューロンの「カオス」が生み出されているため、このような状況をデジタルで記述することは「極めて困難」と考えられている[149]。\\n',\n",
              " '数学者の田中一之は「一般の哲学者は、論理の専門家ではない」と述べており[150]、計算機科学者（コンピュータ科学者）・電子工学者のトルケル゠フランセーンは、哲学者たちによる数学的な言及の多くが「ひどい誤解や自由連想に基づいている」と批判している[151]。田中によると、ゲーデルの不完全性定理について哲学者が書いた本が、フランセーンの本と同じ頃に書店販売されていたが、哲学者の本は専門誌によって酷評された[150]。その本は全体として読みやすく一般読者からの評判は高かったが、ゲーデルの証明の核（不動点定理）について、根本的な勘違いをしたまま説明していた[150]。同様の間違いは他の入門書などにも見られる[150]。フランセーンによれば、不完全性定理に関する誤解・誤用は哲学をはじめ一般に起こっており[151]、宗教や神学でも乱用されている[152][153]。1931年にゲーデルが示したのは、「特定の形式体系\\n\\n\\n\\nP\\n\\n\\n{\\\\displaystyle P}\\n\\nにおいて決定不能な命題の存在」であり、一般的な意味での「不完全性」についての定理ではない[154]。\\n',\n",
              " '\\n科学と哲学\\n',\n",
              " '『科学を語るとはどういうことか』によると、学問の扱う問題が整理され分化したことで、科学と哲学もそれぞれ異なる問題を研究するようになった[155]。これは「研究分野の細分化そのもの」であり、「立派な進歩」だと宇宙物理学者の須藤は言う[155]。一方で、科学哲学者・倫理学者の伊勢田哲治は、様々な要素を含んだ「大きな」問題を哲学的・統一的に扱う、かつての天文学について言及した[155]。「その後の天文学ではその〔哲学的〕問題を扱わなくなりましたし、今の物理学でもそういう問題を扱わない」と述べた伊勢田に対し、須藤は「その通りですが、それ自体に何か問題があるのでしょうか」と返している[155]。須藤は次のようにも述べた[141]。\\n',\n",
              " '私は科学哲学が物理学者に対して何らかの助言をしたなどということは聞いたことがないし、おそらく科学哲学と一般の科学者はほとんど没交渉であると言って差し支えない状況なのであろう。… 科学哲学者と科学者の価値観の溝が深いことは確実だ。\\n',\n",
              " '須藤は、哲学的に論じられている「原因」という言葉を取り上げて、「原因という言葉を具体的に定義しない限りそれ以上の議論は不可能です」[157]と述べており、「哲学者が興味を持っている因果の定義が物理学者とは違うことは確かでしょう」としている[158]。伊勢田は、「思った以上に物理学者と哲学者のものの見え方の違いというのは大きいのかもしれません」と述べている[159]。\\n',\n",
              " '対談で須藤は「これまでけっこう長時間議論を行ってきました。おかげで、意見の違いは明らかになったとは思いますが、果たして何か決着がつくのでしょうか？」と発言し、伊勢田は「決着はつかないでしょうね」と答えている[160]。\\n',\n",
              " '学術書・辞事典\\n',\n",
              " '報道\\n',\n",
              " '活用事例\\n',\n",
              " '研究課題\\n',\n",
              " '関連分野\\n',\n",
              " 'その他の関連項目\\n',\n",
              " '応用\\n',\n",
              " '人工知能の未来と関わる項目\\n']"
            ]
          },
          "metadata": {
            "tags": []
          },
          "execution_count": 14
        }
      ]
    },
    {
      "cell_type": "code",
      "metadata": {
        "id": "NZXP8_h7v-Yb",
        "outputId": "57a4c670-94f5-406f-dbe2-db0872084ecb",
        "colab": {
          "base_uri": "https://localhost:8080/",
          "height": 1000
        }
      },
      "source": [
        "# Sudachiで形態素解析し、分かち書き後のlemmaを取得する。\n",
        "\n",
        "x_pos = ['SPACE', 'PUNCT', 'AUX', 'ADP', 'SYM', 'DET', 'SCONJ', 'PART']\n",
        "tokens = list()\n",
        "for line in lines[:10]:\n",
        "  for token in nlp(line):\n",
        "    pos = token.pos_\n",
        "    if not pos in x_pos:\n",
        "      print(f'text:{token.text}, pos:{token.pos_}, tag:{token.tag_}, lemma:{token.lemma_}')\n",
        "      tokens.append(token.lemma_)"
      ],
      "execution_count": 15,
      "outputs": [
        {
          "output_type": "stream",
          "text": [
            "text:人工, pos:NOUN, tag:名詞-普通名詞-一般, lemma:人工\n",
            "text:知能, pos:NOUN, tag:名詞-普通名詞-一般, lemma:知能\n",
            "text:じん, pos:NOUN, tag:名詞-普通名詞-一般, lemma:じん\n",
            "text:こうち, pos:NOUN, tag:名詞-普通名詞-形状詞可能, lemma:こうち\n",
            "text:英, pos:NOUN, tag:名詞-普通名詞-一般, lemma:英\n",
            "text:artificial intelligence, pos:PROPN, tag:名詞-固有名詞-一般, lemma:artificial intelligence\n",
            "text:AI, pos:NOUN, tag:名詞-普通名詞-一般, lemma:AI\n",
            "text:エーアイ, pos:PROPN, tag:名詞-固有名詞-一般, lemma:エーアイ\n",
            "text:計算, pos:NOUN, tag:名詞-普通名詞-サ変可能, lemma:計算\n",
            "text:computation, pos:NOUN, tag:名詞-普通名詞-一般, lemma:computation\n",
            "text:いう, pos:VERB, tag:動詞-一般, lemma:いう\n",
            "text:概念, pos:NOUN, tag:名詞-普通名詞-一般, lemma:概念\n",
            "text:コンピュータ, pos:NOUN, tag:名詞-普通名詞-一般, lemma:コンピュータ\n",
            "text:computer, pos:NOUN, tag:名詞-普通名詞-一般, lemma:Computer\n",
            "text:いう, pos:VERB, tag:動詞-一般, lemma:いう\n",
            "text:道具, pos:NOUN, tag:名詞-普通名詞-一般, lemma:道具\n",
            "text:用い, pos:VERB, tag:動詞-一般, lemma:用いる\n",
            "text:知能, pos:NOUN, tag:名詞-普通名詞-一般, lemma:知能\n",
            "text:研究, pos:VERB, tag:名詞-普通名詞-サ変可能, lemma:研究\n",
            "text:計算, pos:NOUN, tag:名詞-普通名詞-サ変可能, lemma:計算\n",
            "text:機, pos:NOUN, tag:名詞-普通名詞-助数詞可能, lemma:機\n",
            "text:科学, pos:NOUN, tag:名詞-普通名詞-サ変可能, lemma:科学\n",
            "text:computer science, pos:PROPN, tag:名詞-固有名詞-一般, lemma:computer science\n",
            "text:一, pos:NUM, tag:名詞-数詞, lemma:一\n",
            "text:分野, pos:NOUN, tag:名詞-普通名詞-一般, lemma:分野\n",
            "text:指す, pos:VERB, tag:動詞-一般, lemma:指す\n",
            "text:語, pos:NOUN, tag:名詞-普通名詞-一般, lemma:語\n",
            "text:1, pos:NUM, tag:名詞-数詞, lemma:1\n",
            "text:言語, pos:NOUN, tag:名詞-普通名詞-一般, lemma:言語\n",
            "text:理解, pos:NOUN, tag:名詞-普通名詞-サ変可能, lemma:理解\n",
            "text:推論, pos:NOUN, tag:名詞-普通名詞-サ変可能, lemma:推論\n",
            "text:問題, pos:NOUN, tag:名詞-普通名詞-一般, lemma:問題\n",
            "text:解決, pos:NOUN, tag:名詞-普通名詞-サ変可能, lemma:解決\n",
            "text:知的, pos:ADJ, tag:形状詞-一般, lemma:知的\n",
            "text:行動, pos:NOUN, tag:名詞-普通名詞-サ変可能, lemma:行動\n",
            "text:人間, pos:NOUN, tag:名詞-普通名詞-一般, lemma:人間\n",
            "text:代わっ, pos:VERB, tag:動詞-一般, lemma:代わる\n",
            "text:コンピューター, pos:NOUN, tag:名詞-普通名詞-一般, lemma:コンピューター\n",
            "text:行わ, pos:VERB, tag:動詞-一般, lemma:行う\n",
            "text:技術, pos:NOUN, tag:名詞-普通名詞-一般, lemma:技術\n",
            "text:2, pos:NUM, tag:名詞-数詞, lemma:2\n",
            "text:また, pos:CCONJ, tag:接続詞, lemma:また\n",
            "text:計算, pos:NOUN, tag:名詞-普通名詞-サ変可能, lemma:計算\n",
            "text:機, pos:NOUN, tag:名詞-普通名詞-助数詞可能, lemma:機\n",
            "text:コンピュータ, pos:NOUN, tag:名詞-普通名詞-一般, lemma:コンピュータ\n",
            "text:よる, pos:VERB, tag:動詞-一般, lemma:よる\n",
            "text:知的, pos:ADJ, tag:形状詞-一般, lemma:知的\n",
            "text:情報, pos:NOUN, tag:名詞-普通名詞-一般, lemma:情報\n",
            "text:処理, pos:NOUN, tag:名詞-普通名詞-サ変可能, lemma:処理\n",
            "text:システム, pos:NOUN, tag:名詞-普通名詞-一般, lemma:システム\n",
            "text:設計, pos:NOUN, tag:名詞-普通名詞-サ変可能, lemma:設計\n",
            "text:実現, pos:NOUN, tag:名詞-普通名詞-サ変可能, lemma:実現\n",
            "text:関する, pos:VERB, tag:動詞-一般, lemma:関する\n",
            "text:研究, pos:NOUN, tag:名詞-普通名詞-サ変可能, lemma:研究\n",
            "text:分野, pos:NOUN, tag:名詞-普通名詞-一般, lemma:分野\n",
            "text:さ, pos:VERB, tag:動詞-非自立可能, lemma:する\n",
            "text:3, pos:NUM, tag:名詞-数詞, lemma:3\n",
            "text:日本, pos:PROPN, tag:名詞-固有名詞-地名-国, lemma:日本\n",
            "text:大, pos:NOUN, tag:接尾辞-名詞的-一般, lemma:大\n",
            "text:百科, pos:NOUN, tag:名詞-普通名詞-一般, lemma:百科\n",
            "text:全書, pos:NOUN, tag:名詞-普通名詞-一般, lemma:全書\n",
            "text:ニッポニカ, pos:NOUN, tag:名詞-普通名詞-一般, lemma:ニッポニカ\n",
            "text:解説, pos:NOUN, tag:名詞-普通名詞-サ変可能, lemma:解説\n",
            "text:情報, pos:NOUN, tag:名詞-普通名詞-一般, lemma:情報\n",
            "text:工学, pos:NOUN, tag:名詞-普通名詞-一般, lemma:工学\n",
            "text:者, pos:NOUN, tag:接尾辞-名詞的-一般, lemma:者\n",
            "text:通信, pos:NOUN, tag:名詞-普通名詞-サ変可能, lemma:通信\n",
            "text:工学, pos:NOUN, tag:名詞-普通名詞-一般, lemma:工学\n",
            "text:者, pos:NOUN, tag:接尾辞-名詞的-一般, lemma:者\n",
            "text:佐藤, pos:PROPN, tag:名詞-固有名詞-人名-姓, lemma:佐藤\n",
            "text:理史, pos:PROPN, tag:名詞-固有名詞-人名-名, lemma:理史\n",
            "text:次, pos:NOUN, tag:名詞-普通名詞-一般, lemma:次\n",
            "text:よう, pos:NOUN, tag:形状詞-助動詞語幹, lemma:よう\n",
            "text:述べ, pos:VERB, tag:動詞-一般, lemma:述べる\n",
            "text:1, pos:NUM, tag:名詞-数詞, lemma:1\n",
            "text:人間, pos:NOUN, tag:名詞-普通名詞-一般, lemma:人間\n",
            "text:知的, pos:ADJ, tag:形状詞-一般, lemma:知的\n",
            "text:能力, pos:NOUN, tag:名詞-普通名詞-一般, lemma:能力\n",
            "text:コンピュータ, pos:NOUN, tag:名詞-普通名詞-一般, lemma:コンピュータ\n",
            "text:上, pos:NOUN, tag:接尾辞-名詞的-副詞可能, lemma:上\n",
            "text:実現, pos:VERB, tag:名詞-普通名詞-サ変可能, lemma:実現\n",
            "text:様々, pos:ADJ, tag:形状詞-一般, lemma:様々\n",
            "text:技術, pos:NOUN, tag:名詞-普通名詞-一般, lemma:技術\n",
            "text:ソフトウェア, pos:NOUN, tag:名詞-普通名詞-一般, lemma:ソフトウェア\n",
            "text:コンピュータ, pos:NOUN, tag:名詞-普通名詞-一般, lemma:コンピュータ\n",
            "text:システム, pos:NOUN, tag:名詞-普通名詞-一般, lemma:システム\n",
            "text:4, pos:NUM, tag:名詞-数詞, lemma:4\n",
            "text:応用, pos:NOUN, tag:名詞-普通名詞-サ変可能, lemma:応用\n",
            "text:例, pos:NOUN, tag:名詞-普通名詞-一般, lemma:例\n",
            "text:自然, pos:NOUN, tag:名詞-普通名詞-一般, lemma:自然\n",
            "text:言語, pos:NOUN, tag:名詞-普通名詞-一般, lemma:言語\n",
            "text:処理, pos:NOUN, tag:名詞-普通名詞-サ変可能, lemma:処理\n",
            "text:機械, pos:NOUN, tag:名詞-普通名詞-一般, lemma:機械\n",
            "text:翻訳, pos:NOUN, tag:名詞-普通名詞-サ変可能, lemma:翻訳\n",
            "text:かな, pos:NOUN, tag:名詞-普通名詞-一般, lemma:かな\n",
            "text:漢字, pos:NOUN, tag:名詞-普通名詞-一般, lemma:漢字\n",
            "text:変換, pos:NOUN, tag:名詞-普通名詞-サ変可能, lemma:変換\n",
            "text:構文, pos:NOUN, tag:名詞-普通名詞-一般, lemma:構文\n",
            "text:解析, pos:NOUN, tag:名詞-普通名詞-サ変可能, lemma:解析\n",
            "text:等, pos:NOUN, tag:接尾辞-名詞的-一般, lemma:等\n",
            "text:5, pos:NUM, tag:名詞-数詞, lemma:5\n",
            "text:専門, pos:NOUN, tag:名詞-普通名詞-一般, lemma:専門\n",
            "text:家, pos:NOUN, tag:接尾辞-名詞的-一般, lemma:家\n",
            "text:推論, pos:NOUN, tag:名詞-普通名詞-サ変可能, lemma:推論\n",
            "text:判断, pos:NOUN, tag:名詞-普通名詞-サ変可能, lemma:判断\n",
            "text:模倣, pos:VERB, tag:名詞-普通名詞-サ変可能, lemma:模倣\n",
            "text:エキスパート, pos:NOUN, tag:名詞-普通名詞-一般, lemma:エキスパート\n",
            "text:システム, pos:NOUN, tag:名詞-普通名詞-一般, lemma:システム\n",
            "text:画像, pos:NOUN, tag:名詞-普通名詞-一般, lemma:画像\n",
            "text:データ, pos:NOUN, tag:名詞-普通名詞-一般, lemma:データ\n",
            "text:解析, pos:VERB, tag:名詞-普通名詞-サ変可能, lemma:解析\n",
            "text:特定, pos:NOUN, tag:名詞-普通名詞-サ変可能, lemma:特定\n",
            "text:パターン, pos:NOUN, tag:名詞-普通名詞-一般, lemma:パターン\n",
            "text:検出, pos:NOUN, tag:名詞-普通名詞-サ変可能, lemma:検出\n",
            "text:抽出, pos:VERB, tag:名詞-普通名詞-サ変可能, lemma:抽出\n",
            "text:画像, pos:NOUN, tag:名詞-普通名詞-一般, lemma:画像\n",
            "text:認識, pos:NOUN, tag:名詞-普通名詞-サ変可能, lemma:認識\n",
            "text:等, pos:NOUN, tag:接尾辞-名詞的-一般, lemma:等\n",
            "text:ある, pos:VERB, tag:動詞-非自立可能, lemma:ある\n",
            "text:4, pos:NUM, tag:名詞-数詞, lemma:4\n",
            "text:1956, pos:NUM, tag:名詞-数詞, lemma:1956\n",
            "text:年, pos:NOUN, tag:名詞-普通名詞-助数詞可能, lemma:年\n",
            "text:ダートマス, pos:PROPN, tag:名詞-固有名詞-一般, lemma:ダートマス\n",
            "text:会議, pos:NOUN, tag:名詞-普通名詞-サ変可能, lemma:会議\n",
            "text:ジョン, pos:PROPN, tag:名詞-固有名詞-人名-一般, lemma:ジョン\n",
            "text:マッカーシー, pos:PROPN, tag:名詞-固有名詞-人名-一般, lemma:マッカーシー\n",
            "text:より, pos:VERB, tag:動詞-一般, lemma:よる\n",
            "text:命名, pos:VERB, tag:名詞-普通名詞-サ変可能, lemma:命名\n",
            "text:現在, pos:NOUN, tag:名詞-普通名詞-副詞可能, lemma:現在\n",
            "text:記号, pos:NOUN, tag:名詞-普通名詞-一般, lemma:記号\n",
            "text:処理, pos:NOUN, tag:名詞-普通名詞-サ変可能, lemma:処理\n",
            "text:用い, pos:VERB, tag:動詞-一般, lemma:用いる\n",
            "text:知能, pos:NOUN, tag:名詞-普通名詞-一般, lemma:知能\n",
            "text:記述, pos:NOUN, tag:名詞-普通名詞-サ変可能, lemma:記述\n",
            "text:主体, pos:NOUN, tag:名詞-普通名詞-一般, lemma:主体\n",
            "text:する, pos:VERB, tag:動詞-非自立可能, lemma:する\n",
            "text:情報, pos:NOUN, tag:名詞-普通名詞-一般, lemma:情報\n",
            "text:処理, pos:NOUN, tag:名詞-普通名詞-サ変可能, lemma:処理\n",
            "text:研究, pos:NOUN, tag:名詞-普通名詞-サ変可能, lemma:研究\n",
            "text:アプローチ, pos:NOUN, tag:名詞-普通名詞-サ変可能, lemma:アプローチ\n",
            "text:いう, pos:VERB, tag:動詞-一般, lemma:いう\n",
            "text:意味, pos:NOUN, tag:名詞-普通名詞-サ変可能, lemma:意味\n",
            "text:あい, pos:NOUN, tag:接尾辞-名詞的-一般, lemma:あい\n",
            "text:使わ, pos:VERB, tag:動詞-一般, lemma:使う\n",
            "text:家庭, pos:NOUN, tag:名詞-普通名詞-一般, lemma:家庭\n",
            "text:用, pos:NOUN, tag:接尾辞-名詞的-一般, lemma:用\n",
            "text:電気, pos:NOUN, tag:名詞-普通名詞-一般, lemma:電気\n",
            "text:機械, pos:NOUN, tag:名詞-普通名詞-一般, lemma:機械\n",
            "text:器具, pos:NOUN, tag:名詞-普通名詞-一般, lemma:器具\n",
            "text:制御, pos:NOUN, tag:名詞-普通名詞-サ変可能, lemma:制御\n",
            "text:システム, pos:NOUN, tag:名詞-普通名詞-一般, lemma:システム\n",
            "text:ゲーム, pos:NOUN, tag:名詞-普通名詞-一般, lemma:ゲーム\n",
            "text:ソフト, pos:NOUN, tag:名詞-普通名詞-形状詞可能, lemma:ソフト\n",
            "text:思考, pos:NOUN, tag:名詞-普通名詞-サ変可能, lemma:思考\n",
            "text:ルーチン, pos:NOUN, tag:名詞-普通名詞-一般, lemma:ルーチン\n",
            "text:こう, pos:ADV, tag:副詞, lemma:こう\n",
            "text:呼ば, pos:VERB, tag:動詞-一般, lemma:呼ぶ\n",
            "text:こと, pos:NOUN, tag:名詞-普通名詞-一般, lemma:こと\n",
            "text:ある, pos:VERB, tag:動詞-非自立可能, lemma:ある\n",
            "text:プログラミング, pos:NOUN, tag:名詞-普通名詞-サ変可能, lemma:プログラミング\n",
            "text:言語, pos:NOUN, tag:名詞-普通名詞-一般, lemma:言語\n",
            "text:LISP, pos:PROPN, tag:名詞-固有名詞-人名-一般, lemma:LISP\n",
            "text:よる, pos:VERB, tag:動詞-一般, lemma:よる\n",
            "text:ELIZA, pos:NOUN, tag:名詞-普通名詞-一般, lemma:ELIZA\n",
            "text:いう, pos:VERB, tag:動詞-一般, lemma:いう\n",
            "text:カウンセラー, pos:NOUN, tag:名詞-普通名詞-一般, lemma:カウンセラー\n",
            "text:模倣, pos:VERB, tag:名詞-普通名詞-サ変可能, lemma:模倣\n",
            "text:プログラム, pos:NOUN, tag:名詞-普通名詞-サ変可能, lemma:プログラム\n",
            "text:人工, pos:NOUN, tag:名詞-普通名詞-一般, lemma:人工\n",
            "text:無脳, pos:NOUN, tag:名詞-普通名詞-一般, lemma:無脳\n",
            "text:しばしば, pos:ADV, tag:副詞, lemma:しばしば\n",
            "text:引き合い, pos:NOUN, tag:名詞-普通名詞-一般, lemma:引き合い\n",
            "text:出さ, pos:VERB, tag:動詞-非自立可能, lemma:出す\n",
            "text:計算, pos:NOUN, tag:名詞-普通名詞-サ変可能, lemma:計算\n",
            "text:機, pos:NOUN, tag:名詞-普通名詞-助数詞可能, lemma:機\n",
            "text:人間, pos:NOUN, tag:名詞-普通名詞-一般, lemma:人間\n",
            "text:専門, pos:NOUN, tag:名詞-普通名詞-一般, lemma:専門\n",
            "text:家, pos:NOUN, tag:接尾辞-名詞的-一般, lemma:家\n",
            "text:役割, pos:NOUN, tag:名詞-普通名詞-一般, lemma:役割\n",
            "text:さ, pos:VERB, tag:動詞-非自立可能, lemma:する\n",
            "text:いう, pos:VERB, tag:動詞-一般, lemma:いう\n",
            "text:エキスパート, pos:NOUN, tag:名詞-普通名詞-一般, lemma:エキスパート\n",
            "text:システム, pos:NOUN, tag:名詞-普通名詞-一般, lemma:システム\n",
            "text:呼ば, pos:VERB, tag:動詞-一般, lemma:呼ぶ\n",
            "text:研究, pos:NOUN, tag:名詞-普通名詞-サ変可能, lemma:研究\n",
            "text:情報, pos:NOUN, tag:名詞-普通名詞-一般, lemma:情報\n",
            "text:処理, pos:NOUN, tag:名詞-普通名詞-サ変可能, lemma:処理\n",
            "text:システム, pos:NOUN, tag:名詞-普通名詞-一般, lemma:システム\n",
            "text:実現, pos:NOUN, tag:名詞-普通名詞-サ変可能, lemma:実現\n",
            "text:人間, pos:NOUN, tag:名詞-普通名詞-一般, lemma:人間\n",
            "text:暗黙, pos:NOUN, tag:名詞-普通名詞-一般, lemma:暗黙\n",
            "text:持つ, pos:VERB, tag:動詞-一般, lemma:持つ\n",
            "text:常識, pos:NOUN, tag:名詞-普通名詞-一般, lemma:常識\n",
            "text:記述, pos:NOUN, tag:名詞-普通名詞-サ変可能, lemma:記述\n",
            "text:問題, pos:NOUN, tag:名詞-普通名詞-一般, lemma:問題\n",
            "text:なり, pos:VERB, tag:動詞-非自立可能, lemma:なる\n",
            "text:実用, pos:NOUN, tag:名詞-普通名詞-サ変可能, lemma:実用\n",
            "text:利用, pos:NOUN, tag:名詞-普通名詞-サ変可能, lemma:利用\n",
            "text:困難, pos:NOUN, tag:名詞-普通名詞-形状詞可能, lemma:困難\n",
            "text:視, pos:NOUN, tag:接尾辞-名詞的-サ変可能, lemma:視\n",
            "text:人工, pos:NOUN, tag:名詞-普通名詞-一般, lemma:人工\n",
            "text:知能, pos:NOUN, tag:名詞-普通名詞-一般, lemma:知能\n",
            "text:実現, pos:NOUN, tag:名詞-普通名詞-サ変可能, lemma:実現\n",
            "text:アプローチ, pos:NOUN, tag:名詞-普通名詞-サ変可能, lemma:アプローチ\n",
            "text:し, pos:VERB, tag:動詞-非自立可能, lemma:する\n",
            "text:ファジィ, pos:ADJ, tag:形状詞-一般, lemma:ファジィ\n",
            "text:理論, pos:NOUN, tag:名詞-普通名詞-一般, lemma:理論\n",
            "text:ニューラル, pos:NOUN, tag:名詞-普通名詞-形状詞可能, lemma:ニューラル\n",
            "text:ネットワーク, pos:NOUN, tag:名詞-普通名詞-一般, lemma:ネットワーク\n",
            "text:よう, pos:NOUN, tag:形状詞-助動詞語幹, lemma:よう\n",
            "text:アプローチ, pos:NOUN, tag:名詞-普通名詞-サ変可能, lemma:アプローチ\n",
            "text:知ら, pos:VERB, tag:動詞-一般, lemma:知る\n",
            "text:従来, pos:NOUN, tag:名詞-普通名詞-副詞可能, lemma:従来\n",
            "text:人工, pos:NOUN, tag:名詞-普通名詞-一般, lemma:人工\n",
            "text:知能, pos:NOUN, tag:名詞-普通名詞-一般, lemma:知能\n",
            "text:GOFAI, pos:PROPN, tag:名詞-固有名詞-人名-一般, lemma:gofai\n",
            "text:Good, pos:NOUN, tag:名詞-普通名詞-一般, lemma:good\n",
            "text:Old, pos:NOUN, tag:名詞-普通名詞-一般, lemma:Old\n",
            "text:Fashioned, pos:NOUN, tag:名詞-普通名詞-一般, lemma:fashioned\n",
            "text:AI, pos:NOUN, tag:名詞-普通名詞-一般, lemma:AI\n",
            "text:差, pos:NOUN, tag:名詞-普通名詞-一般, lemma:差\n",
            "text:記述, pos:NOUN, tag:名詞-普通名詞-サ変可能, lemma:記述\n",
            "text:記号, pos:NOUN, tag:名詞-普通名詞-一般, lemma:記号\n",
            "text:明示, pos:NOUN, tag:名詞-普通名詞-サ変可能, lemma:明示\n",
            "text:性, pos:NOUN, tag:接尾辞-名詞的-一般, lemma:性\n",
            "text:ある, pos:VERB, tag:動詞-非自立可能, lemma:ある\n",
            "text:後, pos:NOUN, tag:名詞-普通名詞-副詞可能, lemma:後\n",
            "text:サポート, pos:NOUN, tag:名詞-普通名詞-サ変可能, lemma:サポート\n",
            "text:ベクター, pos:NOUN, tag:名詞-普通名詞-一般, lemma:ベクター\n",
            "text:マシン, pos:NOUN, tag:名詞-普通名詞-一般, lemma:マシン\n",
            "text:注目, pos:NOUN, tag:名詞-普通名詞-サ変可能, lemma:注目\n",
            "text:集め, pos:VERB, tag:動詞-一般, lemma:集める\n",
            "text:また, pos:CCONJ, tag:接続詞, lemma:また\n",
            "text:自ら, pos:NOUN, tag:名詞-普通名詞-副詞可能, lemma:自ら\n",
            "text:経験, pos:NOUN, tag:名詞-普通名詞-サ変可能, lemma:経験\n",
            "text:元, pos:NOUN, tag:名詞-普通名詞-一般, lemma:元\n",
            "text:学習, pos:NOUN, tag:名詞-普通名詞-サ変可能, lemma:学習\n",
            "text:行う, pos:VERB, tag:動詞-一般, lemma:行う\n",
            "text:強化, pos:NOUN, tag:名詞-普通名詞-サ変可能, lemma:強化\n",
            "text:学習, pos:NOUN, tag:名詞-普通名詞-サ変可能, lemma:学習\n",
            "text:いう, pos:VERB, tag:動詞-一般, lemma:いう\n",
            "text:手法, pos:NOUN, tag:名詞-普通名詞-一般, lemma:手法\n",
            "text:ある, pos:VERB, tag:動詞-非自立可能, lemma:ある\n",
            "text:宇宙, pos:NOUN, tag:名詞-普通名詞-一般, lemma:宇宙\n",
            "text:おい, pos:VERB, tag:動詞-一般, lemma:おく\n",
            "text:知性, pos:NOUN, tag:名詞-普通名詞-一般, lemma:知性\n",
            "text:最も, pos:ADV, tag:副詞, lemma:最も\n",
            "text:強力, pos:ADJ, tag:形状詞-一般, lemma:強力\n",
            "text:形質, pos:NOUN, tag:名詞-普通名詞-一般, lemma:形質\n",
            "text:レイ, pos:NOUN, tag:名詞-普通名詞-一般, lemma:レイ\n",
            "text:カーツ, pos:PROPN, tag:名詞-固有名詞-人名-一般, lemma:カーツ\n",
            "text:ワイル, pos:PROPN, tag:名詞-固有名詞-人名-一般, lemma:ワイル\n",
            "text:いう, pos:VERB, tag:動詞-一般, lemma:いう\n",
            "text:言葉, pos:NOUN, tag:名詞-普通名詞-一般, lemma:言葉\n",
            "text:通り, pos:NOUN, tag:名詞-普通名詞-助数詞可能, lemma:通り\n",
            "text:知性, pos:NOUN, tag:名詞-普通名詞-一般, lemma:知性\n",
            "text:機械, pos:NOUN, tag:名詞-普通名詞-一般, lemma:機械\n",
            "text:表現, pos:VERB, tag:名詞-普通名詞-サ変可能, lemma:表現\n",
            "text:実装, pos:VERB, tag:名詞-普通名詞-サ変可能, lemma:実装\n",
            "text:いう, pos:VERB, tag:動詞-一般, lemma:いう\n",
            "text:こと, pos:NOUN, tag:名詞-普通名詞-一般, lemma:こと\n",
            "text:極めて, pos:ADV, tag:副詞, lemma:極めて\n",
            "text:重要, pos:ADJ, tag:形状詞-一般, lemma:重要\n",
            "text:作業, pos:NOUN, tag:名詞-普通名詞-サ変可能, lemma:作業\n",
            "text:2006, pos:NUM, tag:名詞-数詞, lemma:2006\n",
            "text:年, pos:NOUN, tag:名詞-普通名詞-助数詞可能, lemma:年\n",
            "text:ディープ, pos:NOUN, tag:名詞-普通名詞-形状詞可能, lemma:ディープ\n",
            "text:ラーニング, pos:NOUN, tag:名詞-普通名詞-一般, lemma:ラーニング\n",
            "text:深層, pos:NOUN, tag:名詞-普通名詞-一般, lemma:深層\n",
            "text:学習, pos:NOUN, tag:名詞-普通名詞-サ変可能, lemma:学習\n",
            "text:登場, pos:NOUN, tag:名詞-普通名詞-サ変可能, lemma:登場\n",
            "text:2010, pos:NUM, tag:名詞-数詞, lemma:2010\n",
            "text:年, pos:NOUN, tag:名詞-普通名詞-助数詞可能, lemma:年\n",
            "text:代, pos:NOUN, tag:名詞-普通名詞-助数詞可能, lemma:代\n",
            "text:以降, pos:NOUN, tag:名詞-普通名詞-副詞可能, lemma:以降\n",
            "text:ビッグ, pos:ADJ, tag:形状詞-一般, lemma:ビッグ\n",
            "text:データ, pos:NOUN, tag:名詞-普通名詞-一般, lemma:データ\n",
            "text:登場, pos:NOUN, tag:名詞-普通名詞-サ変可能, lemma:登場\n",
            "text:より, pos:VERB, tag:動詞-一般, lemma:よる\n",
            "text:一過, pos:NOUN, tag:名詞-普通名詞-一般, lemma:一過\n",
            "text:性, pos:NOUN, tag:接尾辞-名詞的-一般, lemma:性\n",
            "text:流行, pos:NOUN, tag:名詞-普通名詞-サ変可能, lemma:流行\n",
            "text:超え, pos:VERB, tag:動詞-一般, lemma:超える\n",
            "text:社会, pos:NOUN, tag:名詞-普通名詞-一般, lemma:社会\n",
            "text:浸透, pos:VERB, tag:名詞-普通名詞-サ変可能, lemma:浸透\n",
            "text:2016, pos:NUM, tag:名詞-数詞, lemma:2016\n",
            "text:年, pos:NOUN, tag:名詞-普通名詞-助数詞可能, lemma:年\n",
            "text:2017, pos:NUM, tag:名詞-数詞, lemma:2017\n",
            "text:年, pos:NOUN, tag:名詞-普通名詞-助数詞可能, lemma:年\n",
            "text:かけ, pos:VERB, tag:動詞-非自立可能, lemma:かける\n",
            "text:ディープ, pos:NOUN, tag:名詞-普通名詞-形状詞可能, lemma:ディープ\n",
            "text:ラーニング, pos:NOUN, tag:名詞-普通名詞-一般, lemma:ラーニング\n",
            "text:導入, pos:VERB, tag:名詞-普通名詞-サ変可能, lemma:導入\n",
            "text:AI, pos:NOUN, tag:名詞-普通名詞-一般, lemma:AI\n",
            "text:完全, pos:ADJ, tag:形状詞-一般, lemma:完全\n",
            "text:情報, pos:NOUN, tag:名詞-普通名詞-一般, lemma:情報\n",
            "text:ゲーム, pos:NOUN, tag:名詞-普通名詞-一般, lemma:ゲーム\n",
            "text:囲碁, pos:NOUN, tag:名詞-普通名詞-一般, lemma:囲碁\n",
            "text:トップ, pos:NOUN, tag:名詞-普通名詞-一般, lemma:トップ\n",
            "text:棋士, pos:NOUN, tag:名詞-普通名詞-一般, lemma:棋士\n",
            "text:さらに, pos:ADV, tag:副詞, lemma:さらに\n",
            "text:不, pos:NOUN, tag:接頭辞, lemma:不\n",
            "text:完全, pos:ADJ, tag:形状詞-一般, lemma:完全\n",
            "text:情報, pos:NOUN, tag:名詞-普通名詞-一般, lemma:情報\n",
            "text:ゲーム, pos:NOUN, tag:名詞-普通名詞-一般, lemma:ゲーム\n",
            "text:ポーカー, pos:NOUN, tag:名詞-普通名詞-一般, lemma:ポーカー\n",
            "text:世界, pos:NOUN, tag:名詞-普通名詞-一般, lemma:世界\n",
            "text:トップ, pos:NOUN, tag:名詞-普通名詞-一般, lemma:トップ\n",
            "text:クラス, pos:NOUN, tag:名詞-普通名詞-一般, lemma:クラス\n",
            "text:プレイヤー, pos:NOUN, tag:名詞-普通名詞-一般, lemma:プレイヤー\n",
            "text:破り, pos:VERB, tag:動詞-一般, lemma:破る\n",
            "text:6, pos:NUM, tag:名詞-数詞, lemma:6\n",
            "text:7, pos:NUM, tag:名詞-数詞, lemma:7\n",
            "text:麻雀, pos:NOUN, tag:名詞-普通名詞-一般, lemma:麻雀\n",
            "text:Microsoft, pos:PROPN, tag:名詞-固有名詞-一般, lemma:Microsoft\n",
            "text:Suphx, pos:NOUN, tag:名詞-普通名詞-一般, lemma:suphx\n",
            "text:Super, pos:NOUN, tag:名詞-普通名詞-一般, lemma:super\n",
            "text:Phoenix, pos:PROPN, tag:名詞-固有名詞-一般, lemma:Phoenix\n",
            "text:AI, pos:NOUN, tag:名詞-普通名詞-一般, lemma:AI\n",
            "text:し, pos:VERB, tag:動詞-非自立可能, lemma:する\n",
            "text:初めて, pos:ADV, tag:副詞, lemma:初めて\n",
            "text:十, pos:NUM, tag:名詞-数詞, lemma:十\n",
            "text:段, pos:NOUN, tag:名詞-普通名詞-助数詞可能, lemma:段\n",
            "text:到達, pos:VERB, tag:名詞-普通名詞-サ変可能, lemma:到達\n",
            "text:8, pos:NUM, tag:名詞-数詞, lemma:8\n",
            "text:時代, pos:NOUN, tag:名詞-普通名詞-一般, lemma:時代\n",
            "text:最, pos:NOUN, tag:接頭辞, lemma:最\n",
            "text:先端, pos:NOUN, tag:名詞-普通名詞-一般, lemma:先端\n",
            "text:技術, pos:NOUN, tag:名詞-普通名詞-一般, lemma:技術\n",
            "text:なっ, pos:VERB, tag:動詞-非自立可能, lemma:なる\n",
            "text:9, pos:NUM, tag:名詞-数詞, lemma:9\n",
            "text:第, pos:NOUN, tag:接頭辞, lemma:第\n",
            "text:２, pos:NUM, tag:名詞-数詞, lemma:2\n",
            "text:次, pos:NOUN, tag:接尾辞-名詞的-助数詞, lemma:次\n",
            "text:人工, pos:NOUN, tag:名詞-普通名詞-一般, lemma:人工\n",
            "text:知能, pos:NOUN, tag:名詞-普通名詞-一般, lemma:知能\n",
            "text:ブーム, pos:NOUN, tag:名詞-普通名詞-一般, lemma:ブーム\n",
            "text:人工, pos:NOUN, tag:名詞-普通名詞-一般, lemma:人工\n",
            "text:知能, pos:NOUN, tag:名詞-普通名詞-一般, lemma:知能\n",
            "text:機械, pos:NOUN, tag:名詞-普通名詞-一般, lemma:機械\n",
            "text:学習, pos:NOUN, tag:名詞-普通名詞-サ変可能, lemma:学習\n",
            "text:呼ば, pos:VERB, tag:動詞-一般, lemma:呼ぶ\n",
            "text:以下, pos:NOUN, tag:名詞-普通名詞-一般, lemma:以下\n",
            "text:よう, pos:NOUN, tag:形状詞-助動詞語幹, lemma:よう\n",
            "text:もの, pos:NOUN, tag:名詞-普通名詞-サ変可能, lemma:もの\n",
            "text:ある, pos:VERB, tag:動詞-非自立可能, lemma:ある\n",
            "text:一方, pos:CCONJ, tag:接続詞, lemma:一方\n",
            "text:計算, pos:NOUN, tag:名詞-普通名詞-サ変可能, lemma:計算\n",
            "text:知能, pos:NOUN, tag:名詞-普通名詞-一般, lemma:知能\n",
            "text:CI, pos:NOUN, tag:名詞-普通名詞-一般, lemma:CI\n",
            "text:開発, pos:NOUN, tag:名詞-普通名詞-サ変可能, lemma:開発\n",
            "text:学習, pos:NOUN, tag:名詞-普通名詞-サ変可能, lemma:学習\n",
            "text:繰り, pos:VERB, tag:動詞-一般, lemma:繰る\n",
            "text:返す, pos:VERB, tag:動詞-一般, lemma:返す\n",
            "text:こと, pos:NOUN, tag:名詞-普通名詞-一般, lemma:こと\n",
            "text:基本, pos:NOUN, tag:名詞-普通名詞-一般, lemma:基本\n",
            "text:し, pos:VERB, tag:動詞-非自立可能, lemma:する\n",
            "text:例えば, pos:ADV, tag:副詞, lemma:例えば\n",
            "text:パラメータ, pos:NOUN, tag:名詞-普通名詞-一般, lemma:パラメータ\n",
            "text:調整, pos:NOUN, tag:名詞-普通名詞-サ変可能, lemma:調整\n",
            "text:コネクショニズム, pos:NOUN, tag:名詞-普通名詞-一般, lemma:コネクショニズム\n",
            "text:システム, pos:NOUN, tag:名詞-普通名詞-一般, lemma:システム\n",
            "text:学習, pos:NOUN, tag:名詞-普通名詞-サ変可能, lemma:学習\n",
            "text:経験, pos:NOUN, tag:名詞-普通名詞-サ変可能, lemma:経験\n",
            "text:基づく, pos:VERB, tag:動詞-一般, lemma:基づく\n",
            "text:手法, pos:NOUN, tag:名詞-普通名詞-一般, lemma:手法\n",
            "text:非, pos:NOUN, tag:接頭辞, lemma:非\n",
            "text:記号, pos:NOUN, tag:名詞-普通名詞-一般, lemma:記号\n",
            "text:AI, pos:NOUN, tag:名詞-普通名詞-一般, lemma:AI\n",
            "text:美しく, pos:ADJ, tag:形容詞-一般, lemma:美しい\n",
            "text:ない, pos:ADJ, tag:形容詞-非自立可能, lemma:ない\n",
            "text:AI, pos:NOUN, tag:名詞-普通名詞-一般, lemma:AI\n",
            "text:注, pos:NOUN, tag:名詞-普通名詞-一般, lemma:注\n",
            "text:1, pos:NUM, tag:名詞-数詞, lemma:1\n",
            "text:ソフト, pos:NOUN, tag:名詞-普通名詞-形状詞可能, lemma:ソフト\n",
            "text:コンピューティング, pos:NOUN, tag:名詞-普通名詞-一般, lemma:コンピューティング\n",
            "text:関係, pos:VERB, tag:名詞-普通名詞-サ変可能, lemma:関係\n",
            "text:手法, pos:NOUN, tag:名詞-普通名詞-一般, lemma:手法\n",
            "text:し, pos:VERB, tag:動詞-非自立可能, lemma:する\n",
            "text:以下, pos:NOUN, tag:名詞-普通名詞-一般, lemma:以下\n",
            "text:もの, pos:NOUN, tag:名詞-普通名詞-サ変可能, lemma:もの\n",
            "text:ある, pos:VERB, tag:動詞-非自立可能, lemma:ある\n",
            "text:これ, pos:PRON, tag:代名詞, lemma:これ\n",
            "text:ら, pos:NOUN, tag:接尾辞-名詞的-一般, lemma:ら\n",
            "text:統合, pos:VERB, tag:名詞-普通名詞-サ変可能, lemma:統合\n",
            "text:知的, pos:ADJ, tag:形状詞-一般, lemma:知的\n",
            "text:システム, pos:NOUN, tag:名詞-普通名詞-一般, lemma:システム\n",
            "text:作る, pos:VERB, tag:動詞-一般, lemma:作る\n",
            "text:試み, pos:NOUN, tag:名詞-普通名詞-一般, lemma:試み\n",
            "text:なさ, pos:VERB, tag:動詞-一般, lemma:なす\n",
            "text:ACT, pos:PROPN, tag:名詞-固有名詞-一般, lemma:ACT\n",
            "text:R, pos:NOUN, tag:名詞-普通名詞-一般, lemma:r\n",
            "text:エキスパート, pos:NOUN, tag:名詞-普通名詞-一般, lemma:エキスパート\n",
            "text:推論, pos:NOUN, tag:名詞-普通名詞-サ変可能, lemma:推論\n",
            "text:ルール, pos:NOUN, tag:名詞-普通名詞-一般, lemma:ルール\n",
            "text:統計, pos:NOUN, tag:名詞-普通名詞-サ変可能, lemma:統計\n",
            "text:学習, pos:NOUN, tag:名詞-普通名詞-サ変可能, lemma:学習\n",
            "text:元, pos:NOUN, tag:名詞-普通名詞-一般, lemma:元\n",
            "text:ニューラル, pos:NOUN, tag:名詞-普通名詞-形状詞可能, lemma:ニューラル\n",
            "text:ネットワーク, pos:NOUN, tag:名詞-普通名詞-一般, lemma:ネットワーク\n",
            "text:生成, pos:NOUN, tag:名詞-普通名詞-サ変可能, lemma:生成\n",
            "text:規則, pos:NOUN, tag:名詞-普通名詞-一般, lemma:規則\n",
            "text:通し, pos:VERB, tag:動詞-非自立可能, lemma:通す\n",
            "text:生成, pos:VERB, tag:名詞-普通名詞-サ変可能, lemma:生成\n",
            "text:第, pos:NOUN, tag:接頭辞, lemma:第\n",
            "text:3, pos:NUM, tag:名詞-数詞, lemma:3\n",
            "text:次, pos:NOUN, tag:接尾辞-名詞的-助数詞, lemma:次\n",
            "text:人工, pos:NOUN, tag:名詞-普通名詞-一般, lemma:人工\n",
            "text:知能, pos:NOUN, tag:名詞-普通名詞-一般, lemma:知能\n",
            "text:ブーム, pos:NOUN, tag:名詞-普通名詞-一般, lemma:ブーム\n",
            "text:ディープ, pos:NOUN, tag:名詞-普通名詞-形状詞可能, lemma:ディープ\n",
            "text:ラーニング, pos:NOUN, tag:名詞-普通名詞-一般, lemma:ラーニング\n",
            "text:画像, pos:NOUN, tag:名詞-普通名詞-一般, lemma:画像\n",
            "text:認識, pos:NOUN, tag:名詞-普通名詞-サ変可能, lemma:認識\n",
            "text:テキスト, pos:NOUN, tag:名詞-普通名詞-一般, lemma:テキスト\n",
            "text:解析, pos:NOUN, tag:名詞-普通名詞-サ変可能, lemma:解析\n",
            "text:音声, pos:NOUN, tag:名詞-普通名詞-一般, lemma:音声\n",
            "text:認識, pos:NOUN, tag:名詞-普通名詞-サ変可能, lemma:認識\n",
            "text:様々, pos:ADJ, tag:形状詞-一般, lemma:様々\n",
            "text:領域, pos:NOUN, tag:名詞-普通名詞-一般, lemma:領域\n",
            "text:第, pos:NOUN, tag:接頭辞, lemma:第\n",
            "text:2, pos:NUM, tag:名詞-数詞, lemma:2\n",
            "text:次, pos:NOUN, tag:接尾辞-名詞的-助数詞, lemma:次\n",
            "text:人工, pos:NOUN, tag:名詞-普通名詞-一般, lemma:人工\n",
            "text:知能, pos:NOUN, tag:名詞-普通名詞-一般, lemma:知能\n",
            "text:ブーム, pos:NOUN, tag:名詞-普通名詞-一般, lemma:ブーム\n",
            "text:人工, pos:NOUN, tag:名詞-普通名詞-一般, lemma:人工\n",
            "text:知能, pos:NOUN, tag:名詞-普通名詞-一般, lemma:知能\n",
            "text:上回る, pos:VERB, tag:動詞-一般, lemma:上回る\n",
            "text:精度, pos:NOUN, tag:名詞-普通名詞-一般, lemma:精度\n",
            "text:出し, pos:VERB, tag:動詞-非自立可能, lemma:出す\n",
            "text:ディープ, pos:NOUN, tag:名詞-普通名詞-形状詞可能, lemma:ディープ\n",
            "text:ラーニング, pos:NOUN, tag:名詞-普通名詞-一般, lemma:ラーニング\n",
            "text:研究, pos:NOUN, tag:名詞-普通名詞-サ変可能, lemma:研究\n",
            "text:盛ん, pos:ADJ, tag:形状詞-一般, lemma:盛ん\n",
            "text:行わ, pos:VERB, tag:動詞-一般, lemma:行う\n",
            "text:最近, pos:NOUN, tag:名詞-普通名詞-副詞可能, lemma:最近\n",
            "text:DQN, pos:NOUN, tag:名詞-普通名詞-一般, lemma:DQN\n",
            "text:CNN, pos:PROPN, tag:名詞-固有名詞-一般, lemma:CNN\n",
            "text:RNN, pos:NOUN, tag:名詞-普通名詞-一般, lemma:rnn\n",
            "text:GAN, pos:NOUN, tag:名詞-普通名詞-一般, lemma:gan\n",
            "text:様々, pos:ADJ, tag:形状詞-一般, lemma:様々\n",
            "text:ディープ, pos:NOUN, tag:名詞-普通名詞-形状詞可能, lemma:ディープ\n",
            "text:ラーニング, pos:NOUN, tag:名詞-普通名詞-一般, lemma:ラーニング\n",
            "text:派生, pos:NOUN, tag:名詞-普通名詞-サ変可能, lemma:派生\n",
            "text:で, pos:VERB, tag:動詞-一般, lemma:でる\n",
            "text:各, pos:NOUN, tag:接頭辞, lemma:各\n",
            "text:分野, pos:NOUN, tag:名詞-普通名詞-一般, lemma:分野\n",
            "text:活躍, pos:VERB, tag:名詞-普通名詞-サ変可能, lemma:活躍\n",
            "text:特に, pos:ADV, tag:副詞, lemma:特に\n",
            "text:GAN, pos:NOUN, tag:名詞-普通名詞-一般, lemma:gan\n",
            "text:敵対, pos:NOUN, tag:名詞-普通名詞-サ変可能, lemma:敵対\n",
            "text:生成, pos:NOUN, tag:名詞-普通名詞-サ変可能, lemma:生成\n",
            "text:ネットワーク, pos:NOUN, tag:名詞-普通名詞-一般, lemma:ネットワーク\n",
            "text:ディープ, pos:NOUN, tag:名詞-普通名詞-形状詞可能, lemma:ディープ\n",
            "text:ラーニング, pos:NOUN, tag:名詞-普通名詞-一般, lemma:ラーニング\n",
            "text:認識, pos:NOUN, tag:名詞-普通名詞-サ変可能, lemma:認識\n",
            "text:予測, pos:NOUN, tag:名詞-普通名詞-サ変可能, lemma:予測\n",
            "text:分野, pos:NOUN, tag:名詞-普通名詞-一般, lemma:分野\n",
            "text:成果, pos:NOUN, tag:名詞-普通名詞-一般, lemma:成果\n",
            "text:だし, pos:VERB, tag:動詞-非自立可能, lemma:だす\n",
            "text:こと, pos:NOUN, tag:名詞-普通名詞-一般, lemma:こと\n",
            "text:加え, pos:VERB, tag:動詞-一般, lemma:加える\n",
            "text:画像, pos:NOUN, tag:名詞-普通名詞-一般, lemma:画像\n",
            "text:生成, pos:NOUN, tag:名詞-普通名詞-サ変可能, lemma:生成\n",
            "text:技術, pos:NOUN, tag:名詞-普通名詞-一般, lemma:技術\n",
            "text:おい, pos:VERB, tag:動詞-一般, lemma:おく\n",
            "text:進化, pos:NOUN, tag:名詞-普通名詞-サ変可能, lemma:進化\n",
            "text:見せ, pos:VERB, tag:動詞-非自立可能, lemma:見せる\n",
            "text:森, pos:PROPN, tag:名詞-固有名詞-人名-姓, lemma:森\n",
            "text:正弥, pos:PROPN, tag:名詞-固有名詞-人名-名, lemma:正弥\n",
            "text:これ, pos:PRON, tag:代名詞, lemma:これ\n",
            "text:ら, pos:NOUN, tag:接尾辞-名詞的-一般, lemma:ら\n",
            "text:成果, pos:NOUN, tag:名詞-普通名詞-一般, lemma:成果\n",
            "text:背景, pos:NOUN, tag:名詞-普通名詞-一般, lemma:背景\n",
            "text:従来, pos:NOUN, tag:名詞-普通名詞-副詞可能, lemma:従来\n",
            "text:人工, pos:NOUN, tag:名詞-普通名詞-一般, lemma:人工\n",
            "text:知能, pos:NOUN, tag:名詞-普通名詞-一般, lemma:知能\n",
            "text:応用, pos:NOUN, tag:名詞-普通名詞-サ変可能, lemma:応用\n",
            "text:分野, pos:NOUN, tag:名詞-普通名詞-一般, lemma:分野\n",
            "text:広がっ, pos:VERB, tag:動詞-一般, lemma:広がる\n",
            "text:Creative, pos:PROPN, tag:名詞-固有名詞-一般, lemma:Creative\n",
            "text:AI, pos:NOUN, tag:名詞-普通名詞-一般, lemma:AI\n",
            "text:いう, pos:VERB, tag:動詞-一般, lemma:いう\n",
            "text:コンテンツ, pos:NOUN, tag:名詞-普通名詞-一般, lemma:コンテンツ\n",
            "text:生成, pos:NOUN, tag:名詞-普通名詞-サ変可能, lemma:生成\n",
            "text:行っ, pos:VERB, tag:動詞-一般, lemma:行う\n",
            "text:応用, pos:NOUN, tag:名詞-普通名詞-サ変可能, lemma:応用\n",
            "text:始まっ, pos:VERB, tag:動詞-一般, lemma:始まる\n",
            "text:指摘, pos:VERB, tag:名詞-普通名詞-サ変可能, lemma:指摘\n",
            "text:10, pos:NUM, tag:名詞-数詞, lemma:10\n",
            "text:AI, pos:NOUN, tag:名詞-普通名詞-一般, lemma:AI\n",
            "text:構築, pos:NOUN, tag:名詞-普通名詞-サ変可能, lemma:構築\n",
            "text:長い, pos:ADJ, tag:形容詞-一般, lemma:長い\n",
            "text:間, pos:NOUN, tag:名詞-普通名詞-副詞可能, lemma:間\n",
            "text:試み, pos:VERB, tag:動詞-一般, lemma:試みる\n",
            "text:シンボルグラウンディング, pos:NOUN, tag:名詞-普通名詞-一般, lemma:シンボルグラウンディング\n",
            "text:問題, pos:NOUN, tag:名詞-普通名詞-一般, lemma:問題\n",
            "text:フレーム, pos:NOUN, tag:名詞-普通名詞-一般, lemma:フレーム\n",
            "text:問題, pos:NOUN, tag:名詞-普通名詞-一般, lemma:問題\n",
            "text:解決, pos:NOUN, tag:名詞-普通名詞-サ変可能, lemma:解決\n",
            "text:壁, pos:NOUN, tag:名詞-普通名詞-一般, lemma:壁\n",
            "text:なっ, pos:VERB, tag:動詞-非自立可能, lemma:なる\n"
          ],
          "name": "stdout"
        }
      ]
    },
    {
      "cell_type": "code",
      "metadata": {
        "id": "t4dxDREcwZOi",
        "outputId": "77059156-94d7-4bc8-f16a-9af54f1ccc86",
        "colab": {
          "base_uri": "https://localhost:8080/",
          "height": 55
        }
      },
      "source": [
        "# すべてのlemmaを半角スペースでつないで、長い文字列にする。\n",
        "\n",
        "doc_AI = ' '.join(tokens)\n",
        "print(doc_AI)"
      ],
      "execution_count": 16,
      "outputs": [
        {
          "output_type": "stream",
          "text": [
            "人工 知能 じん こうち 英 artificial intelligence AI エーアイ 計算 computation いう 概念 コンピュータ Computer いう 道具 用いる 知能 研究 計算 機 科学 computer science 一 分野 指す 語 1 言語 理解 推論 問題 解決 知的 行動 人間 代わる コンピューター 行う 技術 2 また 計算 機 コンピュータ よる 知的 情報 処理 システム 設計 実現 関する 研究 分野 する 3 日本 大 百科 全書 ニッポニカ 解説 情報 工学 者 通信 工学 者 佐藤 理史 次 よう 述べる 1 人間 知的 能力 コンピュータ 上 実現 様々 技術 ソフトウェア コンピュータ システム 4 応用 例 自然 言語 処理 機械 翻訳 かな 漢字 変換 構文 解析 等 5 専門 家 推論 判断 模倣 エキスパート システム 画像 データ 解析 特定 パターン 検出 抽出 画像 認識 等 ある 4 1956 年 ダートマス 会議 ジョン マッカーシー よる 命名 現在 記号 処理 用いる 知能 記述 主体 する 情報 処理 研究 アプローチ いう 意味 あい 使う 家庭 用 電気 機械 器具 制御 システム ゲーム ソフト 思考 ルーチン こう 呼ぶ こと ある プログラミング 言語 LISP よる ELIZA いう カウンセラー 模倣 プログラム 人工 無脳 しばしば 引き合い 出す 計算 機 人間 専門 家 役割 する いう エキスパート システム 呼ぶ 研究 情報 処理 システム 実現 人間 暗黙 持つ 常識 記述 問題 なる 実用 利用 困難 視 人工 知能 実現 アプローチ する ファジィ 理論 ニューラル ネットワーク よう アプローチ 知る 従来 人工 知能 gofai good Old fashioned AI 差 記述 記号 明示 性 ある 後 サポート ベクター マシン 注目 集める また 自ら 経験 元 学習 行う 強化 学習 いう 手法 ある 宇宙 おく 知性 最も 強力 形質 レイ カーツ ワイル いう 言葉 通り 知性 機械 表現 実装 いう こと 極めて 重要 作業 2006 年 ディープ ラーニング 深層 学習 登場 2010 年 代 以降 ビッグ データ 登場 よる 一過 性 流行 超える 社会 浸透 2016 年 2017 年 かける ディープ ラーニング 導入 AI 完全 情報 ゲーム 囲碁 トップ 棋士 さらに 不 完全 情報 ゲーム ポーカー 世界 トップ クラス プレイヤー 破る 6 7 麻雀 Microsoft suphx super Phoenix AI する 初めて 十 段 到達 8 時代 最 先端 技術 なる 9 第 2 次 人工 知能 ブーム 人工 知能 機械 学習 呼ぶ 以下 よう もの ある 一方 計算 知能 CI 開発 学習 繰る 返す こと 基本 する 例えば パラメータ 調整 コネクショニズム システム 学習 経験 基づく 手法 非 記号 AI 美しい ない AI 注 1 ソフト コンピューティング 関係 手法 する 以下 もの ある これ ら 統合 知的 システム 作る 試み なす ACT r エキスパート 推論 ルール 統計 学習 元 ニューラル ネットワーク 生成 規則 通す 生成 第 3 次 人工 知能 ブーム ディープ ラーニング 画像 認識 テキスト 解析 音声 認識 様々 領域 第 2 次 人工 知能 ブーム 人工 知能 上回る 精度 出す ディープ ラーニング 研究 盛ん 行う 最近 DQN CNN rnn gan 様々 ディープ ラーニング 派生 でる 各 分野 活躍 特に gan 敵対 生成 ネットワーク ディープ ラーニング 認識 予測 分野 成果 だす こと 加える 画像 生成 技術 おく 進化 見せる 森 正弥 これ ら 成果 背景 従来 人工 知能 応用 分野 広がる Creative AI いう コンテンツ 生成 行う 応用 始まる 指摘 10 AI 構築 長い 間 試みる シンボルグラウンディング 問題 フレーム 問題 解決 壁 なる\n"
          ],
          "name": "stdout"
        }
      ]
    },
    {
      "cell_type": "markdown",
      "metadata": {
        "id": "qcEH8FkCKUd4"
      },
      "source": [
        "### sudachiの設定を変えて使ってみる\n",
        "https://www.anlp.jp/proceedings/annual_meeting/2019/pdf_dir/P8-5.pdf"
      ]
    },
    {
      "cell_type": "code",
      "metadata": {
        "id": "jfv_gJ8RKUJx"
      },
      "source": [
        "# Load SudachiPy with split mode C\n",
        "cfg = {\"split_mode\": \"C\"}\n",
        "nlp = Japanese(meta={\"tokenizer\": {\"config\": cfg}})"
      ],
      "execution_count": 17,
      "outputs": []
    },
    {
      "cell_type": "code",
      "metadata": {
        "id": "MQJFIhsYKZUE",
        "outputId": "20a9c41d-6b9b-40b1-c3cc-94e85ca81635",
        "colab": {
          "base_uri": "https://localhost:8080/",
          "height": 1000
        }
      },
      "source": [
        "# Sudachiで形態素解析し、分かち書き後のlemmaを取得する。\n",
        "\n",
        "x_pos = ['SPACE', 'PUNCT', 'AUX', 'ADP', 'SYM', 'DET', 'SCONJ', 'PART']\n",
        "tokens = list()\n",
        "for line in lines[:10]:\n",
        "  for token in nlp(line):\n",
        "    pos = token.pos_\n",
        "    if pos not in x_pos:\n",
        "      print(f'text:{token.text}, pos:{token.pos_}, tag:{token.tag_}, lemma:{token.lemma_}')\n",
        "      tokens.append(token.lemma_)"
      ],
      "execution_count": 18,
      "outputs": [
        {
          "output_type": "stream",
          "text": [
            "text:人工知能, pos:NOUN, tag:名詞-普通名詞-一般, lemma:人工知能\n",
            "text:じん, pos:NOUN, tag:名詞-普通名詞-一般, lemma:じん\n",
            "text:こうち, pos:NOUN, tag:名詞-普通名詞-形状詞可能, lemma:こうち\n",
            "text:英, pos:NOUN, tag:名詞-普通名詞-一般, lemma:英\n",
            "text:artificial intelligence, pos:PROPN, tag:名詞-固有名詞-一般, lemma:artificial intelligence\n",
            "text:AI, pos:NOUN, tag:名詞-普通名詞-一般, lemma:AI\n",
            "text:エーアイ, pos:PROPN, tag:名詞-固有名詞-一般, lemma:エーアイ\n",
            "text:計算, pos:NOUN, tag:名詞-普通名詞-サ変可能, lemma:計算\n",
            "text:computation, pos:NOUN, tag:名詞-普通名詞-一般, lemma:computation\n",
            "text:いう, pos:VERB, tag:動詞-一般, lemma:いう\n",
            "text:概念, pos:NOUN, tag:名詞-普通名詞-一般, lemma:概念\n",
            "text:コンピュータ, pos:NOUN, tag:名詞-普通名詞-一般, lemma:コンピュータ\n",
            "text:computer, pos:NOUN, tag:名詞-普通名詞-一般, lemma:Computer\n",
            "text:いう, pos:VERB, tag:動詞-一般, lemma:いう\n",
            "text:道具, pos:NOUN, tag:名詞-普通名詞-一般, lemma:道具\n",
            "text:用い, pos:VERB, tag:動詞-一般, lemma:用いる\n",
            "text:知能, pos:NOUN, tag:名詞-普通名詞-一般, lemma:知能\n",
            "text:研究, pos:VERB, tag:名詞-普通名詞-サ変可能, lemma:研究\n",
            "text:計算機科学, pos:NOUN, tag:名詞-普通名詞-一般, lemma:計算機科学\n",
            "text:computer science, pos:PROPN, tag:名詞-固有名詞-一般, lemma:computer science\n",
            "text:一, pos:NUM, tag:名詞-数詞, lemma:一\n",
            "text:分野, pos:NOUN, tag:名詞-普通名詞-一般, lemma:分野\n",
            "text:指す, pos:VERB, tag:動詞-一般, lemma:指す\n",
            "text:語, pos:NOUN, tag:名詞-普通名詞-一般, lemma:語\n",
            "text:1, pos:NUM, tag:名詞-数詞, lemma:1\n",
            "text:言語, pos:NOUN, tag:名詞-普通名詞-一般, lemma:言語\n",
            "text:理解, pos:NOUN, tag:名詞-普通名詞-サ変可能, lemma:理解\n",
            "text:推論, pos:NOUN, tag:名詞-普通名詞-サ変可能, lemma:推論\n",
            "text:問題解決, pos:NOUN, tag:名詞-普通名詞-一般, lemma:問題解決\n",
            "text:知的, pos:ADJ, tag:形状詞-一般, lemma:知的\n",
            "text:行動, pos:NOUN, tag:名詞-普通名詞-サ変可能, lemma:行動\n",
            "text:人間, pos:NOUN, tag:名詞-普通名詞-一般, lemma:人間\n",
            "text:代わっ, pos:VERB, tag:動詞-一般, lemma:代わる\n",
            "text:コンピューター, pos:NOUN, tag:名詞-普通名詞-一般, lemma:コンピューター\n",
            "text:行わ, pos:VERB, tag:動詞-一般, lemma:行う\n",
            "text:技術, pos:NOUN, tag:名詞-普通名詞-一般, lemma:技術\n",
            "text:2, pos:NUM, tag:名詞-数詞, lemma:2\n",
            "text:また, pos:CCONJ, tag:接続詞, lemma:また\n",
            "text:計算機, pos:NOUN, tag:名詞-普通名詞-一般, lemma:計算機\n",
            "text:コンピュータ, pos:NOUN, tag:名詞-普通名詞-一般, lemma:コンピュータ\n",
            "text:よる, pos:VERB, tag:動詞-一般, lemma:よる\n",
            "text:知的, pos:ADJ, tag:形状詞-一般, lemma:知的\n",
            "text:情報処理, pos:NOUN, tag:名詞-普通名詞-一般, lemma:情報処理\n",
            "text:システム, pos:NOUN, tag:名詞-普通名詞-一般, lemma:システム\n",
            "text:設計, pos:NOUN, tag:名詞-普通名詞-サ変可能, lemma:設計\n",
            "text:実現, pos:NOUN, tag:名詞-普通名詞-サ変可能, lemma:実現\n",
            "text:関する, pos:VERB, tag:動詞-一般, lemma:関する\n",
            "text:研究, pos:NOUN, tag:名詞-普通名詞-サ変可能, lemma:研究\n",
            "text:分野, pos:NOUN, tag:名詞-普通名詞-一般, lemma:分野\n",
            "text:さ, pos:VERB, tag:動詞-非自立可能, lemma:する\n",
            "text:3, pos:NUM, tag:名詞-数詞, lemma:3\n",
            "text:日本, pos:PROPN, tag:名詞-固有名詞-地名-国, lemma:日本\n",
            "text:大, pos:NOUN, tag:接尾辞-名詞的-一般, lemma:大\n",
            "text:百科全書, pos:NOUN, tag:名詞-普通名詞-一般, lemma:百科全書\n",
            "text:ニッポニカ, pos:NOUN, tag:名詞-普通名詞-一般, lemma:ニッポニカ\n",
            "text:解説, pos:NOUN, tag:名詞-普通名詞-サ変可能, lemma:解説\n",
            "text:情報, pos:NOUN, tag:名詞-普通名詞-一般, lemma:情報\n",
            "text:工学者, pos:NOUN, tag:名詞-普通名詞-一般, lemma:工学者\n",
            "text:通信, pos:NOUN, tag:名詞-普通名詞-サ変可能, lemma:通信\n",
            "text:工学者, pos:NOUN, tag:名詞-普通名詞-一般, lemma:工学者\n",
            "text:佐藤, pos:PROPN, tag:名詞-固有名詞-人名-姓, lemma:佐藤\n",
            "text:理史, pos:PROPN, tag:名詞-固有名詞-人名-名, lemma:理史\n",
            "text:次, pos:NOUN, tag:名詞-普通名詞-一般, lemma:次\n",
            "text:よう, pos:NOUN, tag:形状詞-助動詞語幹, lemma:よう\n",
            "text:述べ, pos:VERB, tag:動詞-一般, lemma:述べる\n",
            "text:1, pos:NUM, tag:名詞-数詞, lemma:1\n",
            "text:人間, pos:NOUN, tag:名詞-普通名詞-一般, lemma:人間\n",
            "text:知的, pos:ADJ, tag:形状詞-一般, lemma:知的\n",
            "text:能力, pos:NOUN, tag:名詞-普通名詞-一般, lemma:能力\n",
            "text:コンピュータ, pos:NOUN, tag:名詞-普通名詞-一般, lemma:コンピュータ\n",
            "text:上, pos:NOUN, tag:接尾辞-名詞的-副詞可能, lemma:上\n",
            "text:実現, pos:VERB, tag:名詞-普通名詞-サ変可能, lemma:実現\n",
            "text:様々, pos:ADJ, tag:形状詞-一般, lemma:様々\n",
            "text:技術, pos:NOUN, tag:名詞-普通名詞-一般, lemma:技術\n",
            "text:ソフトウェア, pos:NOUN, tag:名詞-普通名詞-一般, lemma:ソフトウェア\n",
            "text:コンピュータシステム, pos:PROPN, tag:名詞-固有名詞-一般, lemma:コンピュータシステム\n",
            "text:4, pos:NUM, tag:名詞-数詞, lemma:4\n",
            "text:応用, pos:NOUN, tag:名詞-普通名詞-サ変可能, lemma:応用\n",
            "text:例, pos:NOUN, tag:名詞-普通名詞-一般, lemma:例\n",
            "text:自然, pos:NOUN, tag:名詞-普通名詞-一般, lemma:自然\n",
            "text:言語, pos:NOUN, tag:名詞-普通名詞-一般, lemma:言語\n",
            "text:処理, pos:NOUN, tag:名詞-普通名詞-サ変可能, lemma:処理\n",
            "text:機械, pos:NOUN, tag:名詞-普通名詞-一般, lemma:機械\n",
            "text:翻訳, pos:NOUN, tag:名詞-普通名詞-サ変可能, lemma:翻訳\n",
            "text:かな, pos:NOUN, tag:名詞-普通名詞-一般, lemma:かな\n",
            "text:漢字, pos:NOUN, tag:名詞-普通名詞-一般, lemma:漢字\n",
            "text:変換, pos:NOUN, tag:名詞-普通名詞-サ変可能, lemma:変換\n",
            "text:構文, pos:NOUN, tag:名詞-普通名詞-一般, lemma:構文\n",
            "text:解析, pos:NOUN, tag:名詞-普通名詞-サ変可能, lemma:解析\n",
            "text:等, pos:NOUN, tag:接尾辞-名詞的-一般, lemma:等\n",
            "text:5, pos:NUM, tag:名詞-数詞, lemma:5\n",
            "text:専門家, pos:NOUN, tag:名詞-普通名詞-一般, lemma:専門家\n",
            "text:推論, pos:NOUN, tag:名詞-普通名詞-サ変可能, lemma:推論\n",
            "text:判断, pos:NOUN, tag:名詞-普通名詞-サ変可能, lemma:判断\n",
            "text:模倣, pos:VERB, tag:名詞-普通名詞-サ変可能, lemma:模倣\n",
            "text:エキスパートシステム, pos:NOUN, tag:名詞-普通名詞-一般, lemma:エキスパートシステム\n",
            "text:画像データ, pos:NOUN, tag:名詞-普通名詞-一般, lemma:画像データ\n",
            "text:解析, pos:VERB, tag:名詞-普通名詞-サ変可能, lemma:解析\n",
            "text:特定, pos:NOUN, tag:名詞-普通名詞-サ変可能, lemma:特定\n",
            "text:パターン, pos:NOUN, tag:名詞-普通名詞-一般, lemma:パターン\n",
            "text:検出, pos:NOUN, tag:名詞-普通名詞-サ変可能, lemma:検出\n",
            "text:抽出, pos:VERB, tag:名詞-普通名詞-サ変可能, lemma:抽出\n",
            "text:画像, pos:NOUN, tag:名詞-普通名詞-一般, lemma:画像\n",
            "text:認識, pos:NOUN, tag:名詞-普通名詞-サ変可能, lemma:認識\n",
            "text:等, pos:NOUN, tag:接尾辞-名詞的-一般, lemma:等\n",
            "text:ある, pos:VERB, tag:動詞-非自立可能, lemma:ある\n",
            "text:4, pos:NUM, tag:名詞-数詞, lemma:4\n",
            "text:1956, pos:NUM, tag:名詞-数詞, lemma:1956\n",
            "text:年, pos:NOUN, tag:名詞-普通名詞-助数詞可能, lemma:年\n",
            "text:ダートマス, pos:PROPN, tag:名詞-固有名詞-一般, lemma:ダートマス\n",
            "text:会議, pos:NOUN, tag:名詞-普通名詞-サ変可能, lemma:会議\n",
            "text:ジョン, pos:PROPN, tag:名詞-固有名詞-人名-一般, lemma:ジョン\n",
            "text:マッカーシー, pos:PROPN, tag:名詞-固有名詞-人名-一般, lemma:マッカーシー\n",
            "text:より, pos:VERB, tag:動詞-一般, lemma:よる\n",
            "text:命名, pos:VERB, tag:名詞-普通名詞-サ変可能, lemma:命名\n",
            "text:現在, pos:NOUN, tag:名詞-普通名詞-副詞可能, lemma:現在\n",
            "text:記号, pos:NOUN, tag:名詞-普通名詞-一般, lemma:記号\n",
            "text:処理, pos:NOUN, tag:名詞-普通名詞-サ変可能, lemma:処理\n",
            "text:用い, pos:VERB, tag:動詞-一般, lemma:用いる\n",
            "text:知能, pos:NOUN, tag:名詞-普通名詞-一般, lemma:知能\n",
            "text:記述, pos:NOUN, tag:名詞-普通名詞-サ変可能, lemma:記述\n",
            "text:主体, pos:NOUN, tag:名詞-普通名詞-一般, lemma:主体\n",
            "text:する, pos:VERB, tag:動詞-非自立可能, lemma:する\n",
            "text:情報処理, pos:NOUN, tag:名詞-普通名詞-一般, lemma:情報処理\n",
            "text:研究, pos:NOUN, tag:名詞-普通名詞-サ変可能, lemma:研究\n",
            "text:アプローチ, pos:NOUN, tag:名詞-普通名詞-サ変可能, lemma:アプローチ\n",
            "text:いう, pos:VERB, tag:動詞-一般, lemma:いう\n",
            "text:意味あい, pos:NOUN, tag:名詞-普通名詞-一般, lemma:意味あい\n",
            "text:使わ, pos:VERB, tag:動詞-一般, lemma:使う\n",
            "text:家庭用電気機械器具, pos:NOUN, tag:名詞-普通名詞-一般, lemma:家庭用電気機械器具\n",
            "text:制御, pos:NOUN, tag:名詞-普通名詞-サ変可能, lemma:制御\n",
            "text:システム, pos:NOUN, tag:名詞-普通名詞-一般, lemma:システム\n",
            "text:ゲームソフト, pos:NOUN, tag:名詞-普通名詞-一般, lemma:ゲームソフト\n",
            "text:思考, pos:NOUN, tag:名詞-普通名詞-サ変可能, lemma:思考\n",
            "text:ルーチン, pos:NOUN, tag:名詞-普通名詞-一般, lemma:ルーチン\n",
            "text:こう, pos:ADV, tag:副詞, lemma:こう\n",
            "text:呼ば, pos:VERB, tag:動詞-一般, lemma:呼ぶ\n",
            "text:こと, pos:NOUN, tag:名詞-普通名詞-一般, lemma:こと\n",
            "text:ある, pos:VERB, tag:動詞-非自立可能, lemma:ある\n",
            "text:プログラミング, pos:NOUN, tag:名詞-普通名詞-サ変可能, lemma:プログラミング\n",
            "text:言語, pos:NOUN, tag:名詞-普通名詞-一般, lemma:言語\n",
            "text:LISP, pos:PROPN, tag:名詞-固有名詞-人名-一般, lemma:LISP\n",
            "text:よる, pos:VERB, tag:動詞-一般, lemma:よる\n",
            "text:ELIZA, pos:NOUN, tag:名詞-普通名詞-一般, lemma:ELIZA\n",
            "text:いう, pos:VERB, tag:動詞-一般, lemma:いう\n",
            "text:カウンセラー, pos:NOUN, tag:名詞-普通名詞-一般, lemma:カウンセラー\n",
            "text:模倣, pos:VERB, tag:名詞-普通名詞-サ変可能, lemma:模倣\n",
            "text:プログラム, pos:NOUN, tag:名詞-普通名詞-サ変可能, lemma:プログラム\n",
            "text:人工, pos:NOUN, tag:名詞-普通名詞-一般, lemma:人工\n",
            "text:無脳, pos:NOUN, tag:名詞-普通名詞-一般, lemma:無脳\n",
            "text:しばしば, pos:ADV, tag:副詞, lemma:しばしば\n",
            "text:引き合い, pos:NOUN, tag:名詞-普通名詞-一般, lemma:引き合い\n",
            "text:出さ, pos:VERB, tag:動詞-非自立可能, lemma:出す\n",
            "text:計算機, pos:NOUN, tag:名詞-普通名詞-一般, lemma:計算機\n",
            "text:人間, pos:NOUN, tag:名詞-普通名詞-一般, lemma:人間\n",
            "text:専門家, pos:NOUN, tag:名詞-普通名詞-一般, lemma:専門家\n",
            "text:役割, pos:NOUN, tag:名詞-普通名詞-一般, lemma:役割\n",
            "text:さ, pos:VERB, tag:動詞-非自立可能, lemma:する\n",
            "text:いう, pos:VERB, tag:動詞-一般, lemma:いう\n",
            "text:エキスパートシステム, pos:NOUN, tag:名詞-普通名詞-一般, lemma:エキスパートシステム\n",
            "text:呼ば, pos:VERB, tag:動詞-一般, lemma:呼ぶ\n",
            "text:研究, pos:NOUN, tag:名詞-普通名詞-サ変可能, lemma:研究\n",
            "text:情報処理, pos:NOUN, tag:名詞-普通名詞-一般, lemma:情報処理\n",
            "text:システム, pos:NOUN, tag:名詞-普通名詞-一般, lemma:システム\n",
            "text:実現, pos:NOUN, tag:名詞-普通名詞-サ変可能, lemma:実現\n",
            "text:人間, pos:NOUN, tag:名詞-普通名詞-一般, lemma:人間\n",
            "text:暗黙, pos:NOUN, tag:名詞-普通名詞-一般, lemma:暗黙\n",
            "text:持つ, pos:VERB, tag:動詞-一般, lemma:持つ\n",
            "text:常識, pos:NOUN, tag:名詞-普通名詞-一般, lemma:常識\n",
            "text:記述, pos:NOUN, tag:名詞-普通名詞-サ変可能, lemma:記述\n",
            "text:問題, pos:NOUN, tag:名詞-普通名詞-一般, lemma:問題\n",
            "text:なり, pos:VERB, tag:動詞-非自立可能, lemma:なる\n",
            "text:実用, pos:NOUN, tag:名詞-普通名詞-サ変可能, lemma:実用\n",
            "text:利用, pos:NOUN, tag:名詞-普通名詞-サ変可能, lemma:利用\n",
            "text:困難, pos:NOUN, tag:名詞-普通名詞-形状詞可能, lemma:困難\n",
            "text:視, pos:NOUN, tag:接尾辞-名詞的-サ変可能, lemma:視\n",
            "text:人工的, pos:ADJ, tag:名詞-普通名詞-形状詞可能, lemma:人工的\n",
            "text:知能, pos:NOUN, tag:名詞-普通名詞-一般, lemma:知能\n",
            "text:実現, pos:NOUN, tag:名詞-普通名詞-サ変可能, lemma:実現\n",
            "text:アプローチ, pos:NOUN, tag:名詞-普通名詞-サ変可能, lemma:アプローチ\n",
            "text:し, pos:VERB, tag:動詞-非自立可能, lemma:する\n",
            "text:ファジィ, pos:ADJ, tag:形状詞-一般, lemma:ファジィ\n",
            "text:理論, pos:NOUN, tag:名詞-普通名詞-一般, lemma:理論\n",
            "text:ニューラル, pos:NOUN, tag:名詞-普通名詞-形状詞可能, lemma:ニューラル\n",
            "text:ネットワーク, pos:NOUN, tag:名詞-普通名詞-一般, lemma:ネットワーク\n",
            "text:よう, pos:NOUN, tag:形状詞-助動詞語幹, lemma:よう\n",
            "text:アプローチ, pos:NOUN, tag:名詞-普通名詞-サ変可能, lemma:アプローチ\n",
            "text:知ら, pos:VERB, tag:動詞-一般, lemma:知る\n",
            "text:従来, pos:NOUN, tag:名詞-普通名詞-副詞可能, lemma:従来\n",
            "text:人工知能, pos:NOUN, tag:名詞-普通名詞-一般, lemma:人工知能\n",
            "text:GOFAI, pos:PROPN, tag:名詞-固有名詞-人名-一般, lemma:gofai\n",
            "text:Good, pos:NOUN, tag:名詞-普通名詞-一般, lemma:good\n",
            "text:Old, pos:NOUN, tag:名詞-普通名詞-一般, lemma:Old\n",
            "text:Fashioned, pos:NOUN, tag:名詞-普通名詞-一般, lemma:fashioned\n",
            "text:AI, pos:NOUN, tag:名詞-普通名詞-一般, lemma:AI\n",
            "text:差, pos:NOUN, tag:名詞-普通名詞-一般, lemma:差\n",
            "text:記述, pos:NOUN, tag:名詞-普通名詞-サ変可能, lemma:記述\n",
            "text:記号, pos:NOUN, tag:名詞-普通名詞-一般, lemma:記号\n",
            "text:明示, pos:NOUN, tag:名詞-普通名詞-サ変可能, lemma:明示\n",
            "text:性, pos:NOUN, tag:接尾辞-名詞的-一般, lemma:性\n",
            "text:ある, pos:VERB, tag:動詞-非自立可能, lemma:ある\n",
            "text:その後, pos:NOUN, tag:名詞-普通名詞-副詞可能, lemma:その後\n",
            "text:サポート, pos:NOUN, tag:名詞-普通名詞-サ変可能, lemma:サポート\n",
            "text:ベクター, pos:NOUN, tag:名詞-普通名詞-一般, lemma:ベクター\n",
            "text:マシン, pos:NOUN, tag:名詞-普通名詞-一般, lemma:マシン\n",
            "text:注目, pos:NOUN, tag:名詞-普通名詞-サ変可能, lemma:注目\n",
            "text:集め, pos:VERB, tag:動詞-一般, lemma:集める\n",
            "text:また, pos:CCONJ, tag:接続詞, lemma:また\n",
            "text:自ら, pos:NOUN, tag:名詞-普通名詞-副詞可能, lemma:自ら\n",
            "text:経験, pos:NOUN, tag:名詞-普通名詞-サ変可能, lemma:経験\n",
            "text:元, pos:NOUN, tag:名詞-普通名詞-一般, lemma:元\n",
            "text:学習, pos:NOUN, tag:名詞-普通名詞-サ変可能, lemma:学習\n",
            "text:行う, pos:VERB, tag:動詞-一般, lemma:行う\n",
            "text:強化, pos:NOUN, tag:名詞-普通名詞-サ変可能, lemma:強化\n",
            "text:学習, pos:NOUN, tag:名詞-普通名詞-サ変可能, lemma:学習\n",
            "text:いう, pos:VERB, tag:動詞-一般, lemma:いう\n",
            "text:手法, pos:NOUN, tag:名詞-普通名詞-一般, lemma:手法\n",
            "text:ある, pos:VERB, tag:動詞-非自立可能, lemma:ある\n",
            "text:宇宙, pos:NOUN, tag:名詞-普通名詞-一般, lemma:宇宙\n",
            "text:おい, pos:VERB, tag:動詞-一般, lemma:おく\n",
            "text:知性, pos:NOUN, tag:名詞-普通名詞-一般, lemma:知性\n",
            "text:最も, pos:ADV, tag:副詞, lemma:最も\n",
            "text:強力, pos:ADJ, tag:形状詞-一般, lemma:強力\n",
            "text:形質, pos:NOUN, tag:名詞-普通名詞-一般, lemma:形質\n",
            "text:レイ, pos:NOUN, tag:名詞-普通名詞-一般, lemma:レイ\n",
            "text:カーツ, pos:PROPN, tag:名詞-固有名詞-人名-一般, lemma:カーツ\n",
            "text:ワイル, pos:PROPN, tag:名詞-固有名詞-人名-一般, lemma:ワイル\n",
            "text:いう, pos:VERB, tag:動詞-一般, lemma:いう\n",
            "text:言葉, pos:NOUN, tag:名詞-普通名詞-一般, lemma:言葉\n",
            "text:通り, pos:NOUN, tag:名詞-普通名詞-助数詞可能, lemma:通り\n",
            "text:知性, pos:NOUN, tag:名詞-普通名詞-一般, lemma:知性\n",
            "text:機械的, pos:ADJ, tag:名詞-普通名詞-形状詞可能, lemma:機械的\n",
            "text:表現, pos:VERB, tag:名詞-普通名詞-サ変可能, lemma:表現\n",
            "text:実装, pos:VERB, tag:名詞-普通名詞-サ変可能, lemma:実装\n",
            "text:いう, pos:VERB, tag:動詞-一般, lemma:いう\n",
            "text:こと, pos:NOUN, tag:名詞-普通名詞-一般, lemma:こと\n",
            "text:極めて, pos:ADV, tag:副詞, lemma:極めて\n",
            "text:重要, pos:ADJ, tag:形状詞-一般, lemma:重要\n",
            "text:作業, pos:NOUN, tag:名詞-普通名詞-サ変可能, lemma:作業\n",
            "text:2006, pos:NUM, tag:名詞-数詞, lemma:2006\n",
            "text:年, pos:NOUN, tag:名詞-普通名詞-助数詞可能, lemma:年\n",
            "text:ディープラーニング, pos:NOUN, tag:名詞-普通名詞-一般, lemma:ディープラーニング\n",
            "text:深層学習, pos:NOUN, tag:名詞-普通名詞-一般, lemma:深層学習\n",
            "text:登場, pos:NOUN, tag:名詞-普通名詞-サ変可能, lemma:登場\n",
            "text:2010, pos:NUM, tag:名詞-数詞, lemma:2010\n",
            "text:年, pos:NOUN, tag:名詞-普通名詞-助数詞可能, lemma:年\n",
            "text:代, pos:NOUN, tag:名詞-普通名詞-助数詞可能, lemma:代\n",
            "text:以降, pos:NOUN, tag:名詞-普通名詞-副詞可能, lemma:以降\n",
            "text:ビッグデータ, pos:NOUN, tag:名詞-普通名詞-一般, lemma:ビッグデータ\n",
            "text:登場, pos:NOUN, tag:名詞-普通名詞-サ変可能, lemma:登場\n",
            "text:より, pos:VERB, tag:動詞-一般, lemma:よる\n",
            "text:一過性, pos:NOUN, tag:名詞-普通名詞-一般, lemma:一過性\n",
            "text:流行, pos:NOUN, tag:名詞-普通名詞-サ変可能, lemma:流行\n",
            "text:超え, pos:VERB, tag:動詞-一般, lemma:超える\n",
            "text:社会, pos:NOUN, tag:名詞-普通名詞-一般, lemma:社会\n",
            "text:浸透, pos:VERB, tag:名詞-普通名詞-サ変可能, lemma:浸透\n",
            "text:2016, pos:NUM, tag:名詞-数詞, lemma:2016\n",
            "text:年, pos:NOUN, tag:名詞-普通名詞-助数詞可能, lemma:年\n",
            "text:2017, pos:NUM, tag:名詞-数詞, lemma:2017\n",
            "text:年, pos:NOUN, tag:名詞-普通名詞-助数詞可能, lemma:年\n",
            "text:かけ, pos:VERB, tag:動詞-非自立可能, lemma:かける\n",
            "text:ディープラーニング, pos:NOUN, tag:名詞-普通名詞-一般, lemma:ディープラーニング\n",
            "text:導入, pos:VERB, tag:名詞-普通名詞-サ変可能, lemma:導入\n",
            "text:AI, pos:NOUN, tag:名詞-普通名詞-一般, lemma:AI\n",
            "text:完全, pos:ADJ, tag:形状詞-一般, lemma:完全\n",
            "text:情報, pos:NOUN, tag:名詞-普通名詞-一般, lemma:情報\n",
            "text:ゲーム, pos:NOUN, tag:名詞-普通名詞-一般, lemma:ゲーム\n",
            "text:囲碁, pos:NOUN, tag:名詞-普通名詞-一般, lemma:囲碁\n",
            "text:トップ, pos:NOUN, tag:名詞-普通名詞-一般, lemma:トップ\n",
            "text:棋士, pos:NOUN, tag:名詞-普通名詞-一般, lemma:棋士\n",
            "text:さらに, pos:ADV, tag:副詞, lemma:さらに\n",
            "text:不完全, pos:NOUN, tag:名詞-普通名詞-形状詞可能, lemma:不完全\n",
            "text:情報, pos:NOUN, tag:名詞-普通名詞-一般, lemma:情報\n",
            "text:ゲーム, pos:NOUN, tag:名詞-普通名詞-一般, lemma:ゲーム\n",
            "text:ポーカー, pos:NOUN, tag:名詞-普通名詞-一般, lemma:ポーカー\n",
            "text:世界, pos:NOUN, tag:名詞-普通名詞-一般, lemma:世界\n",
            "text:トップクラス, pos:NOUN, tag:名詞-普通名詞-一般, lemma:トップクラス\n",
            "text:プレイヤー, pos:NOUN, tag:名詞-普通名詞-一般, lemma:プレイヤー\n",
            "text:破り, pos:VERB, tag:動詞-一般, lemma:破る\n",
            "text:6, pos:NUM, tag:名詞-数詞, lemma:6\n",
            "text:7, pos:NUM, tag:名詞-数詞, lemma:7\n",
            "text:麻雀, pos:NOUN, tag:名詞-普通名詞-一般, lemma:麻雀\n",
            "text:Microsoft, pos:PROPN, tag:名詞-固有名詞-一般, lemma:Microsoft\n",
            "text:Suphx, pos:NOUN, tag:名詞-普通名詞-一般, lemma:suphx\n",
            "text:Super, pos:NOUN, tag:名詞-普通名詞-一般, lemma:super\n",
            "text:Phoenix, pos:PROPN, tag:名詞-固有名詞-一般, lemma:Phoenix\n",
            "text:AI, pos:NOUN, tag:名詞-普通名詞-一般, lemma:AI\n",
            "text:し, pos:VERB, tag:動詞-非自立可能, lemma:する\n",
            "text:初めて, pos:ADV, tag:副詞, lemma:初めて\n",
            "text:十, pos:NUM, tag:名詞-数詞, lemma:十\n",
            "text:段, pos:NOUN, tag:名詞-普通名詞-助数詞可能, lemma:段\n",
            "text:到達, pos:VERB, tag:名詞-普通名詞-サ変可能, lemma:到達\n",
            "text:8, pos:NUM, tag:名詞-数詞, lemma:8\n",
            "text:時代, pos:NOUN, tag:名詞-普通名詞-一般, lemma:時代\n",
            "text:最先端技術, pos:NOUN, tag:名詞-普通名詞-一般, lemma:最先端技術\n",
            "text:なっ, pos:VERB, tag:動詞-非自立可能, lemma:なる\n",
            "text:9, pos:NUM, tag:名詞-数詞, lemma:9\n",
            "text:第, pos:NOUN, tag:接頭辞, lemma:第\n",
            "text:２, pos:NUM, tag:名詞-数詞, lemma:2\n",
            "text:次, pos:NOUN, tag:接尾辞-名詞的-助数詞, lemma:次\n",
            "text:人工知能, pos:NOUN, tag:名詞-普通名詞-一般, lemma:人工知能\n",
            "text:ブーム, pos:NOUN, tag:名詞-普通名詞-一般, lemma:ブーム\n",
            "text:人工知能, pos:NOUN, tag:名詞-普通名詞-一般, lemma:人工知能\n",
            "text:機械学習, pos:NOUN, tag:名詞-普通名詞-一般, lemma:機械学習\n",
            "text:呼ば, pos:VERB, tag:動詞-一般, lemma:呼ぶ\n",
            "text:以下, pos:NOUN, tag:名詞-普通名詞-一般, lemma:以下\n",
            "text:よう, pos:NOUN, tag:形状詞-助動詞語幹, lemma:よう\n",
            "text:もの, pos:NOUN, tag:名詞-普通名詞-サ変可能, lemma:もの\n",
            "text:ある, pos:VERB, tag:動詞-非自立可能, lemma:ある\n",
            "text:一方, pos:CCONJ, tag:接続詞, lemma:一方\n",
            "text:計算, pos:NOUN, tag:名詞-普通名詞-サ変可能, lemma:計算\n",
            "text:知能, pos:NOUN, tag:名詞-普通名詞-一般, lemma:知能\n",
            "text:CI, pos:NOUN, tag:名詞-普通名詞-一般, lemma:CI\n",
            "text:開発, pos:NOUN, tag:名詞-普通名詞-サ変可能, lemma:開発\n",
            "text:学習, pos:NOUN, tag:名詞-普通名詞-サ変可能, lemma:学習\n",
            "text:繰り返す, pos:VERB, tag:動詞-一般, lemma:繰り返す\n",
            "text:こと, pos:NOUN, tag:名詞-普通名詞-一般, lemma:こと\n",
            "text:基本, pos:NOUN, tag:名詞-普通名詞-一般, lemma:基本\n",
            "text:し, pos:VERB, tag:動詞-非自立可能, lemma:する\n",
            "text:例えば, pos:ADV, tag:副詞, lemma:例えば\n",
            "text:パラメータ, pos:NOUN, tag:名詞-普通名詞-一般, lemma:パラメータ\n",
            "text:調整, pos:NOUN, tag:名詞-普通名詞-サ変可能, lemma:調整\n",
            "text:コネクショニズム, pos:NOUN, tag:名詞-普通名詞-一般, lemma:コネクショニズム\n",
            "text:システム, pos:NOUN, tag:名詞-普通名詞-一般, lemma:システム\n",
            "text:学習, pos:NOUN, tag:名詞-普通名詞-サ変可能, lemma:学習\n",
            "text:経験, pos:NOUN, tag:名詞-普通名詞-サ変可能, lemma:経験\n",
            "text:基づく, pos:VERB, tag:動詞-一般, lemma:基づく\n",
            "text:手法, pos:NOUN, tag:名詞-普通名詞-一般, lemma:手法\n",
            "text:非, pos:NOUN, tag:接頭辞, lemma:非\n",
            "text:記号, pos:NOUN, tag:名詞-普通名詞-一般, lemma:記号\n",
            "text:AI, pos:NOUN, tag:名詞-普通名詞-一般, lemma:AI\n",
            "text:美しく, pos:ADJ, tag:形容詞-一般, lemma:美しい\n",
            "text:ない, pos:ADJ, tag:形容詞-非自立可能, lemma:ない\n",
            "text:AI, pos:NOUN, tag:名詞-普通名詞-一般, lemma:AI\n",
            "text:注, pos:NOUN, tag:名詞-普通名詞-一般, lemma:注\n",
            "text:1, pos:NUM, tag:名詞-数詞, lemma:1\n",
            "text:ソフト, pos:NOUN, tag:名詞-普通名詞-形状詞可能, lemma:ソフト\n",
            "text:コンピューティング, pos:NOUN, tag:名詞-普通名詞-一般, lemma:コンピューティング\n",
            "text:関係, pos:VERB, tag:名詞-普通名詞-サ変可能, lemma:関係\n",
            "text:手法, pos:NOUN, tag:名詞-普通名詞-一般, lemma:手法\n",
            "text:し, pos:VERB, tag:動詞-非自立可能, lemma:する\n",
            "text:以下, pos:NOUN, tag:名詞-普通名詞-一般, lemma:以下\n",
            "text:もの, pos:NOUN, tag:名詞-普通名詞-サ変可能, lemma:もの\n",
            "text:ある, pos:VERB, tag:動詞-非自立可能, lemma:ある\n",
            "text:これ, pos:PRON, tag:代名詞, lemma:これ\n",
            "text:ら, pos:NOUN, tag:接尾辞-名詞的-一般, lemma:ら\n",
            "text:統合, pos:VERB, tag:名詞-普通名詞-サ変可能, lemma:統合\n",
            "text:知的, pos:ADJ, tag:形状詞-一般, lemma:知的\n",
            "text:システム, pos:NOUN, tag:名詞-普通名詞-一般, lemma:システム\n",
            "text:作る, pos:VERB, tag:動詞-一般, lemma:作る\n",
            "text:試み, pos:NOUN, tag:名詞-普通名詞-一般, lemma:試み\n",
            "text:なさ, pos:VERB, tag:動詞-一般, lemma:なす\n",
            "text:ACT, pos:PROPN, tag:名詞-固有名詞-一般, lemma:ACT\n",
            "text:R, pos:NOUN, tag:名詞-普通名詞-一般, lemma:r\n",
            "text:エキスパート, pos:NOUN, tag:名詞-普通名詞-一般, lemma:エキスパート\n",
            "text:推論, pos:NOUN, tag:名詞-普通名詞-サ変可能, lemma:推論\n",
            "text:ルール, pos:NOUN, tag:名詞-普通名詞-一般, lemma:ルール\n",
            "text:統計的, pos:NOUN, tag:名詞-普通名詞-形状詞可能, lemma:統計的\n",
            "text:学習, pos:NOUN, tag:名詞-普通名詞-サ変可能, lemma:学習\n",
            "text:元, pos:NOUN, tag:名詞-普通名詞-一般, lemma:元\n",
            "text:ニューラル, pos:NOUN, tag:名詞-普通名詞-形状詞可能, lemma:ニューラル\n",
            "text:ネットワーク, pos:NOUN, tag:名詞-普通名詞-一般, lemma:ネットワーク\n",
            "text:生成, pos:NOUN, tag:名詞-普通名詞-サ変可能, lemma:生成\n",
            "text:規則, pos:NOUN, tag:名詞-普通名詞-一般, lemma:規則\n",
            "text:通し, pos:VERB, tag:動詞-非自立可能, lemma:通す\n",
            "text:生成, pos:VERB, tag:名詞-普通名詞-サ変可能, lemma:生成\n",
            "text:第, pos:NOUN, tag:接頭辞, lemma:第\n",
            "text:3, pos:NUM, tag:名詞-数詞, lemma:3\n",
            "text:次, pos:NOUN, tag:接尾辞-名詞的-助数詞, lemma:次\n",
            "text:人工知能, pos:NOUN, tag:名詞-普通名詞-一般, lemma:人工知能\n",
            "text:ブーム, pos:NOUN, tag:名詞-普通名詞-一般, lemma:ブーム\n",
            "text:ディープラーニング, pos:NOUN, tag:名詞-普通名詞-一般, lemma:ディープラーニング\n",
            "text:画像, pos:NOUN, tag:名詞-普通名詞-一般, lemma:画像\n",
            "text:認識, pos:NOUN, tag:名詞-普通名詞-サ変可能, lemma:認識\n",
            "text:テキスト, pos:NOUN, tag:名詞-普通名詞-一般, lemma:テキスト\n",
            "text:解析, pos:NOUN, tag:名詞-普通名詞-サ変可能, lemma:解析\n",
            "text:音声, pos:NOUN, tag:名詞-普通名詞-一般, lemma:音声\n",
            "text:認識, pos:NOUN, tag:名詞-普通名詞-サ変可能, lemma:認識\n",
            "text:様々, pos:ADJ, tag:形状詞-一般, lemma:様々\n",
            "text:領域, pos:NOUN, tag:名詞-普通名詞-一般, lemma:領域\n",
            "text:第, pos:NOUN, tag:接頭辞, lemma:第\n",
            "text:2, pos:NUM, tag:名詞-数詞, lemma:2\n",
            "text:次, pos:NOUN, tag:接尾辞-名詞的-助数詞, lemma:次\n",
            "text:人工知能, pos:NOUN, tag:名詞-普通名詞-一般, lemma:人工知能\n",
            "text:ブーム, pos:NOUN, tag:名詞-普通名詞-一般, lemma:ブーム\n",
            "text:人工知能, pos:NOUN, tag:名詞-普通名詞-一般, lemma:人工知能\n",
            "text:上回る, pos:VERB, tag:動詞-一般, lemma:上回る\n",
            "text:精度, pos:NOUN, tag:名詞-普通名詞-一般, lemma:精度\n",
            "text:出し, pos:VERB, tag:動詞-非自立可能, lemma:出す\n",
            "text:ディープラーニング, pos:NOUN, tag:名詞-普通名詞-一般, lemma:ディープラーニング\n",
            "text:研究, pos:NOUN, tag:名詞-普通名詞-サ変可能, lemma:研究\n",
            "text:盛ん, pos:ADJ, tag:形状詞-一般, lemma:盛ん\n",
            "text:行わ, pos:VERB, tag:動詞-一般, lemma:行う\n",
            "text:最近, pos:NOUN, tag:名詞-普通名詞-副詞可能, lemma:最近\n",
            "text:DQN, pos:NOUN, tag:名詞-普通名詞-一般, lemma:DQN\n",
            "text:CNN, pos:PROPN, tag:名詞-固有名詞-一般, lemma:CNN\n",
            "text:RNN, pos:NOUN, tag:名詞-普通名詞-一般, lemma:rnn\n",
            "text:GAN, pos:NOUN, tag:名詞-普通名詞-一般, lemma:gan\n",
            "text:様々, pos:ADJ, tag:形状詞-一般, lemma:様々\n",
            "text:ディープラーニング, pos:NOUN, tag:名詞-普通名詞-一般, lemma:ディープラーニング\n",
            "text:派生, pos:NOUN, tag:名詞-普通名詞-サ変可能, lemma:派生\n",
            "text:で, pos:VERB, tag:動詞-一般, lemma:でる\n",
            "text:各, pos:NOUN, tag:接頭辞, lemma:各\n",
            "text:分野, pos:NOUN, tag:名詞-普通名詞-一般, lemma:分野\n",
            "text:活躍, pos:VERB, tag:名詞-普通名詞-サ変可能, lemma:活躍\n",
            "text:特に, pos:ADV, tag:副詞, lemma:特に\n",
            "text:GAN, pos:NOUN, tag:名詞-普通名詞-一般, lemma:gan\n",
            "text:敵対的, pos:NOUN, tag:名詞-普通名詞-形状詞可能, lemma:敵対的\n",
            "text:生成, pos:NOUN, tag:名詞-普通名詞-サ変可能, lemma:生成\n",
            "text:ネットワーク, pos:NOUN, tag:名詞-普通名詞-一般, lemma:ネットワーク\n",
            "text:ディープラーニング, pos:NOUN, tag:名詞-普通名詞-一般, lemma:ディープラーニング\n",
            "text:認識, pos:NOUN, tag:名詞-普通名詞-サ変可能, lemma:認識\n",
            "text:予測, pos:NOUN, tag:名詞-普通名詞-サ変可能, lemma:予測\n",
            "text:分野, pos:NOUN, tag:名詞-普通名詞-一般, lemma:分野\n",
            "text:成果, pos:NOUN, tag:名詞-普通名詞-一般, lemma:成果\n",
            "text:だし, pos:VERB, tag:動詞-非自立可能, lemma:だす\n",
            "text:こと, pos:NOUN, tag:名詞-普通名詞-一般, lemma:こと\n",
            "text:加え, pos:VERB, tag:動詞-一般, lemma:加える\n",
            "text:画像, pos:NOUN, tag:名詞-普通名詞-一般, lemma:画像\n",
            "text:生成, pos:NOUN, tag:名詞-普通名詞-サ変可能, lemma:生成\n",
            "text:技術, pos:NOUN, tag:名詞-普通名詞-一般, lemma:技術\n",
            "text:おい, pos:VERB, tag:動詞-一般, lemma:おく\n",
            "text:進化, pos:NOUN, tag:名詞-普通名詞-サ変可能, lemma:進化\n",
            "text:見せ, pos:VERB, tag:動詞-非自立可能, lemma:見せる\n",
            "text:森, pos:PROPN, tag:名詞-固有名詞-人名-姓, lemma:森\n",
            "text:正弥, pos:PROPN, tag:名詞-固有名詞-人名-名, lemma:正弥\n",
            "text:これ, pos:PRON, tag:代名詞, lemma:これ\n",
            "text:ら, pos:NOUN, tag:接尾辞-名詞的-一般, lemma:ら\n",
            "text:成果, pos:NOUN, tag:名詞-普通名詞-一般, lemma:成果\n",
            "text:背景, pos:NOUN, tag:名詞-普通名詞-一般, lemma:背景\n",
            "text:従来, pos:NOUN, tag:名詞-普通名詞-副詞可能, lemma:従来\n",
            "text:人工知能, pos:NOUN, tag:名詞-普通名詞-一般, lemma:人工知能\n",
            "text:応用, pos:NOUN, tag:名詞-普通名詞-サ変可能, lemma:応用\n",
            "text:分野, pos:NOUN, tag:名詞-普通名詞-一般, lemma:分野\n",
            "text:広がっ, pos:VERB, tag:動詞-一般, lemma:広がる\n",
            "text:Creative, pos:PROPN, tag:名詞-固有名詞-一般, lemma:Creative\n",
            "text:AI, pos:NOUN, tag:名詞-普通名詞-一般, lemma:AI\n",
            "text:いう, pos:VERB, tag:動詞-一般, lemma:いう\n",
            "text:コンテンツ, pos:NOUN, tag:名詞-普通名詞-一般, lemma:コンテンツ\n",
            "text:生成, pos:NOUN, tag:名詞-普通名詞-サ変可能, lemma:生成\n",
            "text:行っ, pos:VERB, tag:動詞-一般, lemma:行う\n",
            "text:応用, pos:NOUN, tag:名詞-普通名詞-サ変可能, lemma:応用\n",
            "text:始まっ, pos:VERB, tag:動詞-一般, lemma:始まる\n",
            "text:指摘, pos:VERB, tag:名詞-普通名詞-サ変可能, lemma:指摘\n",
            "text:10, pos:NUM, tag:名詞-数詞, lemma:10\n",
            "text:AI, pos:NOUN, tag:名詞-普通名詞-一般, lemma:AI\n",
            "text:構築, pos:NOUN, tag:名詞-普通名詞-サ変可能, lemma:構築\n",
            "text:長い, pos:ADJ, tag:形容詞-一般, lemma:長い\n",
            "text:間, pos:NOUN, tag:名詞-普通名詞-副詞可能, lemma:間\n",
            "text:試み, pos:VERB, tag:動詞-一般, lemma:試みる\n",
            "text:シンボルグラウンディング, pos:NOUN, tag:名詞-普通名詞-一般, lemma:シンボルグラウンディング\n",
            "text:問題, pos:NOUN, tag:名詞-普通名詞-一般, lemma:問題\n",
            "text:フレーム, pos:NOUN, tag:名詞-普通名詞-一般, lemma:フレーム\n",
            "text:問題, pos:NOUN, tag:名詞-普通名詞-一般, lemma:問題\n",
            "text:解決, pos:NOUN, tag:名詞-普通名詞-サ変可能, lemma:解決\n",
            "text:壁, pos:NOUN, tag:名詞-普通名詞-一般, lemma:壁\n",
            "text:なっ, pos:VERB, tag:動詞-非自立可能, lemma:なる\n"
          ],
          "name": "stdout"
        }
      ]
    },
    {
      "cell_type": "code",
      "metadata": {
        "id": "bnuFm2f7K2Rn",
        "outputId": "d2966a38-3079-4cfa-f078-88f2962fc13b",
        "colab": {
          "base_uri": "https://localhost:8080/",
          "height": 55
        }
      },
      "source": [
        "# すべてのlemmaを半角スペースでつないで、長い文字列にする。\n",
        "\n",
        "doc_AI = ' '.join(tokens)\n",
        "print(doc_AI)"
      ],
      "execution_count": 19,
      "outputs": [
        {
          "output_type": "stream",
          "text": [
            "人工知能 じん こうち 英 artificial intelligence AI エーアイ 計算 computation いう 概念 コンピュータ Computer いう 道具 用いる 知能 研究 計算機科学 computer science 一 分野 指す 語 1 言語 理解 推論 問題解決 知的 行動 人間 代わる コンピューター 行う 技術 2 また 計算機 コンピュータ よる 知的 情報処理 システム 設計 実現 関する 研究 分野 する 3 日本 大 百科全書 ニッポニカ 解説 情報 工学者 通信 工学者 佐藤 理史 次 よう 述べる 1 人間 知的 能力 コンピュータ 上 実現 様々 技術 ソフトウェア コンピュータシステム 4 応用 例 自然 言語 処理 機械 翻訳 かな 漢字 変換 構文 解析 等 5 専門家 推論 判断 模倣 エキスパートシステム 画像データ 解析 特定 パターン 検出 抽出 画像 認識 等 ある 4 1956 年 ダートマス 会議 ジョン マッカーシー よる 命名 現在 記号 処理 用いる 知能 記述 主体 する 情報処理 研究 アプローチ いう 意味あい 使う 家庭用電気機械器具 制御 システム ゲームソフト 思考 ルーチン こう 呼ぶ こと ある プログラミング 言語 LISP よる ELIZA いう カウンセラー 模倣 プログラム 人工 無脳 しばしば 引き合い 出す 計算機 人間 専門家 役割 する いう エキスパートシステム 呼ぶ 研究 情報処理 システム 実現 人間 暗黙 持つ 常識 記述 問題 なる 実用 利用 困難 視 人工的 知能 実現 アプローチ する ファジィ 理論 ニューラル ネットワーク よう アプローチ 知る 従来 人工知能 gofai good Old fashioned AI 差 記述 記号 明示 性 ある その後 サポート ベクター マシン 注目 集める また 自ら 経験 元 学習 行う 強化 学習 いう 手法 ある 宇宙 おく 知性 最も 強力 形質 レイ カーツ ワイル いう 言葉 通り 知性 機械的 表現 実装 いう こと 極めて 重要 作業 2006 年 ディープラーニング 深層学習 登場 2010 年 代 以降 ビッグデータ 登場 よる 一過性 流行 超える 社会 浸透 2016 年 2017 年 かける ディープラーニング 導入 AI 完全 情報 ゲーム 囲碁 トップ 棋士 さらに 不完全 情報 ゲーム ポーカー 世界 トップクラス プレイヤー 破る 6 7 麻雀 Microsoft suphx super Phoenix AI する 初めて 十 段 到達 8 時代 最先端技術 なる 9 第 2 次 人工知能 ブーム 人工知能 機械学習 呼ぶ 以下 よう もの ある 一方 計算 知能 CI 開発 学習 繰り返す こと 基本 する 例えば パラメータ 調整 コネクショニズム システム 学習 経験 基づく 手法 非 記号 AI 美しい ない AI 注 1 ソフト コンピューティング 関係 手法 する 以下 もの ある これ ら 統合 知的 システム 作る 試み なす ACT r エキスパート 推論 ルール 統計的 学習 元 ニューラル ネットワーク 生成 規則 通す 生成 第 3 次 人工知能 ブーム ディープラーニング 画像 認識 テキスト 解析 音声 認識 様々 領域 第 2 次 人工知能 ブーム 人工知能 上回る 精度 出す ディープラーニング 研究 盛ん 行う 最近 DQN CNN rnn gan 様々 ディープラーニング 派生 でる 各 分野 活躍 特に gan 敵対的 生成 ネットワーク ディープラーニング 認識 予測 分野 成果 だす こと 加える 画像 生成 技術 おく 進化 見せる 森 正弥 これ ら 成果 背景 従来 人工知能 応用 分野 広がる Creative AI いう コンテンツ 生成 行う 応用 始まる 指摘 10 AI 構築 長い 間 試みる シンボルグラウンディング 問題 フレーム 問題 解決 壁 なる\n"
          ],
          "name": "stdout"
        }
      ]
    },
    {
      "cell_type": "markdown",
      "metadata": {
        "id": "M94JaaA1zWRB"
      },
      "source": [
        "### 上記の操作をまとめておこなう関数を定義しておく。\n",
        "* 後で、各エントリについて、この関数を呼び出す。"
      ]
    },
    {
      "cell_type": "code",
      "metadata": {
        "id": "HAJ5fUnTzV7w"
      },
      "source": [
        "def morph(soup, nlp):\n",
        "\n",
        "  lines = list()\n",
        "  for para in soup.find_all('p'):\n",
        "    lines.append(para.text)\n",
        "\n",
        "  x_pos = ['SPACE', 'PUNCT', 'AUX', 'ADP', 'SYM', 'DET', 'SCONJ', 'PART']\n",
        "  tokens = list()\n",
        "  for line in lines:\n",
        "    for token in nlp(line):\n",
        "      pos = token.pos_\n",
        "      if pos not in x_pos:\n",
        "        tokens.append(token.lemma_)\n",
        "\n",
        "  return ' '.join(tokens)"
      ],
      "execution_count": 20,
      "outputs": []
    },
    {
      "cell_type": "markdown",
      "metadata": {
        "id": "Uha2LvYf1LZd"
      },
      "source": [
        "## 課題の手順(2)"
      ]
    },
    {
      "cell_type": "markdown",
      "metadata": {
        "id": "hAByKozFtYwF"
      },
      "source": [
        "### 「コンピュータ科学」の様々な分野に関するWikipediaエントリについて上記の作業を実行\n",
        "*  「人工知能」エントリの下部にある「コンピュータ科学」の分野一覧から、aタグのhref属性にあるURLを抜き出す。\n",
        "* ただし、__`/wiki/`__という文字列で始まっているURLであり、かつ、テンプレートの状態でないものだけを抜き出す。\n",
        " * Wikipediaのクローリングについてもっと詳しく知りたい場合は、下記のページ等を参照されたい。\n",
        "   * https://medium.com/@robinlphood/tutorial-a-simple-crawler-for-wikipedia-d7b6f6f55d5"
      ]
    },
    {
      "cell_type": "code",
      "metadata": {
        "id": "6qTCAg07qwcn",
        "outputId": "1bf13ed6-1b9a-400a-aa8a-798576ca11ba",
        "colab": {
          "base_uri": "https://localhost:8080/",
          "height": 1000
        }
      },
      "source": [
        "# 「人工知能」エントリの下部にある「コンピュータ科学」の分野一覧から、aタグのhref属性にあるURLを抜き出す。\n",
        "\n",
        "target_str = '表話編歴コンピュータ科学'\n",
        "prefix = '/wiki/'\n",
        "\n",
        "urls = dict()\n",
        "for table in soup.find_all('table'):\n",
        "  if table.text[:len(target_str)] != target_str: continue\n",
        "  for td in table.find_all('td'):\n",
        "    for a in td.find_all('a'):\n",
        "      if not a.text: continue\n",
        "      try:\n",
        "        if a.text.find('英語版') == -1:\n",
        "          href = a['href']\n",
        "          if href[:len(prefix)] == prefix and href.find('/Template:') == -1 and href.find('/Category:') == -1:\n",
        "            urls[a.text] = 'https://ja.wikipedia.org' + href\n",
        "      except:\n",
        "        continue\n",
        "\n",
        "for k in urls:\n",
        "  print(k, urls[k])"
      ],
      "execution_count": 21,
      "outputs": [
        {
          "output_type": "stream",
          "text": [
            "コンピュータ科学 https://ja.wikipedia.org/wiki/%E3%82%B3%E3%83%B3%E3%83%94%E3%83%A5%E3%83%BC%E3%82%BF%E7%A7%91%E5%AD%A6\n",
            "ハードウェア https://ja.wikipedia.org/wiki/%E3%83%8F%E3%83%BC%E3%83%89%E3%82%A6%E3%82%A7%E3%82%A2\n",
            "プリント基板 https://ja.wikipedia.org/wiki/%E3%83%97%E3%83%AA%E3%83%B3%E3%83%88%E5%9F%BA%E6%9D%BF\n",
            "周辺機器 https://ja.wikipedia.org/wiki/%E5%91%A8%E8%BE%BA%E6%A9%9F%E5%99%A8\n",
            "集積回路 https://ja.wikipedia.org/wiki/%E9%9B%86%E7%A9%8D%E5%9B%9E%E8%B7%AF\n",
            "Systems on Chip (SoCs) https://ja.wikipedia.org/wiki/System-on-a-chip\n",
            "エネルギー消費 (グリーン・コンピューティング) https://ja.wikipedia.org/wiki/%E3%82%B0%E3%83%AA%E3%83%BC%E3%83%B3IT\n",
            "EDA https://ja.wikipedia.org/wiki/EDA\n",
            "ハードウェアアクセラレーション https://ja.wikipedia.org/wiki/%E3%83%8F%E3%83%BC%E3%83%89%E3%82%A6%E3%82%A7%E3%82%A2%E3%82%A2%E3%82%AF%E3%82%BB%E3%83%A9%E3%83%AC%E3%83%BC%E3%82%B7%E3%83%A7%E3%83%B3\n",
            "コンピュータ・アーキテクチャ https://ja.wikipedia.org/wiki/%E3%82%B3%E3%83%B3%E3%83%94%E3%83%A5%E3%83%BC%E3%82%BF%E3%83%BB%E3%82%A2%E3%83%BC%E3%82%AD%E3%83%86%E3%82%AF%E3%83%81%E3%83%A3\n",
            "組み込みシステム https://ja.wikipedia.org/wiki/%E7%B5%84%E3%81%BF%E8%BE%BC%E3%81%BF%E3%82%B7%E3%82%B9%E3%83%86%E3%83%A0\n",
            "リアルタイムシステム https://ja.wikipedia.org/wiki/%E3%83%AA%E3%82%A2%E3%83%AB%E3%82%BF%E3%82%A4%E3%83%A0%E3%82%B7%E3%82%B9%E3%83%86%E3%83%A0\n",
            "ディペンダビリティ https://ja.wikipedia.org/wiki/%E3%83%87%E3%82%A3%E3%83%9A%E3%83%B3%E3%83%80%E3%83%93%E3%83%AA%E3%83%86%E3%82%A3\n",
            "ネットワーク https://ja.wikipedia.org/wiki/%E3%82%B3%E3%83%B3%E3%83%94%E3%83%A5%E3%83%BC%E3%82%BF%E3%83%8D%E3%83%83%E3%83%88%E3%83%AF%E3%83%BC%E3%82%AF\n",
            "通信プロトコル https://ja.wikipedia.org/wiki/%E9%80%9A%E4%BF%A1%E3%83%97%E3%83%AD%E3%83%88%E3%82%B3%E3%83%AB\n",
            "インタプリタ https://ja.wikipedia.org/wiki/%E3%82%A4%E3%83%B3%E3%82%BF%E3%83%97%E3%83%AA%E3%82%BF\n",
            "ミドルウェア https://ja.wikipedia.org/wiki/%E3%83%9F%E3%83%89%E3%83%AB%E3%82%A6%E3%82%A7%E3%82%A2\n",
            "仮想マシン https://ja.wikipedia.org/wiki/%E4%BB%AE%E6%83%B3%E3%83%9E%E3%82%B7%E3%83%B3\n",
            "オペレーティングシステム https://ja.wikipedia.org/wiki/%E3%82%AA%E3%83%9A%E3%83%AC%E3%83%BC%E3%83%86%E3%82%A3%E3%83%B3%E3%82%B0%E3%82%B7%E3%82%B9%E3%83%86%E3%83%A0\n",
            "ソフトウェア品質 https://ja.wikipedia.org/wiki/%E3%82%BD%E3%83%95%E3%83%88%E3%82%A6%E3%82%A7%E3%82%A2%E5%93%81%E8%B3%AA\n",
            "ツール https://ja.wikipedia.org/wiki/%E3%83%97%E3%83%AD%E3%82%B0%E3%83%A9%E3%83%9F%E3%83%B3%E3%82%B0%E3%83%84%E3%83%BC%E3%83%AB\n",
            "プログラミングパラダイム https://ja.wikipedia.org/wiki/%E3%83%97%E3%83%AD%E3%82%B0%E3%83%A9%E3%83%9F%E3%83%B3%E3%82%B0%E3%83%91%E3%83%A9%E3%83%80%E3%82%A4%E3%83%A0\n",
            "プログラミング言語 https://ja.wikipedia.org/wiki/%E3%83%97%E3%83%AD%E3%82%B0%E3%83%A9%E3%83%9F%E3%83%B3%E3%82%B0%E8%A8%80%E8%AA%9E\n",
            "コンパイラ https://ja.wikipedia.org/wiki/%E3%82%B3%E3%83%B3%E3%83%91%E3%82%A4%E3%83%A9\n",
            "ドメイン固有言語 https://ja.wikipedia.org/wiki/%E3%83%89%E3%83%A1%E3%82%A4%E3%83%B3%E5%9B%BA%E6%9C%89%E8%A8%80%E8%AA%9E\n",
            "モデリング言語 https://ja.wikipedia.org/wiki/%E3%83%A2%E3%83%87%E3%83%AA%E3%83%B3%E3%82%B0%E8%A8%80%E8%AA%9E\n",
            "ソフトウェアフレームワーク https://ja.wikipedia.org/wiki/%E3%82%BD%E3%83%95%E3%83%88%E3%82%A6%E3%82%A7%E3%82%A2%E3%83%95%E3%83%AC%E3%83%BC%E3%83%A0%E3%83%AF%E3%83%BC%E3%82%AF\n",
            "統合開発環境 https://ja.wikipedia.org/wiki/%E7%B5%B1%E5%90%88%E9%96%8B%E7%99%BA%E7%92%B0%E5%A2%83\n",
            "ソフトウェア構成管理 https://ja.wikipedia.org/wiki/%E3%82%BD%E3%83%95%E3%83%88%E3%82%A6%E3%82%A7%E3%82%A2%E6%A7%8B%E6%88%90%E7%AE%A1%E7%90%86\n",
            "ソフトウェアライブラリ https://ja.wikipedia.org/wiki/%E3%83%A9%E3%82%A4%E3%83%96%E3%83%A9%E3%83%AA\n",
            "ソフトウェアリポジトリ https://ja.wikipedia.org/wiki/%E3%83%AA%E3%83%9D%E3%82%B8%E3%83%88%E3%83%AA\n",
            "ソフトウェア開発 https://ja.wikipedia.org/wiki/%E3%82%BD%E3%83%95%E3%83%88%E3%82%A6%E3%82%A7%E3%82%A2%E9%96%8B%E7%99%BA\n",
            "ソフトウェア開発プロセス https://ja.wikipedia.org/wiki/%E3%82%BD%E3%83%95%E3%83%88%E3%82%A6%E3%82%A7%E3%82%A2%E9%96%8B%E7%99%BA%E3%83%97%E3%83%AD%E3%82%BB%E3%82%B9\n",
            "要求分析 https://ja.wikipedia.org/wiki/%E8%A6%81%E6%B1%82%E5%88%86%E6%9E%90\n",
            "ソフトウェア設計 https://ja.wikipedia.org/wiki/%E3%82%BD%E3%83%95%E3%83%88%E3%82%A6%E3%82%A7%E3%82%A2%E8%A8%AD%E8%A8%88\n",
            "ソフトウェアデプロイメント https://ja.wikipedia.org/wiki/%E3%82%BD%E3%83%95%E3%83%88%E3%82%A6%E3%82%A7%E3%82%A2%E3%83%87%E3%83%97%E3%83%AD%E3%82%A4%E3%83%A1%E3%83%B3%E3%83%88\n",
            "ソフトウェアメンテナンス https://ja.wikipedia.org/wiki/%E3%82%BD%E3%83%95%E3%83%88%E3%82%A6%E3%82%A7%E3%82%A2%E3%83%A1%E3%83%B3%E3%83%86%E3%83%8A%E3%83%B3%E3%82%B9\n",
            "オープンソースモデル https://ja.wikipedia.org/wiki/%E3%82%AA%E3%83%BC%E3%83%97%E3%83%B3%E3%82%BD%E3%83%BC%E3%82%B9%E3%82%BD%E3%83%95%E3%83%88%E3%82%A6%E3%82%A7%E3%82%A2\n",
            "計算理論 https://ja.wikipedia.org/wiki/%E8%A8%88%E7%AE%97%E7%90%86%E8%AB%96\n",
            "計算モデル https://ja.wikipedia.org/wiki/%E8%A8%88%E7%AE%97%E3%83%A2%E3%83%87%E3%83%AB\n",
            "形式言語 https://ja.wikipedia.org/wiki/%E5%BD%A2%E5%BC%8F%E8%A8%80%E8%AA%9E\n",
            "オートマトン理論 https://ja.wikipedia.org/wiki/%E3%82%AA%E3%83%BC%E3%83%88%E3%83%9E%E3%83%88%E3%83%B3%E7%90%86%E8%AB%96\n",
            "計算可能性理論 https://ja.wikipedia.org/wiki/%E8%A8%88%E7%AE%97%E5%8F%AF%E8%83%BD%E6%80%A7%E7%90%86%E8%AB%96\n",
            "計算複雑性理論 https://ja.wikipedia.org/wiki/%E8%A8%88%E7%AE%97%E8%A4%87%E9%9B%91%E6%80%A7%E7%90%86%E8%AB%96\n",
            "意味論 https://ja.wikipedia.org/wiki/%E3%83%97%E3%83%AD%E3%82%B0%E3%83%A9%E3%83%A0%E6%84%8F%E5%91%B3%E8%AB%96\n",
            "アルゴリズム https://ja.wikipedia.org/wiki/%E3%82%A2%E3%83%AB%E3%82%B4%E3%83%AA%E3%82%BA%E3%83%A0\n",
            "アルゴリズム解析 https://ja.wikipedia.org/wiki/%E3%82%A2%E3%83%AB%E3%82%B4%E3%83%AA%E3%82%BA%E3%83%A0%E8%A7%A3%E6%9E%90\n",
            "乱択アルゴリズム https://ja.wikipedia.org/wiki/%E4%B9%B1%E6%8A%9E%E3%82%A2%E3%83%AB%E3%82%B4%E3%83%AA%E3%82%BA%E3%83%A0\n",
            "計算幾何学 https://ja.wikipedia.org/wiki/%E8%A8%88%E7%AE%97%E5%B9%BE%E4%BD%95%E5%AD%A6\n",
            "離散数学 https://ja.wikipedia.org/wiki/%E9%9B%A2%E6%95%A3%E6%95%B0%E5%AD%A6\n",
            "確率 https://ja.wikipedia.org/wiki/%E7%A2%BA%E7%8E%87\n",
            "統計学 https://ja.wikipedia.org/wiki/%E7%B5%B1%E8%A8%88%E5%AD%A6\n",
            "数学ソフトウェア https://ja.wikipedia.org/wiki/%E6%95%B0%E5%AD%A6%E3%82%BD%E3%83%95%E3%83%88%E3%82%A6%E3%82%A7%E3%82%A2\n",
            "情報理論 https://ja.wikipedia.org/wiki/%E6%83%85%E5%A0%B1%E7%90%86%E8%AB%96\n",
            "解析学 https://ja.wikipedia.org/wiki/%E8%A7%A3%E6%9E%90%E5%AD%A6\n",
            "数値解析 https://ja.wikipedia.org/wiki/%E6%95%B0%E5%80%A4%E8%A7%A3%E6%9E%90\n",
            "情報システム https://ja.wikipedia.org/wiki/%E6%83%85%E5%A0%B1%E3%82%B7%E3%82%B9%E3%83%86%E3%83%A0\n",
            "データベース管理システム https://ja.wikipedia.org/wiki/%E3%83%87%E3%83%BC%E3%82%BF%E3%83%99%E3%83%BC%E3%82%B9\n",
            "情報ストレージシステム https://ja.wikipedia.org/wiki/%E8%A8%98%E6%86%B6%E8%A3%85%E7%BD%AE\n",
            "企業情報システム https://ja.wikipedia.org/wiki/%E4%BC%81%E6%A5%AD%E6%83%85%E5%A0%B1%E3%82%B7%E3%82%B9%E3%83%86%E3%83%A0\n",
            "地理情報システム https://ja.wikipedia.org/wiki/%E5%9C%B0%E7%90%86%E6%83%85%E5%A0%B1%E3%82%B7%E3%82%B9%E3%83%86%E3%83%A0\n",
            "意思決定支援システム https://ja.wikipedia.org/wiki/%E6%84%8F%E6%80%9D%E6%B1%BA%E5%AE%9A%E6%94%AF%E6%8F%B4%E3%82%B7%E3%82%B9%E3%83%86%E3%83%A0\n",
            "プロセス制御システム https://ja.wikipedia.org/wiki/%E3%83%97%E3%83%AD%E3%82%BB%E3%82%B9%E5%88%B6%E5%BE%A1\n",
            "データマイニング https://ja.wikipedia.org/wiki/%E3%83%87%E3%83%BC%E3%82%BF%E3%83%9E%E3%82%A4%E3%83%8B%E3%83%B3%E3%82%B0\n",
            "電子図書館 https://ja.wikipedia.org/wiki/%E9%9B%BB%E5%AD%90%E5%9B%B3%E6%9B%B8%E9%A4%A8\n",
            "コンピューティング・プラットフォーム https://ja.wikipedia.org/wiki/%E3%83%97%E3%83%A9%E3%83%83%E3%83%88%E3%83%95%E3%82%A9%E3%83%BC%E3%83%A0_(%E3%82%B3%E3%83%B3%E3%83%94%E3%83%A5%E3%83%BC%E3%83%86%E3%82%A3%E3%83%B3%E3%82%B0)\n",
            "デジタルマーケティング https://ja.wikipedia.org/wiki/%E3%83%87%E3%82%B8%E3%82%BF%E3%83%AB%E3%83%9E%E3%83%BC%E3%82%B1%E3%83%86%E3%82%A3%E3%83%B3%E3%82%B0\n",
            "World Wide Web https://ja.wikipedia.org/wiki/World_Wide_Web\n",
            "情報検索 https://ja.wikipedia.org/wiki/%E6%83%85%E5%A0%B1%E6%A4%9C%E7%B4%A2\n",
            "セキュリティ https://ja.wikipedia.org/wiki/%E3%82%B3%E3%83%B3%E3%83%94%E3%83%A5%E3%83%BC%E3%82%BF%E3%82%BB%E3%82%AD%E3%83%A5%E3%83%AA%E3%83%86%E3%82%A3\n",
            "暗号理論 https://ja.wikipedia.org/wiki/%E6%9A%97%E5%8F%B7%E7%90%86%E8%AB%96\n",
            "形式手法 https://ja.wikipedia.org/wiki/%E5%BD%A2%E5%BC%8F%E6%89%8B%E6%B3%95\n",
            "侵入検知システム https://ja.wikipedia.org/wiki/%E4%BE%B5%E5%85%A5%E6%A4%9C%E7%9F%A5%E3%82%B7%E3%82%B9%E3%83%86%E3%83%A0\n",
            "ネットワーク・セキュリティ https://ja.wikipedia.org/wiki/%E3%83%8D%E3%83%83%E3%83%88%E3%83%AF%E3%83%BC%E3%82%AF%E3%83%BB%E3%82%BB%E3%82%AD%E3%83%A5%E3%83%AA%E3%83%86%E3%82%A3\n",
            "情報セキュリティ https://ja.wikipedia.org/wiki/%E6%83%85%E5%A0%B1%E3%82%BB%E3%82%AD%E3%83%A5%E3%83%AA%E3%83%86%E3%82%A3\n",
            "ヒューマンコンピュータインタラクション https://ja.wikipedia.org/wiki/%E3%83%92%E3%83%A5%E3%83%BC%E3%83%9E%E3%83%B3%E3%82%B3%E3%83%B3%E3%83%94%E3%83%A5%E3%83%BC%E3%82%BF%E3%82%A4%E3%83%B3%E3%82%BF%E3%83%A9%E3%82%AF%E3%82%B7%E3%83%A7%E3%83%B3\n",
            "インタラクションデザイン https://ja.wikipedia.org/wiki/%E3%82%A4%E3%83%B3%E3%82%BF%E3%83%A9%E3%82%AF%E3%82%B7%E3%83%A7%E3%83%B3%E3%83%87%E3%82%B6%E3%82%A4%E3%83%B3\n",
            "ユビキタスコンピューティング https://ja.wikipedia.org/wiki/%E3%83%A6%E3%83%93%E3%82%AD%E3%82%BF%E3%82%B9%E3%82%B3%E3%83%B3%E3%83%94%E3%83%A5%E3%83%BC%E3%83%86%E3%82%A3%E3%83%B3%E3%82%B0\n",
            "可視化 https://ja.wikipedia.org/wiki/%E5%8F%AF%E8%A6%96%E5%8C%96\n",
            "アクセシビリティ https://ja.wikipedia.org/wiki/%E3%82%B3%E3%83%B3%E3%83%94%E3%83%A5%E3%83%BC%E3%82%BF%E3%82%A2%E3%82%AF%E3%82%BB%E3%82%B7%E3%83%93%E3%83%AA%E3%83%86%E3%82%A3\n",
            "並行性 https://ja.wikipedia.org/wiki/%E4%B8%A6%E8%A1%8C%E6%80%A7\n",
            "並行コンピューティング https://ja.wikipedia.org/wiki/%E4%B8%A6%E8%A1%8C%E3%82%B3%E3%83%B3%E3%83%94%E3%83%A5%E3%83%BC%E3%83%86%E3%82%A3%E3%83%B3%E3%82%B0\n",
            "並列コンピューティング https://ja.wikipedia.org/wiki/%E4%B8%A6%E5%88%97%E3%82%B3%E3%83%B3%E3%83%94%E3%83%A5%E3%83%BC%E3%83%86%E3%82%A3%E3%83%B3%E3%82%B0\n",
            "分散コンピューティング https://ja.wikipedia.org/wiki/%E5%88%86%E6%95%A3%E3%82%B3%E3%83%B3%E3%83%94%E3%83%A5%E3%83%BC%E3%83%86%E3%82%A3%E3%83%B3%E3%82%B0\n",
            "マルチスレッディング https://ja.wikipedia.org/wiki/%E3%83%8F%E3%83%BC%E3%83%89%E3%82%A6%E3%82%A7%E3%82%A2%E3%83%9E%E3%83%AB%E3%83%81%E3%82%B9%E3%83%AC%E3%83%83%E3%83%87%E3%82%A3%E3%83%B3%E3%82%B0\n",
            "マルチプロセッシング https://ja.wikipedia.org/wiki/%E3%83%9E%E3%83%AB%E3%83%81%E3%83%97%E3%83%AD%E3%82%BB%E3%83%83%E3%82%B7%E3%83%B3%E3%82%B0\n",
            "自然言語処理 https://ja.wikipedia.org/wiki/%E8%87%AA%E7%84%B6%E8%A8%80%E8%AA%9E%E5%87%A6%E7%90%86\n",
            "知識表現と推論 https://ja.wikipedia.org/wiki/%E7%9F%A5%E8%AD%98%E8%A1%A8%E7%8F%BE\n",
            "コンピュータビジョン https://ja.wikipedia.org/wiki/%E3%82%B3%E3%83%B3%E3%83%94%E3%83%A5%E3%83%BC%E3%82%BF%E3%83%93%E3%82%B8%E3%83%A7%E3%83%B3\n",
            "自動計画とスケジューリング https://ja.wikipedia.org/wiki/%E8%87%AA%E5%8B%95%E8%A8%88%E7%94%BB\n",
            "検索手法 https://ja.wikipedia.org/wiki/%E6%95%B0%E7%90%86%E6%9C%80%E9%81%A9%E5%8C%96\n",
            "制御手法 https://ja.wikipedia.org/wiki/%E5%88%B6%E5%BE%A1%E7%90%86%E8%AB%96\n",
            "機械学習 https://ja.wikipedia.org/wiki/%E6%A9%9F%E6%A2%B0%E5%AD%A6%E7%BF%92\n",
            "教師あり学習 https://ja.wikipedia.org/wiki/%E6%95%99%E5%B8%AB%E3%81%82%E3%82%8A%E5%AD%A6%E7%BF%92\n",
            "教師なし学習 https://ja.wikipedia.org/wiki/%E6%95%99%E5%B8%AB%E3%81%AA%E3%81%97%E5%AD%A6%E7%BF%92\n",
            "強化学習 https://ja.wikipedia.org/wiki/%E5%BC%B7%E5%8C%96%E5%AD%A6%E7%BF%92\n",
            "交差検証 https://ja.wikipedia.org/wiki/%E4%BA%A4%E5%B7%AE%E6%A4%9C%E8%A8%BC\n",
            "グラフィックス https://ja.wikipedia.org/wiki/%E3%82%B3%E3%83%B3%E3%83%94%E3%83%A5%E3%83%BC%E3%82%BF%E3%82%B0%E3%83%A9%E3%83%95%E3%82%A3%E3%83%83%E3%82%AF%E3%82%B9\n",
            "アニメーション https://ja.wikipedia.org/wiki/%E3%82%B3%E3%83%B3%E3%83%94%E3%83%A5%E3%83%BC%E3%82%BF%E3%82%A2%E3%83%8B%E3%83%A1%E3%83%BC%E3%82%B7%E3%83%A7%E3%83%B3\n",
            "レンダリング https://ja.wikipedia.org/wiki/%E3%83%AC%E3%83%B3%E3%83%80%E3%83%AA%E3%83%B3%E3%82%B0_(%E3%82%B3%E3%83%B3%E3%83%94%E3%83%A5%E3%83%BC%E3%82%BF)\n",
            "画像編集 https://ja.wikipedia.org/wiki/%E5%86%99%E7%9C%9F%E7%B7%A8%E9%9B%86\n",
            "GPU https://ja.wikipedia.org/wiki/GPU\n",
            "複合現実 https://ja.wikipedia.org/wiki/%E8%A4%87%E5%90%88%E7%8F%BE%E5%AE%9F\n",
            "バーチャル・リアリティ https://ja.wikipedia.org/wiki/%E3%83%90%E3%83%BC%E3%83%81%E3%83%A3%E3%83%AB%E3%83%BB%E3%83%AA%E3%82%A2%E3%83%AA%E3%83%86%E3%82%A3\n",
            "画像圧縮 https://ja.wikipedia.org/wiki/%E7%94%BB%E5%83%8F%E5%9C%A7%E7%B8%AE\n",
            "ソリッドモデリング https://ja.wikipedia.org/wiki/%E3%82%BD%E3%83%AA%E3%83%83%E3%83%89%E3%83%A2%E3%83%87%E3%83%AA%E3%83%B3%E3%82%B0\n",
            "電子商取引 https://ja.wikipedia.org/wiki/%E9%9B%BB%E5%AD%90%E5%95%86%E5%8F%96%E5%BC%95\n",
            "企業アプリケーション https://ja.wikipedia.org/wiki/%E4%BC%81%E6%A5%AD%E3%82%A2%E3%83%97%E3%83%AA%E3%82%B1%E3%83%BC%E3%82%B7%E3%83%A7%E3%83%B3\n",
            "計算物理学 https://ja.wikipedia.org/wiki/%E8%A8%88%E7%AE%97%E7%89%A9%E7%90%86%E5%AD%A6\n",
            "計算化学 https://ja.wikipedia.org/wiki/%E8%A8%88%E7%AE%97%E5%8C%96%E5%AD%A6\n",
            "計算生物学 https://ja.wikipedia.org/wiki/%E8%A8%88%E7%AE%97%E7%94%9F%E7%89%A9%E5%AD%A6\n",
            "計算社会科学 https://ja.wikipedia.org/wiki/%E8%A8%88%E7%AE%97%E7%A4%BE%E4%BC%9A%E7%A7%91%E5%AD%A6\n",
            "健康情報学 https://ja.wikipedia.org/wiki/%E5%81%A5%E5%BA%B7%E6%83%85%E5%A0%B1%E5%AD%A6\n",
            "デジタルアート https://ja.wikipedia.org/wiki/%E3%83%87%E3%82%B8%E3%82%BF%E3%83%AB%E3%82%A2%E3%83%BC%E3%83%88\n",
            "電子出版 https://ja.wikipedia.org/wiki/%E9%9B%BB%E5%AD%90%E5%87%BA%E7%89%88\n",
            "サイバー戦争 https://ja.wikipedia.org/wiki/%E3%82%B5%E3%82%A4%E3%83%90%E3%83%BC%E6%88%A6%E4%BA%89\n",
            "電子投票 https://ja.wikipedia.org/wiki/%E9%9B%BB%E5%AD%90%E6%8A%95%E7%A5%A8\n",
            "コンピュータゲーム https://ja.wikipedia.org/wiki/%E3%82%B3%E3%83%B3%E3%83%94%E3%83%A5%E3%83%BC%E3%82%BF%E3%82%B2%E3%83%BC%E3%83%A0\n",
            "ワードプロセッサー https://ja.wikipedia.org/wiki/%E3%83%AF%E3%83%BC%E3%83%89%E3%83%97%E3%83%AD%E3%82%BB%E3%83%83%E3%82%B5%E3%83%BC\n",
            "オペレーションズ・リサーチ https://ja.wikipedia.org/wiki/%E3%82%AA%E3%83%9A%E3%83%AC%E3%83%BC%E3%82%B7%E3%83%A7%E3%83%B3%E3%82%BA%E3%83%BB%E3%83%AA%E3%82%B5%E3%83%BC%E3%83%81\n",
            "教育工学 https://ja.wikipedia.org/wiki/%E6%95%99%E8%82%B2%E5%B7%A5%E5%AD%A6\n",
            "文書管理システム https://ja.wikipedia.org/wiki/%E6%96%87%E6%9B%B8%E7%AE%A1%E7%90%86%E3%82%B7%E3%82%B9%E3%83%86%E3%83%A0\n"
          ],
          "name": "stdout"
        }
      ]
    },
    {
      "cell_type": "code",
      "metadata": {
        "id": "Luy0M3LjBd63"
      },
      "source": [
        "# 各エントリをダウンロードしてparserのインスタンスを作り、辞書として保存。\n",
        "\n",
        "soups = dict()\n",
        "for k in urls:\n",
        "  html = urlopen(urls[k]) \n",
        "  soups[k] = BeautifulSoup(html, 'html.parser')"
      ],
      "execution_count": 22,
      "outputs": []
    },
    {
      "cell_type": "code",
      "metadata": {
        "id": "G_FMR37hvTHZ"
      },
      "source": [
        "# 先ほど定義した関数morph()を使って各エントリを形態素解析し、lemmaが半角スペースで区切られた文字列へ変換する。\n",
        "\n",
        "genre = list()\n",
        "corpus = list()\n",
        "for k in soups:\n",
        "  genre.append(k)\n",
        "  doc = morph(soups[k], nlp)\n",
        "  corpus.append(doc)"
      ],
      "execution_count": 23,
      "outputs": []
    },
    {
      "cell_type": "code",
      "metadata": {
        "id": "gvZKoPJXNNgO",
        "outputId": "57746759-1c71-42a9-a9d1-b7c18220e789",
        "colab": {
          "base_uri": "https://localhost:8080/",
          "height": 125
        }
      },
      "source": [
        "# 再利用するために、csvファイルとして保存しておく。\n",
        "\n",
        "import pandas as pd\n",
        "\n",
        "genre.append('人工知能')\n",
        "corpus.append(doc_AI)\n",
        "\n",
        "df = pd.DataFrame(list(zip(genre, corpus)), columns=['genre', 'text'])\n",
        "print(df.head())\n",
        "df.to_csv('cs_corpus.csv')"
      ],
      "execution_count": 24,
      "outputs": [
        {
          "output_type": "stream",
          "text": [
            "      genre                                               text\n",
            "0  コンピュータ科学  計算機科学 けい さん かがく 英 computer science コンピュータ 科学 情...\n",
            "1    ハードウェア  ハードウェア 英語 hardware システム 物理的 構成要素 指す 一般 用語 日本語 ...\n",
            "2    プリント基板  プリント基板 プリント きばる 短縮 形 pwb PCB 基板 一種 以下 ふた つ まとめ...\n",
            "3      周辺機器  周辺 機器 しゅうへん きく また ペリフェラル 英 peripheral コンピュータ ゲ...\n",
            "4      集積回路  集積回路 しゅう せき かいろ 英 integrated circuit IC 半導体 表面...\n"
          ],
          "name": "stdout"
        }
      ]
    },
    {
      "cell_type": "markdown",
      "metadata": {
        "id": "PaIiKbJu1Ps9"
      },
      "source": [
        "## 課題の手順(3)"
      ]
    },
    {
      "cell_type": "markdown",
      "metadata": {
        "id": "SnSE8kLf1Re6"
      },
      "source": [
        "### scikit-learnのCountVectorizerで単語の出現頻度を要素とするベクトルを作成\n",
        "* これにより、各文書のベクトル表現が得られる。\n",
        "* 興味のある対象のベクトル表現を得ることは、その対象を機械学習アルゴリズムの入力データとして使うための第一歩。"
      ]
    },
    {
      "cell_type": "code",
      "metadata": {
        "id": "VbmW1-x5zs99"
      },
      "source": [
        "# 先ほど作成したcsvファイルを読んで、textカラムをCountVectorizerのインスタンスでベクトル化する。\n",
        "# ベクトルの要素は、各Wikipediaエントリにおける、各単語の出現回数になる。\n",
        "\n",
        "from sklearn.feature_extraction.text import CountVectorizer\n",
        "\n",
        "df = pd.read_csv('cs_corpus.csv')\n",
        "\n",
        "vectorizer = CountVectorizer()\n",
        "X = vectorizer.fit_transform(df['text'])"
      ],
      "execution_count": 25,
      "outputs": []
    },
    {
      "cell_type": "code",
      "metadata": {
        "id": "xTSpEuWM1g3d",
        "outputId": "03e3a9dc-af7a-4266-c0e3-6de242088220",
        "colab": {
          "base_uri": "https://localhost:8080/",
          "height": 935
        }
      },
      "source": [
        "# CountVectorizerで得られるのはsparse matrixである。\n",
        "print(X)"
      ],
      "execution_count": 26,
      "outputs": [
        {
          "output_type": "stream",
          "text": [
            "  (0, 9384)\t16\n",
            "  (0, 2436)\t1\n",
            "  (0, 2474)\t1\n",
            "  (0, 2396)\t1\n",
            "  (0, 662)\t7\n",
            "  (0, 1897)\t5\n",
            "  (0, 3427)\t14\n",
            "  (0, 8680)\t12\n",
            "  (0, 7165)\t4\n",
            "  (0, 9378)\t25\n",
            "  (0, 8413)\t1\n",
            "  (0, 6472)\t1\n",
            "  (0, 6131)\t1\n",
            "  (0, 6756)\t1\n",
            "  (0, 7126)\t4\n",
            "  (0, 9987)\t1\n",
            "  (0, 8631)\t4\n",
            "  (0, 5862)\t12\n",
            "  (0, 7922)\t2\n",
            "  (0, 2341)\t12\n",
            "  (0, 3428)\t2\n",
            "  (0, 2753)\t4\n",
            "  (0, 5975)\t1\n",
            "  (0, 10160)\t5\n",
            "  (0, 8412)\t6\n",
            "  :\t:\n",
            "  (122, 8609)\t2\n",
            "  (122, 7061)\t1\n",
            "  (122, 3204)\t1\n",
            "  (122, 5034)\t1\n",
            "  (122, 5128)\t1\n",
            "  (122, 6383)\t1\n",
            "  (122, 7863)\t1\n",
            "  (122, 4606)\t1\n",
            "  (122, 8638)\t1\n",
            "  (122, 10241)\t1\n",
            "  (122, 2056)\t1\n",
            "  (122, 2054)\t1\n",
            "  (122, 1680)\t1\n",
            "  (122, 7729)\t1\n",
            "  (122, 610)\t1\n",
            "  (122, 3375)\t1\n",
            "  (122, 3037)\t1\n",
            "  (122, 826)\t1\n",
            "  (122, 628)\t1\n",
            "  (122, 1861)\t1\n",
            "  (122, 8124)\t1\n",
            "  (122, 2560)\t1\n",
            "  (122, 7999)\t1\n",
            "  (122, 699)\t1\n",
            "  (122, 3577)\t1\n"
          ],
          "name": "stdout"
        }
      ]
    },
    {
      "cell_type": "code",
      "metadata": {
        "id": "P9HpWKob5BSi",
        "outputId": "da0e8044-e741-4dc0-90b0-4ae5e6740fa5",
        "colab": {
          "base_uri": "https://localhost:8080/",
          "height": 35
        }
      },
      "source": [
        "# sparse matrixから、通常のNumPyの配列へ変換する。\n",
        "X = X.toarray()\n",
        "print('文書数:{}; 語彙サイズ：{}'.format(*X.shape))"
      ],
      "execution_count": 27,
      "outputs": [
        {
          "output_type": "stream",
          "text": [
            "文書数:123; 語彙サイズ：10248\n"
          ],
          "name": "stdout"
        }
      ]
    },
    {
      "cell_type": "code",
      "metadata": {
        "id": "WLut43Mj1jDh",
        "outputId": "6c43de30-30c2-4a23-9c85-d92879d44a5f",
        "colab": {
          "base_uri": "https://localhost:8080/",
          "height": 55
        }
      },
      "source": [
        "# CountVectorizerによって作られた語彙を取得する。\n",
        "vocab = vectorizer.get_feature_names()\n",
        "print(vocab)"
      ],
      "execution_count": 28,
      "outputs": [
        {
          "output_type": "stream",
          "text": [
            "['00', '000', '001', '00802', '01', '0160', '0161', '0625', '07', '096', '10', '100', '1000', '1000万', '1000億', '100万', '101', '1010', '1012', '102', '103', '104', '105', '1050億', '106', '107', '108', '1080', '109', '10万', '11', '110', '111', '112', '113', '114', '115', '115億', '116', '117', '118', '119', '12', '120', '1200', '121', '12207', '12345', '13', '130', '138', '13兆1774億', '14', '140', '1401', '143', '15', '150億', '15504', '1565927247', '158', '15846', '16', '16000', '1620', '1623', '1662', '168', '17', '1700', '1715', '1741', '1742', '1748', '1749', '178', '1790', '18', '180', '1830', '1835', '1854', '1860', '1869', '1871', '1874', '1875', '1890', '19', '1901', '1902', '1906', '1908', '1909', '19100', '19123', '1919', '1920', '1922', '1924', '1928', '1930', '1933', '1935', '1936', '1939', '1940', '1941', '1942', '1944', '1945', '1947', '1948', '1949', '1950', '1951', '1952', '1954', '1955', '1956', '1957', '1958', '1959', '1960', '1961', '1962', '1963', '1964', '1965', '1966', '1967', '1968', '1969', '197', '1970', '1971', '1972', '1973', '1975', '1976', '1977', '1978', '1979', '1980', '1981', '1982', '1983', '1984', '1985', '1986', '1987', '1988', '1989', '1990', '1991', '1992', '1993', '1994', '1995', '1996', '1997', '1998', '1999', '1st', '1人', '1兆1660億', '1兆6704億', '1日', '20', '200', '2000', '2000万', '2001', '2002', '2003', '2004', '2005', '2006', '20060719054203', '2007', '2008', '2009', '200万', '2010', '2011', '2012', '2013', '2014', '2015', '2016', '2017', '2018', '2019', '2020', '2023', '20億', '21', '211', '216', '22', '220', '23', '232', '24', '25', '250', '2500', '25000', '256', '26', '27', '27000', '27001', '27002', '28', '29', '2人', '2兆', '30', '300', '3000', '3001', '300万', '3014', '3090', '30万', '31', '310万', '313', '32', '33', '34', '35', '350', '350億', '36', '360', '37', '370', '3768', '38', '386', '39', '3m', '3万', '3万5千', '40', '400', '41', '41421', '42', '43', '4343億', '44', '45', '4553488', '46', '47', '48', '480', '485', '49', '4万', '4兆', '50', '500', '5000', '51', '512', '52', '53', '54', '55', '550', '5500億', '557', '56', '5603', '56592', '57', '58', '582', '59', '596', '5万', '60', '6001', '60194', '61', '62', '63', '630万', '64', '640', '65', '66', '67', '68', '69', '70', '700', '7000', '700万', '701', '7030', '704', '709', '71', '7100', '72', '7289', '73', '74', '743', '75', '750百万', '754', '76', '77', '777', '78', '7800', '79', '80', '8000', '801', '802', '80286', '80386', '81', '8115', '8152', '82', '8200', '825', '83', '830', '84', '85', '86', '87', '875', '877', '88', '89', '90', '9000', '909', '91', '92', '93', '94', '95', '96', '97', '978', '98', '9800', '9801', '981', '99', '9万', 'abaqus', 'abi', 'abraham', 'abramowitz', 'acars', 'acceleration', 'access', 'accessibility', 'ace', 'achieving', 'acm', 'acos', 'acrimsat', 'act', 'action', 'actions', 'activex', 'ad', 'ada', 'add', 'adobe', 'affecting', 'age', 'agent', 'agpl', 'ahmed', 'ai', 'aic', 'aid', 'aided', 'aimms', 'airbrushing', 'airep', 'aix', 'ajax', 'aks', 'al', 'alan', 'alberti', 'aldrich', 'algebraic', 'algol', 'algorithm', 'algoritmi', 'all', 'allan', 'allen', 'alliance', 'alloy', 'alpha', 'alphabetic', 'alt', 'alte', 'amazon', 'amd', 'amdar', 'america', 'amigaos', 'aml', 'amortized', 'ampl', 'amsterdam', 'amusement', 'an', 'analysis', 'analytic', 'and', 'android', 'anim', 'animation', 'anomaly', 'anti', 'aorg', 'aot', 'apache', 'api', 'apl', 'apple', 'application', 'approx', 'aps', 'apu', 'aqua', 'ar', 'architecture', 'archive', 'arcnet', 'area', 'arg', 'argmax', 'argmin', 'argo', 'arm', 'armad', 'arpa', 'arpanet', 'arpg', 'arrow', 'art', 'artifacts', 'artificial', 'as', 'asic', 'asmp', 'aspen', 'assignment', 'association', 'ast', 'asymptotic', 'at', 'atalla', 'atari', 'athlon', 'attached', 'attack', 'aude', 'audio', 'auditing', 'augmented', 'authentication', 'automata', 'automated', 'automatic', 'automation', 'automaton', 'autonomy', 'av', 'avars', 'avm', 'awk', 'babbage', 'badvista', 'balance', 'ballblazer', 'barco', 'bare', 'barrel', 'base', 'based', 'basic', 'bazaar', 'bc', 'bcpl', 'bd', 'becker', 'bell', 'beowulf', 'berkeley', 'bernstein', 'bert', 'between', 'bga', 'bgan', 'bgp', 'big', 'biggan', 'biology', 'biomedical', 'biometrics', 'bios', 'bit', 'bitbucket', 'blender', 'block', 'blocksworld', 'blog', 'blue', 'bluetooth', 'bnf', 'boinc', 'bom', 'bomber', 'book', 'box', 'bpf', 'bpp', 'brinch', 'broadband', 'brohm', 'bryce', 'bsc', 'bsd', 'btc', 'bufr', 'bugs', 'build', 'bundles', 'burgin', 'bus', 'business', 'by', 'cabin', 'cad', 'cae', 'cagd', 'calculation', 'calculus', 'calipso', 'call', 'cam', 'campus', 'can', 'canada', 'candidate', 'capability', 'card', 'cardboard', 'care', 'caris', 'carlo', 'carried', 'carson', 'carzaniga', 'cas', 'casio', 'category', 'cathedral', 'cathode', 'cave', 'cbers', 'cc', 'cca', 'ccd', 'cd', 'cddl', 'cdf', 'cell', 'cem', 'century', 'cern', 'certain', 'certification', 'cf', 'cfml', 'cg', 'cgi', 'cgis', 'cgmt', 'ch', 'chain', 'chapter', 'charles', 'checking', 'chemistry', 'chi', 'chip', 'choice', 'chrome', 'ci', 'cia', 'cifs', 'cinii', 'cint', 'cipher', 'circuit', 'circuits', 'cisc', 'clause', 'clinical', 'clone', 'cm', 'cmm', 'cmmi', 'cmos', 'cms', 'cn', 'cnn', 'co', 'coarse', 'coastal', 'cobol', 'codar', 'code', 'coding', 'coffeescript', 'coins', 'coldfusion', 'com', 'command', 'commerce', 'commercial', 'commit', 'common', 'communicating', 'communication', 'communications', 'company', 'comparison', 'compile', 'compiler', 'complexity', 'component', 'composite', 'compound', 'compression', 'compumarket', 'compuserve', 'computability', 'computation', 'computational', 'computer', 'computing', 'concurrency', 'concurrent', 'cond', 'conditions', 'conference', 'configuration', 'connecting', 'considered', 'consortium', 'constant', 'content', 'control', 'controller', 'converter', 'conway', 'cooperative', 'coordination', 'copyright', 'corba', 'cordova', 'core', 'corel', 'corp', 'corporation', 'cos', 'cosmic', 'cosmo', 'cosmos', 'cost', 'coverity', 'cp', 'cpca', 'cpu', 'cpuc', 'cray', 'creative', 'creator', 'crex', 'criteria', 'critical', 'crm', 'cross', 'cruby', 'cry', 'cryptographic', 'cryptography', 'cryptology', 'cryptosystem', 'cs', 'csc', 'csg', 'csk', 'csound', 'css', 'ctc', 'cuda', 'cup', 'cur', 'curriculum', 'cvs', 'cwop', 'cyberjapan', 'cyberwarfare', 'cyc', 'cycl', 'cycle', 'cycles', 'cycorp', 'da', 'daml', 'damocles', 'daniel', 'darker', 'darpa', 'data', 'database', 'databases', 'datum', 'daubechies', 'davis', 'db', 'dbms', 'dcg', 'dcom', 'dcs', 'dct', 'dd', 'ddr', 'de', 'deadbeat', 'debates', 'debian', 'dec', 'decision', 'defanti', 'defective', 'defining', 'deflate', 'dem', 'denial', 'dep', 'department', 'dependability', 'dependency', 'deployment', 'der', 'des', 'description', 'descriptive', 'design', 'detection', 'determination', 'detrich', 'development', 'device', 'devices', 'dfm', 'dfsg', 'dft', 'diamond', 'dicti', 'dictionary', 'didier', 'diehr', 'difference', 'digest', 'digital', 'directcompute', 'directx', 'discovery', 'discrete', 'discretization', 'display', 'displaystyle', 'distributed', 'distribution', 'diver', 'dlclose', 'dll', 'dlopen', 'dlp', 'dlsym', 'dm', 'dma', 'dmc', 'dms', 'dmsp', 'dmz', 'dns', 'do', 'docker', 'dockerfile', 'dockerhub', 'document', 'dod', 'doe', 'domain', 'donald', 'dos', 'dot', 'douglass', 'dq', 'dqn', 'dram', 'drawing', 'drc', 'drm', 'drools', 'ds', 'dsl', 'dsm', 'dsom', 'dsp', 'dspace', 'dspm', 'dss', 'dssat', 'dt', 'dtime', 'dtp', 'dtrules', 'dublin', 'dvd', 'dwt', 'dx', 'dy', 'dylib', 'dynamic', 'eagle', 'ebrahimi', 'ec', 'echonet', 'eclipse', 'ecma', 'ecml', 'economist', 'ecサイト', 'eda', 'edi', 'editing', 'edition', 'editor', 'edm', 'edp', 'edsac', 'educational', 'eecs', 'eeprom', 'efi', 'efs', 'eis', 'eisler', 'electric', 'electrical', 'electronic', 'electronics', 'elektro', 'element', 'elevation', 'elf', 'eliza', 'emacs', 'embarassingly', 'embedded', 'emf', 'emptive', 'empty', 'en', 'enea', 'energy', 'engine', 'engineering', 'english', 'eniac', 'enquire', 'enterprise', 'entertainment', 'environment', 'envisat', 'eo', 'epa', 'epic', 'epl', 'epoch', 'eprom', 'epsilon', 'epson', 'epub', 'equation', 'erd', 'erlang', 'eros', 'erp', 'ers', 'esri', 'essp', 'estle', 'eu', 'eval', 'evaluation', 'excel', 'execution', 'exfat', 'exidy', 'experts', 'explicit', 'express', 'exptime', 'ext', 'extended', 'extensibility', 'external', 'eye', 'eコマース', 'faa', 'factor', 'factorize', 'factors', 'failure', 'false', 'far', 'fark', 'fashioned', 'fat', 'fax', 'fcst', 'fd', 'fda', 'feasible', 'fedora', 'feistel', 'felica', 'fem', 'fetchmail', 'feye', 'ff', 'fft', 'fgmt', 'file', 'filemeister', 'filtermeister', 'finder', 'fine', 'fire', 'fireeye', 'firewire', 'firmware', 'fitness', 'flash', 'flex', 'flexible', 'flexray', 'flies', 'floss', 'flow', 'fold', 'folding', 'for', 'formal', 'formosat', 'forth', 'fortran', 'foundation', 'fpga', 'fps', 'fpu', 'frac', 'fractalus', 'framework', 'free', 'freebsd', 'freedesktop', 'freelibrary', 'freemat', 'from', 'frozen', 'fsb', 'fsm', 'fsml', 'ftp', 'fud', 'function', 'functional', 'functionally', 'future', 'fuzzy', 'fx', 'gads', 'game', 'gams', 'gan', 'garcia', 'gate', 'gaw', 'gcc', 'gcom', 'gcos', 'gdss', 'gear', 'gecos', 'geisser', 'gellish', 'gems', 'gene', 'general', 'generated', 'generic', 'geodetic', 'geographic', 'geometry', 'geosat', 'geospatial', 'geq', 'getprocaddress', 'gfdl', 'ghz', 'gif', 'gimp', 'girls', 'gis', 'git', 'github', 'gl', 'global', 'glory', 'gloss', 'glove', 'gmres', 'gnome', 'gnu', 'go', 'goals', 'goes', 'gofai', 'goo', 'good', 'google', 'goto', 'governmental', 'gpgpu', 'gpl', 'gplv', 'gps', 'gpt', 'gpu', 'grace', 'graind', 'grained', 'graphics', 'graphviz', 'graunt', 'great', 'green', 'grep', 'gretl', 'ground', 'group', 'gru', 'gsi', 'gui', 'guidelines', 'haas', 'hadron', 'hal', 'handset', 'hansen', 'hardware', 'harmful', 'hart', 'hartley', 'has', 'haskell', 'hat', 'hbase', 'hci', 'hd', 'hdl', 'health', 'healthcare', 'heilig', 'hell', 'help', 'hennesy', 'hepa', 'heterogeneous', 'heuristic', 'hfds', 'hfs', 'hidden', 'hids', 'hierarchical', 'high', 'highly', 'hips', 'history', 'hmd', 'hobbyists', 'hoeffding', 'hoffman', 'holidays', 'holsapple', 'home', 'homepna', 'hornet', 'hot', 'how', 'howard', 'hpfs', 'hsa', 'htc', 'html', 'htn', 'http', 'httpd', 'https', 'hub', 'human', 'hurd', 'hxc', 'hyper', 'hyperfunction', 'hypertext', 'hättenschwiler', 'ia', 'iaas', 'iad', 'ibm', 'ic', 'icesat', 'icカード', 'id', 'ide', 'idl', 'idps', 'ids', 'idss', 'iec', 'ieee', 'ietf', 'if', 'ifp', 'ii', 'iii', 'ikonos', 'illiac', 'illusion', 'illustrator', 'ilog', 'im', 'image', 'imagery', 'ime', 'immutable', 'implicit', 'improvement', 'ims', 'imsl', 'in', 'inc', 'ind', 'independent', 'indorum', 'industries', 'inference', 'inferential', 'info', 'informatics', 'information', 'infrastructure', 'infty', 'ingrid', 'institute', 'int', 'integrated', 'integration', 'intel', 'intelligence', 'interaction', 'interactive', 'interconnect', 'interface', 'interleaved', 'intermediate', 'internal', 'internet', 'interpreter', 'interpretive', 'intractable', 'intrusion', 'invariants', 'invented', 'inventory', 'invocation', 'invoke', 'ios', 'iot', 'ip', 'ipados', 'ipc', 'iphone', 'ipod', 'ips', 'ipアドレス', 'ir', 'irc', 'irda', 'irix', 'iron', 'is', 'isa', 'isbn', 'isdn', 'iseries', 'isn', 'iso', 'isp', 'it', 'itron', 'its', 'itu', 'iv', 'ixd', 'jacob', 'jags', 'japan', 'japanese', 'jar', 'java', 'javabeans', 'javascript', 'jcl', 'jfccnw', 'jfs', 'jgd', 'jis', 'jit', 'jml', 'job', 'john', 'joint', 'journal', 'jp', 'jpca', 'jpeg', 'jpgis', 'jsgi', 'jtc', 'jubatus', 'jun', 'jw', 'kalpana', 'kaner', 'katz', 'kdd', 'kde', 'khronos', 'kiban', 'kimball', 'kindi', 'kindle', 'kit', 'kl', 'km', 'kms', 'kn', 'knime', 'know', 'knowledge', 'kpca', 'kr', 'kubernetes', 'kバイト', 'la', 'laboratory', 'labs', 'lambda', 'lamp', 'lan', 'land', 'langle', 'language', 'large', 'largest', 'layer', 'ld', 'le', 'lead', 'leak', 'learn', 'learning', 'leave', 'lee', 'left', 'legall', 'lempel', 'leq', 'letter', 'levenson', 'levin', 'lex', 'lexical', 'lgpl', 'lgplv', 'lgt', 'lib', 'libexec', 'libfoo', 'library', 'libre', 'libtool', 'license', 'lidar', 'life', 'lightwave', 'like', 'limbo', 'lin', 'line', 'linear', 'linguistics', 'link', 'linking', 'links', 'linux', 'lionsolver', 'lisp', 'lite', 'little', 'llvm', 'loader', 'loading', 'loadlibrary', 'local', 'lock', 'log', 'logic', 'loocv', 'loop', 'loss', 'lpar', 'lpl', 'lsi', 'lu', 'lua', 'lx', 'lynxos', 'lzw', 'mac', 'mach', 'machine', 'machinery', 'macintosh', 'macos', 'mad', 'mahout', 'mail', 'main', 'maintenance', 'make', 'mall', 'man', 'managed', 'management', 'mann', 'manufacturability', 'map', 'mapinfo', 'maple', 'maps', 'marin', 'markov', 'markup', 'mathbb', 'mathbf', 'mathematica', 'mathematical', 'mathematics', 'mathml', 'matlab', 'maven', 'max', 'maya', 'maze', 'mbitram', 'mcconnell', 'mci', 'mcmll', 'mdp', 'me', 'mead', 'measure', 'media', 'mediawiki', 'medical', 'mega', 'memex', 'memory', 'mental', 'mesi', 'message', 'meta', 'metal', 'metar', 'method', 'methods', 'metop', 'metrics', 'metropolitan', 'mf', 'mfs', 'mhz', 'michael', 'michigan', 'microsoft', 'microsystems', 'middle', 'middleware', 'midi', 'miller', 'million', 'mimd', 'min', 'minecraft', 'miniaturized', 'minimization', 'mining', 'minitel', 'minorsky', 'mips', 'mis', 'misd', 'missing', 'mission', 'mit', 'mitchell', 'mitrion', 'mixed', 'mixedsignal', 'ml', 'mlpy', 'mm', 'mmorpg', 'mmp', 'mms', 'mmu', 'moba', 'mobile', 'model', 'modeling', 'modes', 'modula', 'moistmedia', 'molectronics', 'molina', 'mono', 'monte', 'moran', 'morpg', 'morse', 'morton', 'mosaic', 'mosfet', 'motion', 'mounting', 'movement', 'movie', 'mozilla', 'mp', 'mpeg', 'mpi', 'mpl', 'mpp', 'mr', 'ms', 'mse', 'msi', 'msn', 'msp', 'mt', 'mtbf', 'mts', 'mtsat', 'multi', 'multics', 'multidimensional', 'multilayered', 'multinet', 'mutable', 'mvs', 'mvt', 'my', 'mycin', 'mysql', 'na', 'nag', 'nasa', 'nasir', 'nato', 'natural', 'nba', 'nc', 'ncsa', 'neat', 'nec', 'net', 'netbsd', 'netflix', 'netlib', 'netlist', 'network', 'networking', 'networks', 'new', 'newell', 'nexrad', 'next', 'nextstep', 'nfc', 'nhk', 'nic', 'nicht', 'nids', 'nielsen', 'nintendo', 'nips', 'nist', 'nkvd', 'nlp', 'nm', 'nmath', 'nmp', 'no', 'noaa', 'non', 'not', 'novell', 'np', 'npoess', 'npp', 'nppa', 'ns', 'nscripter', 'nt', 'ntfs', 'ntp', 'ntt', 'numa', 'numeric', 'numerical', 'numero', 'numpy', 'nursing', 'nvidia', 'oasys', 'oberon', 'object', 'objectbroker', 'objective', 'objects', 'observed', 'occam', 'ocl', 'ocmp', 'oco', 'ocr', 'octave', 'oculus', 'odm', 'odss', 'oecd', 'oem', 'of', 'off', 'ogc', 'ohp', 'oi', 'oil', 'oki', 'olap', 'old', 'olion', 'oliva', 'on', 'one', 'only', 'ontology', 'oop', 'op', 'open', 'opencl', 'opencv', 'opengl', 'openjdk', 'openmp', 'openoffice', 'opensolaris', 'opensource', 'openstep', 'operating', 'operational', 'operations', 'opl', 'opteron', 'optimal', 'optimization', 'optimj', 'or', 'oracle', 'orange', 'org', 'organization', 'ors', 'os', 'ose', 'osi', 'oss', 'ostm', 'out', 'output', 'over', 'overflow', 'owl', 'oxo', 'pa', 'pacific', 'paint', 'paintbox', 'painter', 'pan', 'paradigm', 'parallel', 'parallelism', 'parasol', 'part', 'pascal', 'passing', 'paul', 'pbasic', 'pbr', 'pc', 'pcap', 'pcb', 'pci', 'pda', 'pddl', 'pdf', 'pdo', 'pe', 'peer', 'pentium', 'per', 'peripheral', 'perl', 'personal', 'pettersen', 'phil', 'phoenix', 'phone', 'photo', 'photographic', 'photography', 'photoshop', 'photoshopping', 'php', 'physics', 'pi', 'pic', 'pict', 'pictures', 'pid', 'piece', 'pirep', 'pj', 'pkdd', 'pl', 'planning', 'platform', 'playogg', 'playstation', 'pll', 'plus', 'pmi', 'png', 'policy', 'pomdp', 'pong', 'porta', 'portable', 'poser', 'posix', 'postscript', 'poulter', 'pov', 'power', 'powerpc', 'powervm', 'pp', 'ppar', 'pr', 'pre', 'precalculus', 'precision', 'pree', 'preparation', 'presence', 'pressure', 'pretty', 'prev', 'prevention', 'primary', 'prime', 'print', 'prism', 'private', 'prize', 'prmf', 'pro', 'probabilistic', 'probability', 'procedure', 'process', 'processes', 'processing', 'processor', 'prodigy', 'product', 'production', 'products', 'profit', 'program', 'programing', 'programming', 'programs', 'progressions', 'project', 'proliferation', 'prolog', 'promis', 'proposal', 'protection', 'protocol', 'provide', 'pspace', 'pspp', 'psychology', 'ptrue', 'public', 'publishing', 'pwb', 'px', 'pygmalion', 'python', 'qfp', 'qgis', 'qnx', 'qos', 'qr', 'quadcept', 'quake', 'quality', 'quantel', 'questia', 'question', 'quikscat', 'quotes', 'qvt', 'qx', 'rabin', 'rad', 'radarsat', 'rae', 'rails', 'raise', 'ram', 'ramo', 'random', 'randomized', 'rangle', 'rapid', 'rapidminer', 'rate', 'ray', 'rc', 'rca', 'rdf', 'read', 'reader', 'real', 'reality', 'realive', 'recall', 'recipes', 'red', 'redbook', 'reddit', 'reduction', 'redundancy', 'regulator', 'reilly', 'reinforcement', 'reiserfs', 'release', 'reliability', 'remote', 'remoting', 'render', 'rendering', 'renderman', 'rene', 'reo', 'repl', 'report', 'repository', 'representation', 'reps', 'requirements', 'rescue', 'research', 'resource', 'retouch', 'retoucher', 'retouching', 'return', 'review', 'revolution', 'reward', 'rexx', 'reynolds', 'rf', 'rfc', 'riccati', 'rift', 'right', 'risc', 'rmi', 'rmse', 'rn', 'rnn', 'robot', 'roff', 'rofor', 'rom', 'roslyn', 'router', 'rp', 'rpc', 'rpg', 'rsa', 'rt', 'rts', 'ru', 'ruby', 'rule', 'rupo', 'rust', 'rwm', 'sa', 'saas', 'sage', 'sagemath', 'sangiovanni', 'sarsa', 'sas', 'sassone', 'sc', 'scale', 'scan', 'scea', 'scheduling', 'schema', 'scheme', 'school', 'schultz', 'science', 'scientific', 'scikit', 'scilab', 'scipy', 'scitex', 'scm', 'sco', 'scoop', 'scr', 'sdk', 'sdram', 'search', 'seawifs', 'security', 'sed', 'sega', 'sem', 'semantic', 'semantics', 'semiconductor', 'sensorama', 'seo', 'sequential', 'sequoia', 'server', 'service', 'set', 'seti', 'seymour', 'sf', 'sfx', 'sgi', 'sgml', 'sh', 'shannon', 'shape', 'shared', 'ship', 'shogun', 'shop', 'shrdlu', 'si', 'side', 'siggraph', 'sigma', 'sigmet', 'signal', 'silicon', 'sim', 'simd', 'simplex', 'simulated', 'sip', 'sirius', 'sisal', 'sisd', 'sketch', 'skymed', 'skype', 'slack', 'sliced', 'slotnick', 'slt', 'sm', 'small', 'smalltalk', 'smap', 'smd', 'smos', 'smp', 'sms', 'smt', 'smtp', 'sna', 'snobol', 'snort', 'so', 'soc', 'sodar', 'softimage', 'software', 'soi', 'solid', 'solution', 'solver', 'som', 'someone', 'sony', 'sop', 'sor', 'sorce', 'sos', 'source', 'sourceforge', 'sources', 'space', 'spacewire', 'sparc', 'spare', 'spasim', 'speci', 'specific', 'spectacles', 'spectral', 'spectrum', 'speed', 'sph', 'sphere', 'spice', 'spike', 'spn', 'spot', 'sprague', 'spss', 'sql', 'sqrt', 'squirrel', 'sram', 'sse', 'ssh', 'ssi', 'ssl', 'st', 'staatenkunde', 'stack', 'standard', 'standards', 'star', 'starttls', 'state', 'statement', 'statements', 'statistics', 'statisticum', 'statistik', 'steamvr', 'stegun', 'sterling', 'steve', 'storage', 'stretch', 'strips', 'structure', 'structured', 'stuart', 'studio', 'subroutines', 'subset', 'subversion', 'sugarcrm', 'suica', 'suite', 'sum', 'summa', 'sun', 'sunos', 'super', 'supervised', 'suphx', 'support', 'surface', 'swift', 'switch', 'sword', 'sxd', 'sybase', 'symbian', 'synapse', 'synergistic', 'synop', 'syntax', 'system', 'systems', 'tabatabai', 'taf', 'tagged', 'tailoring', 'take', 'tao', 'tau', 'tc', 'tco', 'tcp', 'tcsec', 'td', 'tdd', 'tech', 'technical', 'technology', 'technovation', 'telecom', 'telegraph', 'teleimmersion', 'telephone', 'telepresence', 'telesis', 'telexistence', 'temperature', 'temporal', 'tenpuchizu', 'terminal', 'terp', 'terrasar', 'terry', 'testing', 'tex', 'text', 'the', 'theorem', 'theory', 'theos', 'theproject', 'therac', 'theta', 'they', 'things', 'thinking', 'this', 'thomas', 'thomson', 'thorpe', 'threading', 'time', 'times', 'timi', 'tin', 'tiros', 'tivo', 'tivoization', 'tk', 'tlb', 'tls', 'tm', 'to', 'todo', 'toolbox', 'tools', 'top', 'topex', 'toppers', 'touradj', 'tournament', 'tpca', 'tr', 'training', 'transfer', 'transmission', 'tree', 'trend', 'trithemius', 'trmm', 'tron', 'true', 'truespace', 'trusted', 'tube', 'type', 'typescript', 'uars', 'uart', 'ubiquitous', 'ubuntu', 'ufs', 'ui', 'uk', 'ulpa', 'ulsi', 'ultra', 'ultrasparc', 'uma', 'umd', 'uml', 'undergraduate', 'understanding', 'uniform', 'unity', 'univac', 'universal', 'unix', 'unreal', 'unrealscript', 'unsupervised', 'uppaal', 'uri', 'url', 'usaid', 'usb', 'usenet', 'usr', 'utility', 'vaa', 'vae', 'validation', 'valve', 'vanguard', 'variables', 'vbc', 'vdm', 'verification', 'verilog', 'vertical', 'very', 'vfs', 'vfx', 'vga', 'vhd', 'vhdl', 'video', 'viewer', 'vincentelli', 'virtual', 'virtuality', 'vision', 'vista', 'visual', 'visualization', 'visualize', 'vive', 'vlan', 'vliw', 'vlsi', 'vm', 'vms', 'vmt', 'vmware', 'voices', 'voip', 'vol', 'volcano', 'volmet', 'vos', 'vp', 'vpl', 'vpro', 'vq', 'vr', 'vrml', 'vrrp', 'vs', 'vse', 'vss', 'vth', 'vxworks', 'wafer', 'wait', 'wan', 'war', 'warfare', 'warranty', 'wars', 'wassily', 'watcom', 'wavenet', 'wd', 'we', 'weaving', 'web', 'webgis', 'webサイト', 'webサービス', 'webページ', 'weka', 'welch', 'wgs', 'what', 'whatwg', 'whinston', 'why', 'wide', 'wikipedia', 'wikt', 'william', 'windows', 'winny', 'winskel', 'winsxs', 'wiscy', 'with', 'withdraw', 'withdrawal', 'wms', 'wolf', 'word', 'world', 'worldwide', 'worldwideweb', 'worm', 'wpan', 'write', 'writer', 'wsi', 'www', 'wysiwyg', 'würfelt', 'x1', 'xamarin', 'xen', 'xeon', 'xfce', 'xfs', 'xgboost', 'xhtml', 'xi', 'xk', 'xml', 'xp', 'xsi', 'xsp', 'x線写真', 'yahoo', 'yan', 'yarv', 'ybc', 'year', 'yearling', 'yet', 'yield', 'yis', 'youtube', 'zfs', 'zgate', 'zip', 'ziv', 'zog', 'あいまい', 'あがる', 'あくまで', 'あげる', 'あたかも', 'あたり', 'あたりまえ', 'あたる', 'あつかう', 'あてはめる', 'あてる', 'あと', 'あぶり出す', 'あまり', 'あらかじめ', 'あらゆる', 'あらわす', 'あらわれる', 'あり', 'ある', 'あるいは', 'あん', 'いい', 'いいえ', 'いう', 'いえる', 'いかに', 'いかん', 'いく', 'いくつ', 'いくら', 'いける', 'いし', 'いじり', 'いずれ', 'いたずら', 'いたる', 'いちばん', 'いったん', 'いっぺん', 'いつ', 'いでる', 'いる', 'いろいろ', 'いわば', 'うえ', 'うけい', 'うち', 'うつろう', 'うまい', 'うり', 'える', 'えん', 'おおよそ', 'おき', 'おきる', 'おく', 'おこなう', 'おさえる', 'おそらく', 'おそれ', 'おとり', 'おもに', 'およそ', 'および', 'お店', 'お金', 'かい', 'かいせき', 'かいろ', 'かえって', 'かかる', 'かかわり', 'かかわる', 'かがく', 'かくり', 'かける', 'かけ合わせる', 'かげん', 'かさむ', 'かた', 'かたち', 'かたまる', 'かつ', 'かつて', 'かな', 'かなう', 'かなり', 'から', 'からくり', 'からむ', 'かわいい', 'かわる', 'かんきょう', 'か月', 'がく', 'がくしゅう', 'が行', 'きかい', 'きく', 'きげん', 'きっかけ', 'きばる', 'きゅう', 'きょう', 'きょうか', 'きょうする', 'きれい', 'きわめて', 'ぎょう', 'くみこむ', 'くらべる', 'くる', 'くん', 'けい', 'けいかく', 'けいさん', 'けいし', 'けいしき', 'けってい', 'けん', 'けんさく', 'けんしょう', 'げん', 'げんじつ', 'こう', 'こうがく', 'こうさ', 'こうじょう', 'こうち', 'ここ', 'こちら', 'こと', 'この頃', 'こもる', 'これ', 'ころ', 'ごう', 'ごうかい', 'ごうり', 'ごく', 'ごと', 'ごろ', 'さいてき', 'さかのぼる', 'さかのぼれる', 'さかん', 'さく', 'さす', 'さまざま', 'さらす', 'さらに', 'さん', 'さんしょ', 'さんすう', 'しおり', 'しかし', 'しかも', 'しくみ', 'しぜん', 'したがう', 'しっかり', 'しと', 'しのぐ', 'しばしば', 'しばらく', 'しゃかい', 'しゃしん', 'しゅ', 'しゅう', 'しゅうへん', 'しゅっ', 'しょ', 'しれる', 'しんにゅう', 'じい', 'じどう', 'じょう', 'じょうほう', 'じん', 'すう', 'すえる', 'すぎる', 'すぐ', 'すっかり', 'すでに', 'すなわち', 'すべて', 'する', 'ずっと', 'ずらす', 'ずれる', 'せい', 'せいかん', 'せいぎょ', 'せいぜい', 'せいり', 'せがれ', 'せき', 'せめて', 'せんそう', 'そう', 'そうち', 'そこ', 'そして', 'そちら', 'そちら側', 'その', 'その後', 'そもそも', 'それ', 'それぞれ', 'それる', 'そろう', 'そろばん', 'そんな', 'たいして', 'たいてい', 'たく', 'たくさん', 'ただ', 'ただし', 'たち', 'たちまち', 'たった', 'たっぷり', 'たつ', 'たとえ', 'たとえば', 'たとえる', 'たどり着く', 'たどる', 'たび', 'たびたび', 'たまたま', 'ため', 'たよる', 'だいたい', 'だす', 'だます', 'ちかい', 'ちなみ', 'ちゃんと', 'ちょうど', 'ちょっと', 'ちり', 'ついに', 'つうしん', 'つかう', 'つき', 'つきまとう', 'つきもの', 'つく', 'つくる', 'つける', 'つながり', 'つながる', 'つなぎ合わせる', 'つなげる', 'つまり', 'つむ', 'つれる', 'てき', 'てれび', 'てんで', 'できあがる', 'できごと', 'できる', 'できるだけ', 'でる', 'でん', 'とう', 'とおり', 'とき', 'とくに', 'ところ', 'とても', 'とどまる', 'とびとび', 'とも', 'ともす', 'ともなう', 'とよむ', 'とりあえず', 'とりひき', 'とりまとめる', 'とりわけ', 'とる', 'とれる', 'どう', 'どこ', 'どちら', 'ども', 'どれ', 'どんどん', 'どんな', 'ない', 'ないし', 'なお', 'なおかつ', 'なか', 'なかなか', 'なくす', 'なくなる', 'なし', 'なじみ', 'なす', 'なぜ', 'なま', 'ならび', 'なり', 'なりすます', 'なる', 'なるべく', 'なん', 'にわか', 'ねらう', 'のち', 'のび太', 'のぼる', 'はい', 'はかる', 'はがき', 'はしり', 'はじめ', 'はじめて', 'はじめる', 'はず', 'はっきり', 'はつ', 'はまる', 'はみ出す', 'はめ込む', 'はやぶさ', 'はらむ', 'はるか', 'はん', 'はんだ', 'ばらばら', 'ばー', 'ぱん', 'ひきおこす', 'ひたすら', 'ひと', 'ひとまとまり', 'ひとまとめ', 'ひどい', 'ひび', 'ひまわり', 'ひょう', 'ひょうきん', 'ひょうげる', 'ひんしつ', 'ふく', 'ふくざつ', 'ふさわしい', 'ふた', 'ふだん', 'ふつう', 'ふまえる', 'ぶつ', 'ぶつり', 'ぶん', 'へい', 'へこたれる', 'へん', 'ほう', 'ほうがく', 'ほか', 'ほとんど', 'ほどほど', 'ほぼ', 'ぼうし', 'ぼやける', 'まさしく', 'まさに', 'ますます', 'まず', 'まずい', 'また', 'またぐ', 'まだ', 'まったく', 'まつ', 'まつわる', 'まとまる', 'まとめる', 'まとも', 'まま', 'まるで', 'まれ', 'まわり', 'みえる', 'みせる', 'みどり', 'みなす', 'みなせる', 'みる', 'むしろ', 'むずかしい', 'めっき', 'めまい', 'もう', 'もし', 'もしくは', 'もたらす', 'もち', 'もちいる', 'もちろん', 'もっと', 'もっとも', 'もっぱら', 'もつ', 'もと', 'もとづく', 'もともと', 'もとより', 'もの', 'もはや', 'ももいろ', 'やがて', 'やや', 'やりくり', 'やりとり', 'やり取り', 'やり方', 'やり直す', 'やる', 'ゆえ', 'ゆっくり', 'よい', 'よう', 'ようやく', 'よく', 'よそ', 'よぶ', 'より', 'よる', 'らん', 'りょう', 'るつぼ', 'れつ', 'ろん', 'わかる', 'わけ', 'わざと', 'わずか', 'わたる', 'わり', 'アイ', 'アイコン', 'アイジー', 'アイス', 'アイスラー', 'アイティー', 'アイテム', 'アイデア', 'アイドル', 'アイバン', 'アインシュタイン', 'アウト', 'アクエリアス', 'アクション', 'アクションプログラム', 'アクセサリ', 'アクセサリー', 'アクセシビリティ', 'アクセス', 'アクセスポイント', 'アクセス手段', 'アクセス方法', 'アクセス時間', 'アクセラレーション', 'アクセラレータ', 'アクター', 'アクティ', 'アクティブ', 'アジア', 'アジャイル', 'アジャイルソフトウェア', 'アスキー', 'アスペン', 'アセスメント', 'アセンブラ', 'アセンブリ', 'アセンブル', 'アタリ', 'アダプタ', 'アダプター', 'アダマール', 'アダム', 'アッシー', 'アップ', 'アップグレード', 'アップデート', 'アップル', 'アッヘンヴァル', 'アディティブ', 'アデラード', 'アドウェア', 'アドナン', 'アドバンテージ', 'アドビ', 'アドビシステムズ', 'アドルフ', 'アドレス', 'アドレスバス', 'アナグラム', 'アナリスト', 'アナリティクス', 'アナログ', 'アナログ計算機', 'アニマトロニクス', 'アニメ', 'アニメーション', 'アニメータ', 'アニメーター', 'アノマリベース', 'アバカス', 'アビオニクス', 'アピアランス', 'アフォーダンス', 'アフター', 'アブラモビッツ', 'アブラーム', 'アプリ', 'アプリケーション', 'アプリケーションサーバ', 'アプリケーションソフト', 'アプリケーションソフトウェア', 'アプリケーションデプロイメント', 'アプリケーションプログラム', 'アプレット', 'アプローチ', 'アポロ', 'アポン', 'アマチュア', 'アマン', 'アムダール', 'アメダス', 'アメリカ', 'アメリカン', 'アメリカ人', 'アメリカ合衆国', 'アメリカ国防総省', 'アメリカ軍', 'アライアンス', 'アラビア数字', 'アラン', 'アラート', 'アリ', 'アリアドネ', 'アル', 'アルキメデス', 'アルコール', 'アルゴリズム', 'アルゴリトミ', 'アルトー', 'アルバム', 'アルファ', 'アルファベット', 'アルベルティ', 'アルミ', 'アルミニウム', 'アレイ', 'アレニウス', 'アレルギー', 'アレンジ', 'アロンゾ', 'アングル', 'アンケート', 'アンダー', 'アンチ', 'アンツ', 'アントナン', 'アントニー', 'アンド', 'アンドリーセン', 'アンドレイ', 'アンビエント', 'アンペール', 'アンリ', 'アンロック', 'アンロード', 'アーカイバ', 'アーカイブ', 'アーキテクチャ', 'アーキテクト', 'アーケード', 'アーサー', 'アーティスト', 'アーティファクト', 'アーティフィシャル', 'アート', 'アーパネット', 'アーマー', 'アーム', 'アーン', 'イアン', 'イェジ', 'イオン', 'イギリス', 'イスラエル', 'イタリア', 'イタリア人', 'イタリア語', 'イディオム', 'イニシアティブ', 'イヌワシ', 'イビデン', 'イブレア', 'イベント', 'イメージ', 'イメージベースドレンダリング', 'イラク', 'イラスト', 'イラストレーション', 'イラストレータ', 'イリノイ大学', 'インク', 'インクジェット', 'インクレディブル', 'インゴット', 'インサイダー', 'インシデント', 'インスタンス', 'インスタント', 'インスツルメンツ', 'インスティテュート', 'インストール', 'インスペクション', 'インタビュー', 'インタフェース', 'インタプリタ', 'インタラクション', 'インタラクティブ', 'インター', 'インターコネクト', 'インターネット', 'インターフェイス', 'インターフェース', 'インタープリタ', 'インタープリター', 'インダストリアルデザイン', 'インテグリティ', 'インテグレーション', 'インテリジェント', 'インテル', 'インディーズ', 'インデックス', 'イントラクタブル', 'イントラネット', 'インド', 'インドルム', 'インピーダンス', 'インフォ', 'インフォマティクス', 'インフラ', 'インフラストラクチャー', 'インフルエンサー', 'インベーダー', 'インポート', 'インマルサット', 'インライン', 'イーコマース', 'イーサネット', 'イーゼル', 'イートレード', 'イールド', 'ウィキ', 'ウィキペディア', 'ウィキリークス', 'ウィジェット', 'ウィズィン', 'ウィラード', 'ウィリアム', 'ウィリアムス', 'ウィルス', 'ウィルソン', 'ウィンダス', 'ウィンドウ', 'ウィーナー', 'ウイルス', 'ウイルス性', 'ウイングス', 'ウェア', 'ウェアハウス', 'ウェアラブル', 'ウェイト', 'ウェスティングハウス', 'ウェハー', 'ウェブ', 'ウェブアプリケーション', 'ウェブサイト', 'ウェブサーバ', 'ウェブサービス', 'ウェブブラウザ', 'ウェブページ', 'ウェルポーズドネス', 'ウェーブ', 'ウォリス', 'ウォー', 'ウォーター', 'ウォーターフォール', 'ウォーリー', 'ウォール', 'ウソ', 'ウッディ', 'ウラジーミル', 'エアクラフト', 'エアブラシ', 'エイジ', 'エイブラハム', 'エウクレイデス', 'エウドクソス', 'エキスパート', 'エキスパートシステム', 'エクストラネット', 'エクストリーム', 'エクスペリエンス', 'エクリチュール', 'エコロジー', 'エゴン', 'エジプト', 'エジョフ', 'エスタブリッシュメント', 'エストル', 'エッジ', 'エッセイ', 'エッチング', 'エディタ', 'エドガー', 'エドモンド', 'エドワード', 'エナジー', 'エナメル', 'エニグマ', 'エネルギー', 'エピソード', 'エフェクト', 'エブリシング', 'エミュレーション', 'エミュレータ', 'エミュレート', 'エラー', 'エラーメッセージ', 'エリア', 'エリアマーケティング', 'エリクソン', 'エリック', 'エルゴード', 'エルミート', 'エルンスト', 'エレクトリック', 'エレクトロニクス', 'エレクトロニック', 'エレメント', 'エンカウンター', 'エンクワイア', 'エンゲル', 'エンゲルバート', 'エンゲル係数', 'エンコーダー', 'エンコード', 'エンジニア', 'エンジニアリング', 'エンジン', 'エンタテインメント', 'エンタープライズ', 'エンティティ', 'エントリ', 'エントロピー', 'エンド', 'エンドユーザー', 'エーアイ', 'エージェント', 'オアシス', 'オイラー', 'オオワシ', 'オシポフ', 'オタワ', 'オデッセイ', 'オフ', 'オフィス', 'オフィスコンピュータ', 'オフセット', 'オフライン', 'オブ', 'オブジェクト', 'オプション', 'オヘア', 'オペアンプ', 'オペランド', 'オペレーショナル', 'オペレーション', 'オペレーションズ', 'オペレーションズリサーチ', 'オペレーティングシステム', 'オライリー', 'オリジナル', 'オルソ', 'オレ', 'オン', 'オンスクリーン', 'オンタリオ州', 'オンダイ', 'オンデマンド', 'オントロジー', 'オンライン', 'オンラインゲーム', 'オンリー', 'オー', 'オーエス', 'オークション', 'オーグメンテッド', 'オーケストレーション', 'オーストリア', 'オーダー', 'オーディオ', 'オート', 'オートチェンジャ', 'オートマタ', 'オートマトン', 'オートローダ', 'オーバードライブ', 'オーバーフロー', 'オーバーヘッド', 'オーバーライド', 'オーバーラップ', 'オーバーロード', 'オープニング', 'オープン', 'オープンシステム', 'オープンソース', 'オープンソースソフトウェア', 'オープンソースライセンス', 'オーラ', 'オール', 'オールインワン', 'オールドメン', 'カイリュー', 'カウンセラー', 'カウンタ', 'カウント', 'カスタマイズ', 'カスタム', 'カセットテープ', 'カタカナ', 'カタマリ', 'カタログ', 'カット', 'カテゴリ', 'カテゴリー', 'カテドラル', 'カナダ', 'カナディアン', 'カノニカル', 'カバー', 'カビ', 'カメラ', 'カモフラージュ', 'カラー', 'カリキュラム', 'カリビアン', 'カリフォルニア大学', 'カリフォルニア州', 'カルタン', 'カルダーノ', 'カルチャー', 'カルテ', 'カルバック', 'カルフーン', 'カレッジ', 'カレントディレクトリ', 'カン', 'カントロヴィチ', 'カントロヴィッチ', 'カントール', 'カンバス', 'カヴァリエリ', 'カーク', 'カーズ', 'カーツ', 'カートリッジ', 'カード', 'カード読み取り機', 'カーナビ', 'カーニハン', 'カーネギー', 'カーネギーメロン大学', 'カーネル', 'カーバー', 'カーブ', 'カーマーカー', 'カール', 'カ国', 'カ月', 'ガイド', 'ガイドライン', 'ガウス', 'ガバナンス', 'ガラリ', 'ガリウム', 'ガード', 'ガーバー', 'ガーミン', 'キッズ', 'キット', 'キディ', 'キメ', 'キャッシュ', 'キャッシュコヒーレンシシステム', 'キャッシュミス', 'キャップ', 'キャプチャ', 'キャメル', 'キャラクタ', 'キャラクター', 'キャリア', 'キャリア形成', 'キャリー', 'キャンセル', 'キャンパス', 'キャンペーン', 'キヤノワード', 'キュア', 'キューブ', 'キルビー', 'キロバイト', 'キンディ', 'キー', 'キーフレーミング', 'キーフレーム', 'キーフレームアニメーション', 'キーボード', 'キーワード', 'ギガ', 'ギガビット', 'ギブス', 'ギャップ', 'ギャラリー', 'ギャル', 'ギャング', 'ギャンブル', 'クイック', 'クエスト', 'クエリ', 'クヌース', 'クライアント', 'クライアントサーバ', 'クライド', 'クラウド', 'クラウドコンピューティング', 'クラウドファンディング', 'クラス', 'クラスタ', 'クラスタリング', 'クラスター', 'クラッカー', 'クラッシュ', 'クランプトン', 'クリア', 'クリアランス', 'クリアリングハウス', 'クリエイティブ', 'クリスタル', 'クリスティ', 'クリスマス', 'クリック', 'クリップ', 'クリティカル', 'クリティカルパス', 'クリーネ', 'クリーン', 'クリーンルーム', 'クルト', 'クレイ', 'クレジット', 'クレジットカード', 'クロス', 'クロスバー', 'クロック', 'クロニクル', 'クロマキー', 'クロマニョン', 'クローズ', 'クローズド', 'クロード', 'クローバー', 'クローラ', 'クローン', 'クーリングオフ', 'グスタフソン', 'グライダー', 'グラス', 'グラビア', 'グラフ', 'グラフィカル', 'グラフィック', 'グラフィックス', 'グラフィックデザイン', 'グラント', 'グランドデザイン', 'グリッド', 'グリーン', 'グリーンプラ', 'グループ', 'グレース', 'グレースケール', 'グレード', 'グローバル', 'グローブ', 'グーグル', 'グーテンベルク', 'ケア', 'ケイオス', 'ケトレー', 'ケプラー', 'ケルクホフス', 'ケンドール', 'ケース', 'ケースバイケース', 'ケーブル', 'ゲイツ', 'ゲオルク', 'ゲスト', 'ゲストos', 'ゲルマニウム', 'ゲーツ', 'ゲーデル', 'ゲート', 'ゲートウェイ', 'ゲーミフィケーション', 'ゲーム', 'ゲームセンター', 'ゲームソフト', 'ゲーム化', 'コア', 'コアダンプ', 'コアメモリ', 'コアロープメモリ', 'コアーション', 'コイン', 'コグニティブ', 'コサイン', 'コスト', 'コストダウン', 'コストパフォーマンス', 'コスト低減', 'コスト削減', 'コック', 'コッド', 'コデザイン', 'コネクショニズム', 'コネクション', 'コネクタ', 'コピー', 'コピーライト', 'コプロセス', 'コプロセッサ', 'コベリティ', 'コマンド', 'コマンドライン', 'コマーシャル', 'コミット', 'コミュニケーション', 'コミュニケーションズ', 'コミュニケーションツール', 'コミュニケート', 'コミュニティ', 'コメント', 'コモディティ', 'コモンズ', 'コラージュ', 'コリア', 'コルモゴロフ', 'コルーチン', 'コレクション', 'コレスキー', 'コロラド州', 'コンウェイ', 'コンサルタント', 'コンシューマー', 'コンセプト', 'コンソーシアム', 'コンソール', 'コンタクト', 'コンテ', 'コンテキスト', 'コンテナ', 'コンテンツ', 'コンテント', 'コンデンサ', 'コンデンサー', 'コントラスト', 'コントローラ', 'コントローラー', 'コントロール', 'コンバータ', 'コンバーター', 'コンバート', 'コンパイラ', 'コンパイラー', 'コンパイル', 'コンパクト', 'コンピュータ', 'コンピュータグラフィックス', 'コンピュータサイエンス', 'コンピュータシステム', 'コンピューター', 'コンピューターシステム', 'コンピューティング', 'コンフィデンシャル', 'コンポーネント', 'コンリング', 'コーシー', 'コース', 'コーツ', 'コーディング', 'コード', 'コーナー', 'コーネル大学', 'コーパス', 'コープスブライド', 'コール', 'ゴシック体', 'ゴセット', 'ゴットフリート', 'ゴム', 'ゴルゴ', 'ゴルトン', 'ゴーグル', 'ゴール', 'ゴールドスミス', 'サイエンス', 'サイエンティスト', 'サイエンティフィック', 'サイクル', 'サイコロ', 'サイズ', 'サイト', 'サイド', 'サイバネティックス', 'サイバー', 'サイバーシン', 'サイバースペース', 'サイファ', 'サイファー', 'サイフケータイ', 'サイレンス', 'サイン', 'サウンド', 'サザランド', 'サット', 'サブカテゴリ', 'サブクラス', 'サブシステム', 'サブセット', 'サブタスク', 'サブデータグループ', 'サブトラクティブ', 'サブネット', 'サブマリン', 'サブルーチン', 'サブロック', 'サプライ', 'サプライチェーン', 'サベージ', 'サポート', 'サミュエル', 'サメ', 'サン', 'サンガー', 'サンプリング', 'サンプル', 'サーキット', 'サージ', 'サード', 'サードパーティ', 'サードパーティー', 'サーバ', 'サーバー', 'サービス', 'サービス業', 'サーフィン', 'サーフェス', 'サーマル', 'ザイデル', 'ザナドゥ', 'シアター', 'シェア', 'シェアリング', 'シェアード', 'シェル', 'シェーダ', 'シェーダーアーキテクチャ', 'シェーディング', 'シェープ', 'シェール', 'シカゴ', 'シグナチャ', 'シグナル', 'シグマ', 'シス', 'システマティック', 'システム', 'システムエンジニア', 'システムズ', 'システムソフトウェア', 'システムリソース', 'システム工学', 'シストリック', 'シッカート', 'シックス', 'シップ', 'シティ', 'シナジスティック', 'シナジー', 'シナリオ', 'シネマ', 'シフト', 'シミュレーション', 'シミュレーテッド', 'シミュレート', 'シモン', 'シャッタ', 'シャッター', 'シャノン', 'シャンプー', 'シャープ', 'シュタティシュティーク', 'シュルレアリスム', 'シュレック', 'シュヴァルツ', 'シューティング', 'シュート', 'シュールレアリスム', 'ショッピング', 'ショッピングモール', 'ショップ', 'ショートカットキー', 'シヨウ', 'シリアス', 'シリコン', 'シリーズ', 'シンク', 'シング', 'シングル', 'シングルサインオン', 'シングルス', 'シンドローム', 'シンプソン', 'シンプル', 'シンプレックス', 'シンボル', 'シンボルグラウンディング', 'シーグラフ', 'シーケンシャル', 'シーケンス', 'シーサット', 'シーザー', 'シート', 'シード', 'シームレス', 'シール', 'シーン', 'ジェイソン', 'ジェスチャー', 'ジェネリック', 'ジェネレータ', 'ジェフリー', 'ジェラルド', 'ジェロラモ', 'ジオグラフィック', 'ジツ', 'ジャイロスコープ', 'ジャストシステム', 'ジャック', 'ジャパン', 'ジャロン', 'ジャンク', 'ジャンプ', 'ジャンル', 'ジャーゴン', 'ジャーナリスト', 'ジャーナリズム', 'ジャーナル', 'ジュラシック', 'ジュークボックス', 'ジュースミルヒ', 'ジョイ', 'ジョイスティック', 'ジョブ', 'ジョン', 'ジョンソン', 'ジョーク', 'ジョージ', 'ジョーンズ', 'ジリアン', 'ジル', 'ジーン', 'スイッチ', 'スイッチング', 'スイッチングハブ', 'スイート', 'スウェーデン', 'スカラー', 'スキャナ', 'スキャナー', 'スキャニング', 'スキャン', 'スキル', 'スキーマ', 'スキーム', 'スクランブル', 'スクリプト', 'スクリーン', 'スケジューラ', 'スケジューリング', 'スケジュール', 'スケーラビリティ', 'スケーラブル', 'スケーリング', 'スコアボード', 'スコープ', 'スタイル', 'スタジオ', 'スタック', 'スタッフ', 'スタティスティクス', 'スタティスティークム', 'スタティック', 'スタンドアロン', 'スタンドアローン', 'スタンフォード', 'スタンリイ', 'スター', 'スタート', 'スタートアップ', 'スターリン', 'スチュワート', 'スティーブ', 'スティーブン', 'スティーヴン', 'ステガノグラフィー', 'ステガン', 'ステッパー', 'ステップ', 'ステージ', 'ステータス', 'ステープルトン', 'ストア', 'ストアド', 'ストック', 'ストップモーション', 'ストラテジー', 'ストリート', 'ストリーミング', 'ストリーム', 'ストレス', 'ストレージ', 'ストークス', 'ストーリー', 'ストール', 'ストールマン', 'スナップショット', 'スノーデン', 'スパイ', 'スパイダー', 'スパイラル', 'スパッタリング', 'スパニング', 'スパム', 'スパムメール', 'スピーカー', 'スピード', 'スピードアップ', 'スフィア', 'スプライト', 'スプライン', 'スプレッドシート', 'スプール', 'スペア', 'スペクトラム', 'スペクトル', 'スペック', 'スペルミス', 'スペース', 'スポーツ', 'スマホ', 'スマート', 'スマートデバイス', 'スマートフォン', 'スミス', 'スムーズ', 'スライ', 'スライス', 'スライディング', 'スライド', 'スライブ', 'スラッシング', 'スリム', 'スリー', 'スリープ', 'スループット', 'スレッディング', 'スレッデッドコード', 'スレッド', 'スレッドスケジューラ', 'スレーブ', 'スロット', 'スローダウン', 'スロート', 'スワッピング', 'スワップ', 'スーザン', 'スーツ', 'スーパ', 'スーパー', 'スーパーコンピュータ', 'スーパースケーラ', 'スーパースケーラプロセッサ', 'ズーム', 'セガ', 'セガサターン', 'セガドリームキャスト', 'セキュア', 'セキュリティ', 'セキュリティホール', 'セキュリティー', 'セクション', 'セグメンテーション', 'セグメント', 'セッション', 'セット', 'セマフォ', 'セマンティック', 'セミ', 'セミアディティブ', 'セミコンダクター', 'セラミック', 'セリエ', 'セリエル', 'セル', 'セルアニメ', 'セルフ', 'センサ', 'センサス', 'センサー', 'センシティブ', 'センシング', 'センス', 'センター', 'セント', 'セーブ', 'ゼネラル', 'ゼネラルモーターズ', 'ゼロ', 'ソケット', 'ソニー', 'ソビエト', 'ソフト', 'ソフトウェア', 'ソフトウェアデプロイメント', 'ソフトウェアトランザクショナルメモリ', 'ソフトウェアライフサイクルプロセス', 'ソフトウエア', 'ソボレフ', 'ソリッド', 'ソリッドステート', 'ソリッドモデル', 'ソリューション', 'ソンタグ', 'ソーシャル', 'ソーシャルゲーム', 'ソーシャルメディア', 'ソース', 'ソースコード', 'ソースプログラム', 'ソート', 'ゾルゲ', 'ゾンデ', 'ゾーン', 'タイタニック', 'タイトル', 'タイプ', 'タイプライター', 'タイマ', 'タイミング', 'タイム', 'タイムシェアリングシステム', 'タイムシェリング', 'タイムスリップ', 'タイル', 'タグ', 'タスク', 'タチ', 'タッチ', 'タッチペン', 'タップ', 'タバタバイ', 'タビュレーティングマシン', 'タブレット', 'タブー', 'タンデムコンピューターズ', 'タンパク質', 'タンパー', 'ターゲット', 'ターミナル', 'ターミネーター', 'ダイ', 'ダイアグラム', 'ダイエリア', 'ダイオード', 'ダイクストラ', 'ダイシング', 'ダイソン', 'ダイナミクス', 'ダイナミック', 'ダイレクト', 'ダウン', 'ダウンサイジング', 'ダウンロード', 'ダグラス', 'ダッシュボード', 'ダッソー', 'ダブ', 'ダブリュー', 'ダブル', 'ダマー', 'ダムナティオ', 'ダメージ', 'ダンツィク', 'ダンツィーグ', 'ダーウィン', 'ダーク', 'ダートマス', 'チェス', 'チェスター', 'チェスト', 'チェック', 'チップ', 'チャイルド', 'チャット', 'チャネリング', 'チャネル', 'チャンネル', 'チャーチ', 'チャート', 'チャールズ', 'チューニング', 'チューリング', 'チューリングマシン', 'チョムスキー', 'チリ', 'チーム', 'ツイスタ', 'ツヤ', 'ツヤ消し', 'ツリー', 'ツール', 'ツールセット', 'ティホノフ', 'ティム', 'ティーマン', 'テイラー', 'テイルズ', 'テキサス', 'テキスト', 'テキストエディタ', 'テキストファイル', 'テクスチャ', 'テクニカル', 'テクニック', 'テクノ', 'テクノロジー', 'テスコ', 'テスタ', 'テスター', 'テスト', 'テストデータ', 'テスト環境', 'テラ', 'テラバイト', 'テレイグジスタンス', 'テレイマージョン', 'テレグラフ', 'テレックス', 'テレビ', 'テレプレゼンス', 'テロ', 'テンション', 'テンセント', 'テンプレート', 'テーゼ', 'テーブル', 'テープ', 'テープライブラリ', 'テーマ', 'ディザスタリカバリ', 'ディジタル', 'ディジタル署名', 'ディスク', 'ディスクドライブ', 'ディストリビューション', 'ディスパッチ', 'ディスプレイ', 'ディペンダビリティ', 'ディペンダブル', 'ディリクレ', 'ディレクトリ', 'ディープ', 'ディープラーニング', 'デイビッド', 'デイヴィ', 'デカルト', 'デグレード', 'デコード', 'デザイナー', 'デザイン', 'デザインパターン', 'デザインルール', 'デジ', 'デジタイズ', 'デジタル', 'デジタルカメラ', 'デジタルコンテンツ', 'デジタル家電', 'デスクトップ', 'デッド', 'デッドロック', 'デデキント', 'デバイス', 'デバイスドライバ', 'デバイスドライバー', 'デバッガ', 'デバッグ', 'デビュー', 'デビル', 'デファクトスタンダード', 'デフォルト', 'デプロイ', 'デプロイメント', 'デマ', 'デメリット', 'デモンストレーション', 'デュアル', 'デンバー', 'データ', 'データセット', 'データセンター', 'データソース', 'データバス', 'データベース', 'データモデル', 'データリンク', 'データー', 'データ分析', 'データ機器', 'デーデキント', 'トイ', 'トゥーン', 'トウィーニング', 'トス', 'トップ', 'トップクラス', 'トップダウン', 'トピック', 'トポロジー', 'トマスロ', 'トム', 'トムリンソン', 'トラッキング', 'トラック', 'トラップドア', 'トラフィック', 'トラブル', 'トラブルシューティング', 'トランザクション', 'トランジスタ', 'トランスクルージョン', 'トランスポート', 'トランスレータ', 'トリック', 'トリテミウス', 'トレラント', 'トレンド', 'トレーシング', 'トレース', 'トレードオフ', 'トレーニング', 'トロツキー', 'トロン', 'トークン', 'トータル', 'トーバルズ', 'トーマス', 'ドイツ', 'ドイツ語', 'ドキュメンタリー', 'ドキュメント', 'ドグマ', 'ドネーション', 'ドメイン', 'ドラえもん', 'ドライバ', 'ドライブ', 'ドラゴン', 'ドラム', 'ドリブン', 'ドリル', 'ドル', 'ドレイン', 'ドレス', 'ドロップ', 'ドロー', 'ドローイング', 'ドーパミン', 'ドープ', 'ナイ', 'ナイキスト', 'ナイチンゲール', 'ナイトリー', 'ナイフ', 'ナイン', 'ナウア', 'ナショナル', 'ナチ', 'ナトリウム', 'ナノ秒', 'ナビゲーション', 'ナムコ', 'ナラティブ', 'ナレッジマネジメント', 'ナンセンス', 'ナヴィエ', 'ニクラウス', 'ニコイチ', 'ニコニコ動画', 'ニコライ', 'ニセ', 'ニセモノ', 'ニッポニカ', 'ニモ', 'ニュアンス', 'ニューギニア', 'ニュージーランド', 'ニュース', 'ニューズウィーク', 'ニュートン', 'ニューヨーク', 'ニューラル', 'ニューロン', 'ニンバス', 'ニーズ', 'ヌルポインタ', 'ヌーメロ', 'ネイティブ', 'ネイマン', 'ネガ', 'ネガフィルム', 'ネット', 'ネットスケープ', 'ネットフリックス', 'ネットブリントサービス', 'ネットワーキング', 'ネットワーク', 'ネットワーク機器', 'ネーム', 'ノイス', 'ノイズ', 'ノイマン', 'ノウハウ', 'ノブ', 'ノベル', 'ノミナル', 'ノルマンディー', 'ノルム', 'ノンパラメトリックモデル', 'ノンフォトリアリスティック', 'ノンブロッキング', 'ノース', 'ノート', 'ノード', 'ノーベル賞', 'ノーラン', 'ハイパー', 'ハイパーテキスト', 'ハイパーバイザ', 'ハイパーメディア', 'ハイパーリンク', 'ハイフン', 'ハイブリッド', 'ハイレベル', 'ハウツー', 'ハザードマップ', 'ハジ', 'ハッカー', 'ハッキング', 'ハッシュ', 'ハッブル', 'ハニー', 'ハネウェル', 'ハフマン', 'ハブ', 'ハミルトン', 'ハリウッド', 'ハリー', 'ハレー', 'ハロウィーン', 'ハングアップ', 'ハンディ', 'ハンドブック', 'ハンドラ', 'ハヴォック', 'ハーディ', 'ハート', 'ハートレイ', 'ハートレー', 'ハード', 'ハードウェア', 'ハードウエア', 'ハードディスク', 'ハードディスクドライブ', 'ハードル', 'ハーネス', 'ハーマン', 'バイアス', 'バイオ', 'バイオテクノロジー', 'バイオメトリクス', 'バイザ', 'バイト', 'バイトコード', 'バイナリ', 'バウンド', 'バグ', 'バグダード', 'バグトラッキングシステム', 'バザール', 'バス', 'バススヌーピング', 'バスタブ', 'バズワード', 'バッカス', 'バック', 'バックアップ', 'バックエンド', 'バックグラウンド', 'バックドア', 'バックボーン', 'バッチ処理', 'バッテリー', 'バッファ', 'バトル', 'バビロニア', 'バブル', 'バベッジ', 'バラツキ', 'バランサ', 'バランス', 'バリア', 'バリエーション', 'バルブ', 'バレルプロセッシング', 'バロース', 'バンダイ', 'バンドル', 'バークレイ', 'バークレー', 'バージョン', 'バージョンアップ', 'バース', 'バーチャ', 'バーチャル', 'バーチャルラボ', 'バーチャルリアリティ', 'バートン', 'バード', 'バーナーズ', 'バーモント', 'バーンイン', 'パイオニア', 'パイプ', 'パイプライン', 'パイレーツ', 'パイロット', 'パウル', 'パケット', 'パス', 'パスカル', 'パスワード', 'パズル', 'パソコン', 'パターソン', 'パターン', 'パッケージ', 'パッケージソフトウェア', 'パッシング', 'パッチ', 'パッド', 'パトリック', 'パネル', 'パノラマ', 'パビリオン', 'パフォーマンス', 'パブリック', 'パブリッシング', 'パラシュート', 'パラダイム', 'パラドックス', 'パラメトリック', 'パラメータ', 'パラレル', 'パリス', 'パレットナイフ', 'パロアルト', 'パワー', 'パンチカード', 'パンチカードシステム', 'パーキンソン', 'パーク', 'パーサ', 'パーソナル', 'パーソナルコンピュータ', 'パーツ', 'パーティ', 'パーティション', 'パーティー', 'パートリーアディティブ', 'パーナス', 'パーミッシブ', 'ヒエログリフ', 'ヒット', 'ヒト', 'ヒプノシス', 'ヒューズ', 'ヒューマン', 'ヒューリスティク', 'ヒューリスティック', 'ヒルベルト', 'ヒント', 'ヒート', 'ビクトリア', 'ビジネス', 'ビジネスモデル', 'ビジネスロジック', 'ビジュアライゼーション', 'ビジュアリゼーション', 'ビジョン', 'ビッグデータ', 'ビット', 'ビデオ', 'ビデオカメラ', 'ビデオゲーム', 'ビネガー', 'ビフェニル', 'ビュレッティン', 'ビュー', 'ビューアー', 'ビル', 'ビルド', 'ビン', 'ビンパッキング', 'ビープ', 'ピアソン', 'ピエール', 'ピクサー', 'ピクセル', 'ピコ', 'ピックアップ', 'ピッチ', 'ピューリッツァー', 'ピラミッド', 'ピーク', 'ファイア', 'ファイアウォール', 'ファイター', 'ファイナル', 'ファイバー', 'ファイヤー', 'ファイル', 'ファイルシステム', 'ファインディング', 'ファクシミリ', 'ファクタ', 'ファジィ', 'ファックス', 'ファッション', 'ファット', 'ファミコン', 'ファミリー', 'ファン', 'ファンタジー', 'ファントム', 'ファーム', 'ファームウェア', 'フィクション', 'フィックス', 'フィッシャー', 'フィッティング', 'フィボナッチ', 'フィリング', 'フィル', 'フィルタ', 'フィルタリング', 'フィルター', 'フィルム', 'フィーチャー', 'フィート', 'フィードバック', 'フィールズ', 'フィールド', 'フェア', 'フェイス', 'フェッチ', 'フェルマー', 'フェーズ', 'フォックス', 'フォト', 'フォトダイオード', 'フォトマスク', 'フォトモンタージュ', 'フォトリソグラフィ', 'フォトン', 'フォルダ', 'フォン', 'フォント', 'フォーカス', 'フォーク', 'フォース', 'フォード', 'フォーマット', 'フォーマル', 'フォール', 'フォールト', 'フット', 'フッド', 'フライ', 'フラクタル', 'フラグ', 'フラッシュ', 'フランシス', 'フランス', 'フランス語', 'フランソワ', 'フリン', 'フリー', 'フリーウェア', 'フリーズ', 'フリーソフト', 'フリーソフトウェア', 'フリードリヒ', 'フリーハンド', 'フリーマン', 'フル', 'フルアディティブ', 'フルタイム', 'フルハイビジョン', 'フレキシブル', 'フレキソ', 'フレシェ', 'フレデリック', 'フレドホルム', 'フレーズ', 'フレーム', 'フレームワーク', 'フロア', 'フロッピー', 'フロッピーディスク', 'フロントエンド', 'フロー', 'フローチャート', 'フローティング', 'フローレンス', 'フワリズミー', 'フワーリズミー', 'フーリエ', 'ブイ', 'ブック', 'ブッシュネル', 'ブライアン', 'ブラウザ', 'ブラウザー', 'ブラウジング', 'ブラウン', 'ブラケット', 'ブラシ', 'ブラックアフリカ', 'ブラックホール', 'ブラックボックス', 'ブラックマン', 'ブラム', 'ブランチ', 'ブランド', 'ブリザード', 'ブリッジ', 'ブルックス', 'ブルース', 'ブルート', 'ブレイクスルー', 'ブレイディ', 'ブレンディング', 'ブレーキ', 'ブレークスルー', 'ブレークポイント', 'ブレーズ', 'ブロック', 'ブート', 'ブートストラップ', 'ブーム', 'ブーリアン', 'ブール', 'プッシュダウン', 'プライバシー', 'プライベート', 'プライマリー', 'プラクティス', 'プラグイン', 'プラグマティック', 'プラス', 'プラスチック', 'プラズマ', 'プラチナ', 'プラットフォーム', 'プラモ', 'プラン', 'プラント', 'プランナ', 'プランニング', 'プリエンプション', 'プリエンプティブ', 'プリミティブ', 'プリレンダリング', 'プリン', 'プリンタ', 'プリンター', 'プリンテッドエレクトロニクス', 'プリント', 'プリント回路板', 'プリント基板', 'プレイ', 'プレイステーション', 'プレイヤー', 'プレイヤーズ', 'プレゼンテーション', 'プレビュー', 'プレミア', 'プレーナ', 'プレーナー', 'プレーヤー', 'プレーン', 'プロ', 'プログラマ', 'プログラマブル', 'プログラマブルシェーダ', 'プログラマー', 'プログラミング', 'プログラム', 'プログレッシブ', 'プロシージャ', 'プロジェクタ', 'プロジェクター', 'プロジェクト', 'プロジェクトチーム', 'プロジェクトマネージャ', 'プロジェクト管理', 'プロセス', 'プロセスマイグレーション', 'プロセッサ', 'プロセッサコア', 'プロセッサー', 'プロダクション', 'プロダクト', 'プロダクトデザイン', 'プロップ', 'プロテクタ', 'プロトコル', 'プロトタイピング', 'プロトタイプ', 'プロバイダ', 'プロパガンダ', 'プロパゲーション', 'プロファイル', 'プロフェッショナル', 'プロプライエタリ', 'プロンプト', 'ヘッダ', 'ヘッド', 'ヘッドセット', 'ヘネシー', 'ヘフディング', 'ヘリコプター', 'ヘルマン', 'ベア', 'ベアボード', 'ベアメタル', 'ベイジアン', 'ベイズ', 'ベクタ', 'ベクター', 'ベクトル', 'ベジエ', 'ベスト', 'ベノナ', 'ベル', 'ベルギー', 'ベルトドライブ', 'ベルトラン', 'ベルナール', 'ベルヌーイ', 'ベルマン', 'ベンダ', 'ベンダー', 'ベンダーロックイン', 'ベンチマーク', 'ベンチマークテスト', 'ベース', 'ベータ', 'ベール', 'ペア', 'ペイント', 'ペタバイト', 'ペティ', 'ペトリ', 'ペトリネット', 'ペニントン', 'ペリフェラル', 'ペレット', 'ペレンス', 'ペレンズ', 'ペン', 'ペンタゴン', 'ペンタブレット', 'ページ', 'ページング', 'ペーター', 'ペーパーズ', 'ホイヘンス', 'ホスティング', 'ホスト', 'ホッパー', 'ホビイスト', 'ホレリス', 'ホログラフィ', 'ホーア', 'ホーキング', 'ホーナー', 'ホーム', 'ホームページ', 'ホームレス', 'ホールドアウト', 'ボイジャー', 'ボカン', 'ボタン', 'ボトムアップ', 'ボトル', 'ボトルネック', 'ボランティア', 'ボルツァーノ', 'ボルツマン', 'ボレル', 'ボンディング', 'ボーイ', 'ボーダ', 'ボート', 'ボード', 'ボール', 'ポインティング', 'ポイント', 'ポスト', 'ポセイドン', 'ポット', 'ポップ', 'ポメラ', 'ポラロイド', 'ポリ', 'ポリイミド', 'ポリエステル', 'ポリゴン', 'ポリシー', 'ポリス', 'ポリー', 'ポルタ', 'ポーカー', 'ポータル', 'ポート', 'ポーランド', 'ポーリング', 'ポール', 'マイクロ', 'マイクロコンピュータ', 'マイクロサービス', 'マイクロシステムズ', 'マイクロソフト', 'マイクロプロセッサ', 'マイクロモジュール', 'マイケル', 'マイコン', 'マイナー', 'マイナーチェンジ', 'マイニング', 'マイノースキー', 'マイヤー', 'マイリポート', 'マイルストーン', 'マウス', 'マウスカーソル', 'マウント', 'マキュージック', 'マクスウェル', 'マクファデン', 'マクロ', 'マクローリン', 'マサチューセッツ工科大学', 'マシュー', 'マシン', 'マスク', 'マスター', 'マスメディア', 'マッカーシー', 'マッチ', 'マッチング', 'マッピング', 'マップ', 'マニフェスト', 'マニュアル', 'マネジメント', 'マネジメント手法', 'マネージャ', 'マリアナ', 'マルウェア', 'マルコフ', 'マルチ', 'マルチコア', 'マルチスレッド', 'マルチタスク', 'マルチパス', 'マルチプレイヤーオンラインバトルアリーナ', 'マルチプレクサ', 'マルチプロセッサ', 'マルチプロセッシング', 'マルチプロセッシングシステム', 'マルチメディア', 'マルチモーダル', 'マルチユーザー', 'マン', 'マンガ', 'マンズ', 'マーカー', 'マーキング', 'マーク', 'マークアップ', 'マーケット', 'マーケティング', 'マーサ', 'マーシャル', 'マージ', 'マードック', 'ミクスト', 'ミサイル', 'ミス', 'ミスマッチ', 'ミッチェル', 'ミッド', 'ミドル', 'ミドルウェア', 'ミニコン', 'ミニコンピュータ', 'ミニットマンミサイル', 'ミニテル', 'ミニマル', 'ミラー', 'ミリ', 'ミンスキー', 'ミード', 'ミーム', 'ムーア', 'ムービー', 'メイク', 'メイン', 'メインストリーム', 'メインフレーム', 'メインメモリ', 'メカニズム', 'メガバイト', 'メジャー', 'メソッド', 'メソドロジー', 'メタ', 'メタコンパイラ', 'メタデータ', 'メタファ', 'メタファー', 'メタプログラミング', 'メタボール', 'メタル', 'メッシュ', 'メッセージ', 'メテオ', 'メテオール', 'メディア', 'メトリック', 'メナス', 'メナブレア', 'メニュー', 'メモリ', 'メモリアエ', 'メモリバス', 'メモ帳', 'メリット', 'メルセンヌ', 'メロン', 'メンタル', 'メンテナンス', 'メンバー', 'メーカ', 'メーカー', 'メートル', 'メーリングリスト', 'メール', 'メールサーバ', 'メールフィルタリング', 'モアブル', 'モグリッジ', 'モジュラー', 'モジュール', 'モダン', 'モデム', 'モデラー', 'モデリング', 'モデル', 'モデルチェッカ', 'モデル化', 'モニタ', 'モニター', 'モノ', 'モノクロ', 'モノポリー', 'モノリシック', 'モバイル', 'モバイル端末', 'モルタル', 'モレキュラーエレクトロニクス', 'モレクトロン', 'モンキーレンチ', 'モンスターズ', 'モンテカルロ', 'モーション', 'モード', 'モーフィング', 'モール', 'モールド', 'ヤコビ', 'ヤコブ', 'ヤマハ', 'ユタ', 'ユナイテッド', 'ユニシス', 'ユニット', 'ユニバーサル', 'ユニバース', 'ユニーク', 'ユビキタス', 'ユークリッド', 'ユーザ', 'ユーザインタフェース', 'ユーザビリティ', 'ユーザー', 'ユーザーインタフェース', 'ユーザーインターフェイス', 'ユーザーインターフェース', 'ユーザー名', 'ユースケース', 'ユーティリティ', 'ユーモラス', 'ヨシフ', 'ヨハン', 'ヨーロッパ', 'ヨーロッパ大陸', 'ライク', 'ライス', 'ライセンサー', 'ライセンシー', 'ライセンス', 'ライセンス料', 'ライト', 'ライトバック', 'ライバル', 'ライフサイクル', 'ライブ', 'ライブラリ', 'ライブラリパス', 'ライブラリー', 'ライブラー', 'ライプニッツ', 'ライル', 'ライン', 'ラインナップ', 'ラウンド', 'ラグランジュ', 'ラジオ', 'ラジオゾンデ', 'ラスコー', 'ラスタ', 'ラスター', 'ラスベガス', 'ラッセル', 'ラテン語', 'ラニアー', 'ラビン', 'ラピッド', 'ラプラス', 'ラベリング', 'ラベル', 'ラボラトリー', 'ラボラトリーズ', 'ラムダ', 'ラリー', 'ラルフ', 'ランタイム', 'ランタイムライブラリ', 'ランダウ', 'ランダウアー', 'ランダム', 'ランダムアクセス', 'ランチェスター', 'ランドサット', 'ランナー', 'ランポート', 'リアリスティック', 'リアリティ', 'リアル', 'リアルタイム', 'リアルタイムシステム', 'リエンジニアリング', 'リグレッションテスト', 'リコー', 'リサイクル', 'リサーチ', 'リザーブ', 'リジット', 'リジッド', 'リスク', 'リスクマネジメント', 'リスト', 'リストアップ', 'リスフィルム', 'リズム', 'リソグラフィー', 'リソース', 'リソーススタベーション', 'リタイヤ', 'リタッチ', 'リタッチャー', 'リダイレクト', 'リチャード', 'リチャードソン', 'リッカチ', 'リッチ', 'リテラシ', 'リトグラフ', 'リトル', 'リネーミング', 'リバモア', 'リバーサルフィルム', 'リバース', 'リビジョン', 'リピータ', 'リファクタリング', 'リファレンス', 'リフォーマット', 'リフティング', 'リフロー', 'リブート', 'リプランニング', 'リボン', 'リポジトリ', 'リムーバブル', 'リモートアクセス', 'リモートセンシング', 'リライタブル', 'リリース', 'リリースノート', 'リレー', 'リレーショナル', 'リレーション', 'リレーテッド', 'リロケータブルバイナリ', 'リン', 'リンカ', 'リンカーン', 'リンク', 'リング', 'リンケージ', 'リー', 'リーク', 'リージョン', 'リーダー', 'リード', 'リーナス', 'リーブ', 'リーマン', 'ルイ', 'ルイジ', 'ルイス', 'ルベーグ', 'ルンゲ', 'ルーター', 'ルーチン', 'ルーツ', 'ルーティング', 'ルート', 'ルートヴィッヒ', 'ループ', 'ルール', 'レイ', 'レイアウト', 'レイテンシ', 'レイトレーシング', 'レイモンド', 'レイヤ', 'レイヤー', 'レオナルド', 'レオニート', 'レオニード', 'レガシー', 'レギュレータ', 'レコメンダシステム', 'レジスタ', 'レジスト', 'レジストリ', 'レストラン', 'レスリー', 'レタッチ', 'レタッチャー', 'レター', 'レック', 'レット', 'レッド', 'レトロ', 'レトロニム', 'レバノン', 'レビュー', 'レフ', 'レフト', 'レベル', 'レポジトリ', 'レポート', 'レモネード', 'レンジ', 'レンズ', 'レンタル', 'レンダラー', 'レンダリング', 'レンダー', 'レーウィンゾンデ', 'レーガン', 'レーザー', 'レース', 'レーダー', 'レート', 'レーニン', 'レール', 'ロイアスコット', 'ロイヤル', 'ログ', 'ログイン', 'ログサーバ', 'ロケット', 'ロゴデザイン', 'ロゴマーク', 'ロシア', 'ロシア連邦', 'ロジック', 'ロジバン', 'ロジャー', 'ロスレス', 'ロスレスコーデック', 'ロック', 'ロックイン', 'ロナルド', 'ロバスト', 'ロバート', 'ロビン', 'ロピタル', 'ロフト', 'ロベルヴァル', 'ロボッツ', 'ロボット', 'ロボティクス', 'ロムカートリッジ', 'ロンドン', 'ローカル', 'ローゼンバーグ', 'ローダ', 'ローダー', 'ロード', 'ローマ', 'ローラ', 'ローラン', 'ローリング', 'ロールバック', 'ロールプレイングゲーム', 'ローレンス', 'ワイアー', 'ワイエルシュトラス', 'ワイザー', 'ワイド', 'ワイヤ', 'ワイヤレス', 'ワイヤー', 'ワイル', 'ワインバーグ', 'ワインボウム', 'ワグナー', 'ワシントン', 'ワシントン大学', 'ワトソン', 'ワンクリック', 'ワング', 'ワンス', 'ワンタイム', 'ワンチップ', 'ワンチップマイコン', 'ワンパス', 'ワンパスコンパイラ', 'ワンボード', 'ワークグループ', 'ワークショップ', 'ワークステーション', 'ワークフローシステム', 'ワークロード', 'ワード', 'ワードプロセッサ', 'ワープロ', 'ワーム', 'ワールド', 'ワールドワイドウェブ', 'ヴァン', 'ヴィエト', 'ヴィクシー', 'ヴィクトリア', 'ヴィルト', 'ヴィルヘルム', 'ヴィークル', 'ヴェネチア', 'ヶ年', 'ヶ所', 'ヶ月', '一人', '一体', '一体化', '一体型', '一体的', '一億', '一元的', '一千万', '一回', '一大', '一太郎', '一定', '一定時間', '一家', '一度', '一式', '一律', '一応', '一意', '一括', '一括り', '一掃', '一揃い', '一斉', '一方', '一族', '一旦', '一時', '一時停止', '一時期', '一時的', '一本化', '一様', '一段', '一気呵成', '一番', '一短', '一種', '一端', '一節', '一続き', '一緒', '一線', '一翼', '一致', '一般', '一般ユーザー', '一般利用者', '一般的', '一芸', '一見', '一覧', '一角', '一貫', '一貫性', '一連', '一過性', '一部', '一部分', '一長', '万人', '万博', '万年筆', '万能', '三万', '三菱電機', '三角', '三角形', '上がる', '上げる', '上下', '上乗せ', '上位', '上回る', '上手', '上昇', '上映', '上書き', '上梓', '上流', '上演', '上界', '上記', '上述', '上限', '上陸', '下がる', '下げる', '下す', '下り', '下位', '下地', '下火', '下界', '下線', '下記', '下降型', '下限', '下院', '不便', '不信', '不備', '不具合', '不動産', '不十分', '不可分', '不可欠', '不可能', '不合理', '不変', '不安定', '不完全', '不定', '不快感', '不意', '不整合', '不明', '不明瞭', '不正', '不正確', '不注意', '不満', '不特定', '不確か', '不等式', '不純物', '不能', '不自由', '不良', '不良品', '不要', '不規則', '不誠実', '不買', '不足', '不連続', '不適切', '不適当', '与える', '与件', '与野党', '世代', '世帯', '世界', '世界中', '世界的', '世紀', '世紀末', '世論', '両方', '両者', '両軍', '両面', '並び', '並ぶ', '並べる', '並べ替える', '並み', '並列', '並列化', '並列型', '並存', '並行', '並行性', '中ごろ', '中世', '中古', '中国', '中国語', '中塚', '中央', '中央値', '中学', '中小企業', '中心', '中抜き', '中断', '中枢', '中核', '中止', '中点', '中盤', '中継', '中華人民共和国', '中身', '中間', '中間的', '中間言語', '中頃', '丸め', '丸める', '丸太', '主に', '主人公', '主体', '主催', '主力', '主張', '主成分', '主流', '主眼', '主管', '主義', '主要', '主観', '主観的', '主記憶装置', '主軸', '主題', '主題図', '乏しい', '乗せる', '乗っ取る', '乗り出す', '乗り物', '乗員', '乗数', '乗算', '乱数', '乱立', '乾く', '乾湿計', '乾電池', '予め', '予備', '予定', '予想', '予期', '予測', '予算', '予算的', '予約', '予言', '予防', '争い', '事件', '事例', '事前', '事務', '事務処理', '事務所', '事実', '事実上', '事後', '事情', '事態', '事故', '事柄', '事業', '事物', '事象', '事項', '二人', '二百万', '二進', '互い', '互換', '互換性', '互除法', '五感', '井上', '亘る', '些細', '交付', '交信', '交差', '交換', '交流', '交通', '享受', '人々', '人力', '人受け', '人口', '人命', '人員', '人工', '人工物', '人工的', '人工知能', '人工衛星', '人形', '人手', '人数', '人文', '人材', '人気', '人物', '人的', '人種', '人間', '人間関係', '人類', '人類史', '人類学', '今まで', '今回', '今年', '今度', '今後', '今日', '介する', '介在', '仕上げ', '仕上げる', '仕事', '仕方', '仕様', '仕立てる', '仕組', '仕組み', '他人', '他方', '他者', '付き', '付き物', '付く', '付け', '付ける', '付け加える', '付け加わる', '付す', '付与', '付加', '付加価値', '付属', '付属品', '付近', '付随', '代える', '代わり', '代わる', '代価', '代入', '代名詞', '代数', '代数学', '代数式', '代替', '代替品', '代用', '代用品', '代表', '代表値', '代表的', '以つ', '以上', '以下', '以内', '以前', '以外', '以後', '以来', '以降', '仮定', '仮想', '仮想化', '仮想現実', '仮想環境', '仮想的', '仮想空間', '仮説', '仲介者', '任せ', '任せる', '任務', '任天堂', '任意', '企業', '企業内', '企業向け', '企業情報', '企業間', '伏せる', '伐採', '会員', '会社', '会見', '会計', '会話', '会議', '会長', '伝える', '伝搬', '伝播', '伝統', '伝統的', '伝送', '伝送形式', '伝送路', '伝達', '伴う', '伸ばす', '伸びる', '伸び悩む', '似せる', '似つく', '似る', '似通う', '但し', '位相', '位置', '位置づけ', '位置付け', '低い', '低レベル', '低下', '低価格', '低廉', '低減', '低温', '低速', '住友電気工業', '住所', '住所録', '住民', '佐藤', '体制', '体性', '体感', '体積', '体系', '体系化', '体系的', '体験', '体験者', '何人', '何個', '何処', '何回', '何度', '何故', '何物', '何者', '何色', '余儀', '余地', '余裕', '余計', '作りこむ', '作りだす', '作り出す', '作り変える', '作り込み', '作り込む', '作る', '作れる', '作例', '作動', '作品', '作成', '作成者', '作戦', '作曲', '作曲法', '作曲者', '作業', '作業環境', '作業療法', '作業者', '作業量', '作法', '作用', '作者', '併せる', '併せ持つ', '併用', '併記', '使いこなす', '使い分け', '使い分ける', '使い切る', '使い物', '使う', '使える', '使用', '使用者', '使用量', '例えば', '例える', '例外', '例外的', '例示', '例題', '供与', '供給', '供給源', '供給者', '供覧', '依る', '依存', '依拠', '依然', '依頼', '価値', '価格', '価格帯', '侵入', '侵害', '侵攻', '侵犯', '侵襲', '便利', '便宜的', '係る', '係数', '促す', '促進', '俗用', '俗称', '俗語', '保つ', '保存', '保守', '保守性', '保守的', '保安', '保安庁', '保持', '保留中', '保管', '保管場所', '保証', '保護', '保険業', '保障', '信じる', '信ずる', '信仰', '信号', '信奉', '信念', '信用', '信頼', '信頼度', '信頼性', '修士課程', '修復', '修整', '修正', '修正方法', '修理', '修理業', '修理費', '修飾', '俳優', '個々', '個々人', '個人', '個人向け', '個人情報', '個人情報保護法', '個人的', '個体', '個別', '個性', '個数', '倍々', '倍率', '倍精度', '倒産', '候補', '借りる', '値段', '倫理', '倫理的', '偉大', '偏向', '偏微分', '停止', '停滞', '停電', '健康', '健康状態', '側面', '偵察', '偶然', '偶発', '偽り', '偽る', '傘下', '備え', '備える', '備わる', '催す', '傾向', '僅か', '働き', '働く', '償却', '優れる', '優位', '優先', '優先度', '優先権', '優先順位', '優勝', '優秀', '元々', '元年', '元来', '元気', '元祖', '元素', '充実', '充足', '兆候', '先入観', '先取権', '先天的', '先生', '先祖', '先端', '先行', '先読み', '先進国', '先進的', '先頭', '先駆', '先駆け', '先駆ける', '先駆者', '光学', '光学系', '光景', '光波', '光洋', '光源', '光線', '光速', '光陰', '克服', '免責', '党首', '入り', '入り込む', '入る', '入れる', '入れ替える', '入出', '入出力', '入力', '入力ミス', '入学', '入手', '入札', '入退室', '入門', '全く', '全て', '全体', '全体的', '全員', '全国', '全域', '全天', '全盛', '全社', '全米', '全編', '全般', '全部', '全面', '全面的', '公共', '公差', '公式', '公理', '公示', '公算', '公聴会', '公職', '公衆', '公表', '公認', '公開', '公電', '共同', '共役', '共有', '共通', '共通語', '具体例', '具体化', '具体的', '具合', '具象', '典型', '典型的', '兼ねる', '兼ね備える', '兼ね合い', '内井', '内側', '内包', '内容', '内線', '内蔵', '内製', '内部', '内部構造', '内部的', '内閣', '円板', '冊子', '再び', '再利用', '再帰', '再度', '再現', '再現性', '再生', '再生産', '再発', '再計算', '再評価', '再開', '再開発', '冒頭', '冗長', '冗長化', '冗長性', '冗長構成', '写像', '写実', '写実的', '写植', '写真', '写真データ', '写真家', '冠する', '冷却', '冷蔵庫', '凌駕', '凍る', '凝る', '処刑', '処理', '処理コード', '処理時間', '処理系', '処理速度', '処置', '凸包', '出し抜く', '出す', '出る', '出典', '出力', '出向く', '出品', '出回る', '出席', '出店', '出撃', '出来る', '出来るだけ', '出来上がる', '出来事', '出演', '出版', '出版業', '出版物', '出版社', '出現', '出発', '出発点', '出荷', '出願', '函数', '分かる', '分かれる', '分かれ目', '分け', '分ける', '分る', '分光', '分割', '分化', '分岐', '分布', '分散', '分散型', '分断', '分析', '分析者', '分科', '分解', '分解能', '分配', '分野', '分隊', '分離', '分類', '分類学', '分類法', '切り出し', '切り出す', '切り捨てる', '切り替え', '切り替える', '切り替わり', '切り替わる', '切り離す', '切る', '切れ', '切れる', '切れ目', '切断', '刑務所', '列挙', '初め', '初めて', '初出', '初年', '初期', '初期値', '初期化', '初期段階', '初歩', '初等', '初頭', '判る', '判別', '判定', '判断', '判断基準', '判明', '判決', '別々', '別ける', '別名', '別物', '別途', '利く', '利便性', '利喜太郎', '利害関係', '利害関係者', '利権', '利活用', '利点', '利用', '利用形態', '利用方法', '利用状況', '利用目的', '利用者', '利益', '利直', '到来', '到着', '到達', '制作', '制動', '制定', '制度', '制御', '制約', '制限', '刷新', '刺激', '則る', '削減', '削除', '前もって', '前任', '前処理', '前出', '前半', '前庭', '前後', '前提', '前節', '前者', '前記', '前身', '前述', '副作用', '割く', '割ける', '割り出す', '割り引く', '割り当て', '割り当てる', '割り振る', '割り算', '割り込み', '割り込む', '割る', '割合', '割当', '創り出す', '創る', '創作物', '創設', '創設者', '創造', '創造的', '劇場', '劇的', '力学', '力学系', '力点', '加える', '加わる', '加工', '加減算', '加盟国', '加筆', '加算', '加速', '加速器', '加速度', '劣る', '劣化', '劣悪', '助け', '助ける', '助力', '助成', '助教授', '助言', '努力', '労働', '労力', '効果', '効果的', '効率', '効率化', '効率的', '効用', '勃発', '勃興', '動かす', '動かせる', '動き', '動く', '動体', '動作', '動力', '動態', '動機', '動機付け', '動物', '動画', '動的', '動詞', '務める', '勝つ', '勝利', '募る', '募集', '勢い', '勢い付ける', '勤務', '勧告', '勾配', '包含', '包括的', '化する', '化学', '北朝鮮', '匹敵', '区分', '区分け', '区別', '区域', '区画', '区間', '医学', '医学的', '医師', '医療', '医療機関', '医療用', '医療用機器', '医薬品', '十二', '十分', '十徳', '十進', '半ば', '半分', '半導体', '半径', '半永久的', '半熟', '卒業生', '卓上', '協会', '協力', '協調', '南北', '単に', '単一', '単位', '単体', '単体テスト', '単価', '単元', '単数形', '単独', '単発', '単純', '単純化', '単結晶', '単語', '占める', '印刷', '印刷物', '印加', '印字', '印画紙', '印象', '印象的', '危機', '危機管理', '危険', '危険性', '即する', '即ち', '即座', '即応', '即決', '即興', '却下', '厚い', '厚紙', '原作者', '原価', '原則', '原則的', '原動力', '原因', '原始', '原始的', '原子', '原子力発電', '原子核', '原料', '原本', '原材料', '原理', '原義', '原論', '厳しい', '厳密', '厳格', '参入', '参加', '参加者', '参加者数', '参照', '参照元', '参画', '参考', '参考文献', '参謀', '及び', '及ぶ', '及ぼす', '友人', '双対性', '双方', '反する', '反例', '反対', '反対派', '反射', '反復', '反復法', '反応', '反映', '反論', '反転', '反面', '収まる', '収める', '収束', '収益', '収納', '収録', '収集', '取りまとめる', '取り上げる', '取り入れる', '取り出し', '取り出す', '取り壊す', '取り戻す', '取り扱い', '取り扱う', '取り決め', '取り消す', '取り組み', '取り組む', '取り込む', '取り違える', '取り除く', '取る', '取れる', '取引', '取得', '取扱い', '取扱う', '受ける', '受け付ける', '受け入れる', '受け取る', '受け手', '受け渡し', '受け継ぐ', '受付', '受信', '受像', '受動', '受容', '受理', '受賞', '口座', '口座残高', '古い', '古く', '古代', '古典', '古典的', '古来', '叫び', '可動', '可否', '可変', '可用性', '可算', '可能', '可能性', '可視', '可視光', '可視化', '可読', '可読性', '可逆', '台数', '台湾', '台頭', '史上', '右図', '司る', '司令部', '司会', '司書', '各々', '各企業', '各個', '各国', '各地', '各文', '各方面', '各段', '各点', '各社', '各種', '各論', '各部', '合う', '合わせる', '合意', '合成', '合理化', '合理性', '合理的', '合致', '合計', '吉里吉里', '同じ', '同じく', '同一', '同人', '同値', '同列', '同化', '同名', '同型', '同報', '同士', '同定', '同年', '同数', '同時', '同期', '同校', '同様', '同機', '同法', '同社', '同種', '同等', '同義', '同義語', '同質', '同音語', '名乗る', '名付ける', '名前', '名称', '名詞', '名詞句', '名誉', '吐き気', '向かう', '向き', '向く', '向け', '向ける', '向上', '否定', '否定的', '否認', '含む', '含める', '含意', '含浸', '吸収', '吹流し', '告発', '告示', '告訴', '周回', '周囲', '周期', '周波数', '周知', '周辺', '味覚', '呼び出し', '呼び出す', '呼び分ける', '呼び掛ける', '呼ぶ', '呼べる', '呼出', '呼出し', '呼応', '呼称', '命中', '命令', '命名', '命題', '和声', '和文', '和算', '和製', '品もの', '品物', '品種', '品質', '品質向上', '哨戒', '哲学', '哲学的', '哺乳類', '唯々', '唯一', '商取引', '商品', '商品化', '商店街', '商業', '商標', '商標法', '商法', '商用', '商船', '問い', '問いかける', '問い合わせ', '問う', '問合せ', '問題', '問題視', '問題解決', '問題解決能力', '啓蒙', '喪失', '営利', '営業支援', '嗅覚', '囚人', '四則', '四十', '四方', '回帰', '回復', '回折', '回数', '回文', '回答', '回線', '回線速度', '回路', '回転', '回転体', '回避', '因子', '因数', '因果', '因果律', '団体', '困難', '囲い込み', '囲む', '囲碁', '図る', '図式', '図形', '図書', '図書館', '図面', '固まる', '固体', '固執', '固定', '固定化', '固定資産税', '固有', '固有値', '国々', '国会', '国会議員', '国内', '国内総生産', '国勢', '国土', '国土交通省', '国土地理院', '国境', '国字', '国家', '国家公務員法', '国情', '国有鉄道', '国民', '国状', '国立', '国立研究所', '国語', '国鉄', '国防', '国際', '土台', '土地', '土木', '圧倒', '圧倒的', '圧力', '圧縮', '圧縮率', '在庫管理', '在来', '地上', '地図', '地域', '地形', '地形図', '地方', '地方公共団体', '地方公務員法', '地方税法', '地方自治体', '地点', '地物', '地獄', '地球', '地理', '地理学', '地理的', '地目', '地道', '地面', '坂村', '均等', '垂直', '型付け', '垣根', '埋め込む', '執筆', '培う', '基づく', '基地', '基幹', '基幹系システム', '基底', '基本', '基本法', '基本的', '基本設計', '基材', '基板', '基準', '基盤', '基礎', '基礎的', '基礎知識', '堅牢', '堆積', '堪える', '報ずる', '報告', '報告書', '報道', '報道官', '報酬', '場合', '場所', '場面', '塗りつぶす', '塗布', '塗料', '塗装', '塩化', '境界', '境界線', '境目', '増える', '増す', '増やす', '増加', '増加率', '増大', '増幅', '増強', '増減', '壁紙', '壊れる', '声明', '売り', '売り上げ', '売り出す', '売り手', '売る', '売れる', '売れ行き', '売上', '売買', '変える', '変わる', '変分', '変則的', '変動', '変化', '変形', '変換', '変数', '変更', '変更内容', '変種', '変質', '変遷', '変革', '外す', '外乱', '外交', '外付け', '外側', '外傷', '外国', '外国語', '外形', '外界', '外的', '外見', '外観', '外部', '多々', '多い', '多く', '多し', '多人数', '多分', '多大', '多少', '多層', '多岐', '多彩', '多数', '多数決', '多様', '多様化', '多様性', '多次元', '多段', '多湿', '多用', '多発', '多種', '多角形', '多言語', '多重', '多量', '多面', '多面体', '多項式', '夜間', '大々的', '大いに', '大きい', '大きさ', '大まか', '大人', '大企業', '大会', '大元', '大冒険', '大分', '大切', '大別', '大半', '大同小異', '大国', '大型', '大変', '大学', '大学院', '大小', '大幅', '大成', '大戦', '大手', '大手企業', '大抵', '大掛かり', '大数', '大文字', '大村', '大概', '大正', '大統領', '大胆', '大脳', '大臣', '大蔵省', '大衆', '大西洋', '大規模', '大規模集積回路', '大部分', '大量', '大量生産', '大阪大学', '大陸', '大雑把', '大震災', '天井', '天体', '天才', '天文学的', '天気', '太い', '失う', '失敗', '奇妙', '奈良先端科学技術大学院大学', '契機', '契約', '契約締結', '奥付', '奥行き', '奪う', '女子大', '女性', '女性誌', '女神', '好ましい', '好み', '好む', '好事家', '好戦', '如何に', '妥協', '妥協案', '妥当', '妥当性', '妨げる', '姉妹', '始まり', '始まる', '始め', '始める', '委ねる', '委任', '委員会', '委譲', '姿勢', '娯楽', '媒体', '子供', '子鹿', '字句', '存在', '存在感', '季節', '学ぶ', '学べる', '学会', '学会誌', '学位', '学問', '学校', '学校教育', '学派', '学生', '学界', '学科', '学習', '学習指導', '学習者', '学者', '学術', '学術書', '学部', '学際', '宇宙', '宇宙服', '守る', '安い', '安上がり', '安価', '安全', '安全弁', '安全性', '安定', '安定化', '安定性', '安易', '完了', '完全', '完全性', '完成', '完璧', '完結', '定か', '定まる', '定める', '定例', '定型', '定常', '定式化', '定性的', '定数', '定期的', '定理', '定着', '定積', '定義', '定義域', '定量', '定量的', '宛名', '宝庫', '実体', '実体化', '実例', '実写', '実利', '実力', '実務者', '実在', '実地', '実学', '実店舗', '実態', '実数', '実施', '実機', '実測', '実物', '実状', '実現', '実用', '実用化', '実用的', '実績', '実行', '実行時', '実装', '実証', '実証論', '実質', '実質的', '実運用', '実際', '実際的', '実験', '実験的', '客観', '客観性', '客観的', '宣伝', '宣言', '室温', '家庭', '家庭内', '家庭用', '家庭用電気機械器具', '家電', '家電製品', '容器', '容易', '容疑', '容量', '寄与', '寄付', '寄稿', '密度', '密接', '富む', '富士通', '審判', '審査', '寸法', '対する', '対価', '対処', '対処方法', '対処法', '対応', '対戦', '対抗', '対数', '対比', '対気', '対流', '対潜', '対潜戦', '対照', '対照的', '対称', '対称性', '対称的', '対立', '対策', '対角線', '対話', '対話型', '対象', '対象外', '対象年齢', '対象物', '対象物件', '対馬', '寿命', '封じ込める', '封入', '封止', '専ら', '専攻', '専業', '専用', '専用機', '専門', '専門家', '専門性', '専門用語', '専門的', '専門知識', '射影', '射撃', '将来', '将来的', '尊重', '尋ねる', '導き出す', '導く', '導ける', '導入', '導出', '導通', '導関数', '導電', '小さい', '小刻み', '小型', '小型化', '小売', '小学生', '小宇宙', '小惑星', '小数', '小数点', '小泉', '小片', '小規模', '小解', '小説', '小説家', '小量', '少し', '少ない', '少なし', '少人数', '少女', '少年', '少数', '少量', '尖閣', '尚早', '就業時間', '尺度', '尽力', '局在', '局所', '局所化', '局面', '屈折', '届ける', '屋根裏', '展示', '展開', '属す', '属する', '属性', '履修', '履歴', '山羊', '岐阜県各務原市', '岩波', '崩壊', '川柳', '巡る', '工作', '工具', '工具鋼', '工場', '工夫', '工学', '工学科', '工学者', '工学部', '工数', '工業', '工業デザイン', '工科', '工程', '左右', '巧妙', '巨大', '差し戻し', '差分', '差異', '巻き起こす', '巻き込む', '巻く', '市場', '市場シェア', '市場調査', '市民', '市販', '希望', '希薄', '帝国', '帯域', '帰着', '帰納', '帰納法', '帰納的', '帰還', '常套', '常時', '常温', '常識', '常識的', '幅広い', '幕張', '幕末', '干渉', '平ら', '平均', '平均値', '平均的', '平成', '平文', '平方', '平方根', '平易', '平準化', '平滑', '平行', '平行性', '平衡', '平面', '年々', '年代', '年度', '年後半', '年月', '年次', '年賀状', '年較差', '年間', '年齢', '幸運', '幹夫', '幻想', '幼少', '幾つ', '幾何', '幾何学', '幾度', '庁内', '広い', '広がり', '広がる', '広げる', '広まる', '広める', '広告', '広域', '広州', '広東省', '広範', '広範囲', '広義', '床下', '序盤', '序説', '底辺', '府省', '度合い', '座る', '座標', '廃棄', '廃業', '廃止', '廃熱', '建てる', '建物', '建築', '建築学', '建築物', '建造', '弁護士', '引き上げ', '引き上げる', '引き出す', '引き合い', '引き渡す', '引き継ぐ', '引き続く', '引き落とし', '引き起こす', '引く', '引っかかる', '引っかく', '引数', '引率', '引用', '弱い', '弱点', '張り合わせる', '張り巡らす', '張る', '強い', '強いる', '強める', '強制', '強力', '強化', '強姦', '強度', '強磁性', '強要', '強調', '当たり', '当たり前', '当たる', '当てはめる', '当てる', '当初', '当局', '当時', '当然', '当該', '形容詞', '形式', '形式的', '形態', '形態素', '形成', '形状', '形質', '彩色', '影像', '影響', '役割', '役立つ', '彼女', '往復', '待たす', '待ち', '待つ', '後ろ', '後処理', '後半', '後押し', '後期', '後継', '後継者', '後続', '後者', '後藤', '後述', '徐々', '従う', '従事', '従事者', '従属', '従弟', '従来', '従業員', '得る', '得失', '得意', '得意分野', '復元', '復号', '復帰', '復旧', '復活', '循環', '微分', '微分学', '微分積分', '微増', '微妙', '微小', '微積分', '微粒子', '微細', '微細化', '徹底', '徹底的', '心理', '心理学', '心臓', '必ず', '必修', '必然性', '必然的', '必要', '必要性', '必須', '忍耐', '応える', '応ずる', '応用', '応用技術', '応答', '忠実', '快適', '念頭', '思い', '思い出す', '思う', '思惑', '思想', '思案', '思考', '急上昇', '急変', '急激', '急速', '性交', '性善説', '性格', '性能', '性質', '怪しい', '怯える', '恐喝罪', '恒星', '恩恵', '患者', '悩ます', '悩み', '悩む', '悪い', '悪化', '悪影響', '悪徳', '悪意', '悪条件', '悪用', '情勢', '情報', '情報セキュリティ', '情報共有', '情報処理', '情報化', '情報学', '情報検索', '情報流出', '情報源', '情報漏洩', '情報通信技術', '情報通信業', '情報量', '情景', '情緒的', '惑う', '惑星', '惣七', '想像', '想定', '意味', '意味あい', '意味合い', '意味論', '意図', '意図的', '意志', '意思', '意思決定', '意義', '意見', '意訳', '意識', '意識的', '愛好家', '愛着', '感じ', '感ずる', '感化', '感情', '感情的', '感想', '感染', '感覚', '態勢', '態度', '慎重', '慣れる', '慣れ親しむ', '慣性', '慣習', '懸念', '戏机', '成し遂げる', '成す', '成り立ち', '成り立つ', '成る', '成人', '成功', '成年者', '成形', '成果', '成果物', '成熟', '成立', '成績', '成績表', '成長', '成長率', '我々', '戒める', '戦い', '戦争', '戦力', '戦後', '戦略', '戦略的', '戦術', '戦車', '戦間', '戦闘', '戦闘機', '戻す', '所定', '所属', '所有', '所望', '所管', '扇風機', '手がかり', '手がける', '手作業', '手助け', '手動', '手帳', '手掛かり', '手描き', '手操', '手早い', '手書き', '手本', '手段', '手法', '手渡', '手続', '手続き', '手術', '手足', '手軽', '手間', '手順', '才能', '打ち切り', '打ち切る', '打ち合わせる', '打ち込む', '打倒', '打切る', '払い出し', '払う', '払拭', '扱い', '扱う', '扱える', '批判', '批判的', '批評', '承知', '承認', '技師', '技法', '技能', '技術', '技術的', '技術者', '技術革新', '把握', '抑える', '抑制', '投げかける', '投下', '投入', '投射', '投影', '投影法', '投票', '投票者', '投稿', '投資', '折り曲げる', '折る', '抜き出す', '抜く', '抜け出す', '抱える', '抱く', '抵抗', '抵抗器', '抹消', '押さえる', '押さえ込む', '押し進める', '押す', '押下', '押入れ', '抽出', '抽出法', '抽象', '抽象化', '抽象的', '担い手', '担う', '担保', '担当', '担当者', '拍子', '拒む', '拒否', '拒絶', '拘る', '拘束', '招く', '招待', '拠点', '拡充', '拡大', '拡張', '拡張子', '拡張性', '拡張機能', '拡散', '括弧', '拾い上げる', '持ち込む', '持ち運び', '持つ', '持続', '持続可能性', '指す', '指向', '指定', '指導', '指導者', '指摘', '指数', '指数関数', '指標', '指示', '指紋', '指針', '挑戦', '挙がる', '挙げる', '挙動', '挟む', '振り仮名', '振り向ける', '振る', '振る舞い', '振る舞う', '振動', '振幅', '振舞い', '挿げ替える', '挿入', '捉える', '捜す', '捜査', '捜索', '捨てる', '捨象', '据える', '据え置き', '据え置く', '排する', '排他', '排他的', '排除', '掛かる', '掛ける', '採り入れる', '採る', '採点', '採用', '探し出す', '探す', '探る', '探れる', '探査', '探査機', '探索', '接地', '接尾辞', '接点', '接続', '接線', '接頭辞', '控える', '推し進める', '推奨', '推定', '推敲', '推測', '推計', '推論', '推進', '措置', '掲げる', '掲載', '揃う', '揃える', '描く', '描写', '描画', '提供', '提出', '提唱', '提携', '提案', '提示', '提言', '提起', '換字', '換装', '換言', '揮発性', '援助', '揺るがす', '揺れ', '損なう', '損傷', '損失', '損害', '損害賠償', '損金', '搬送', '搭載', '携わる', '携帯', '携帯用', '携帯端末', '携帯電話', '摩擦', '撃墜', '撃沈', '撤退', '撮像', '撮像管', '撮影', '操作', '操作性', '操作方法', '擬人化', '擬似', '支える', '支払う', '支持', '支持者', '支援', '支配', '支障', '改ざん', '改修', '改善', '改変', '改正', '改竄', '改組', '改良', '改訂', '攻撃', '攻撃的', '攻撃者', '攻殻', '放り込む', '放棄', '放熱', '放置', '放送', '政党', '政府', '政権', '政治', '政治学', '政治的', '政策', '故意', '故障', '救急車', '救済', '教える', '教員', '教師', '教授', '教材', '教科', '教科書', '教職', '教育', '教育学部', '教育機関', '教育課程', '教訓', '散らばり', '散在', '散文', '散策', '散見', '散逸', '敬意', '数々', '数える', '数え上げ', '数ヶ月', '数値', '数列', '数十', '数千', '数多く', '数字', '数学', '数学者', '数年間', '数式', '数時間', '数理', '数百', '数種類', '数表', '数論', '数量', '整う', '整える', '整備', '整列', '整合', '整合性', '整数', '整数型', '整数論', '整理', '敵国', '敵対', '敵対的', '敵弾', '敷設', '文化', '文化圏', '文句', '文字', '文字列', '文字数', '文学', '文庫', '文房具', '文書', '文書化', '文法', '文法的', '文献', '文章', '文筆', '文節', '文系', '文脈', '料理', '斜視', '斬新', '断念', '断熱', '断片', '断言', '新しい', '新た', '新世代', '新商品', '新字体', '新技術', '新旧', '新機能', '新編', '新規', '新規性', '新設', '方位', '方向', '方向性', '方式', '方法', '方法論', '方程', '方程式', '方策', '方針', '方面', '於く', '施す', '施行', '施行規則', '施設', '旅行', '既に', '既存', '既知', '日々', '日付', '日射', '日射計', '日常', '日常生活', '日常的', '日数', '日本', '日本ビクター', '日本国内', '日本工業規格', '日本語', '日本電子', '日本電気', '日立化成', '日立製作所', '日米', '旧来', '早い', '早期', '早道', '明らか', '明るい', '明朝体', '明治', '明白', '明確', '明確化', '明示', '明記', '易しい', '映像', '映像化', '映画', '映画祭', '昨年', '昭二', '昭和', '是非', '昼間', '時代', '時代遅れ', '時分', '時刻', '時変', '時期', '時点', '時相', '時空', '時系列', '時計', '時間', '時間的', '時間短縮', '時間通り', '普及', '普段', '普通', '普遍的', '暗い', '暗号', '暗号化', '暗室', '暗示', '暗記', '暗黙', '曖昧', '曰く', '曲折', '曲率', '曲線', '曲面', '更に', '更新', '書き', '書きこむ', '書き出す', '書き換える', '書き直す', '書き表す', '書き表せる', '書き込み', '書き込む', '書く', '書ける', '書中', '書庫', '書式', '書簡', '書籍', '書籍化', '書記', '書院', '書類', '最も', '最低', '最低限', '最先端', '最先端技術', '最初', '最前線', '最古', '最善', '最大', '最大値', '最大公約数', '最大限', '最小', '最小値', '最小化', '最小限', '最後', '最後尾', '最悪', '最新', '最短', '最終', '最終的', '最良', '最近', '最適', '最適化', '最重要', '最長', '最高', '有する', '有る', '有償', '有利', '有力', '有効', '有効性', '有名', '有害', '有意', '有意義', '有数', '有料', '有無', '有用', '有用性', '有界', '有益', '有線', '有象', '有限', '服飾', '望ましい', '望み', '望む', '望める', '望遠鏡', '期待', '期待値', '期間', '期間中', '木槌', '木目', '木製', '未だ', '未定', '未定義', '未対応', '未来', '未満', '未熟', '未知', '未解決', '末期', '本人', '本体', '本土', '本島', '本当', '本文', '本来', '本格', '本格的', '本物', '本番', '本稿', '本義', '本質', '本質的', '本部', '本領', '机上', '材料', '束ねる', '束縛', '条件', '条件付', '条例', '条文', '条約', '条項', '来る', '東京', '東京大学', '東条', '東欧', '東芝', '東西', '林業', '枚数', '果たす', '枝刈り', '枠組み', '架空', '柔らかい', '柔軟', '柔軟性', '柳河', '栄誉', '校正', '校長', '株主総会', '株式市場', '核心', '根元', '根底', '根拠', '根本的', '根源', '格子', '格納', '格闘', '桁外れ', '桁数', '桁違い', '案内', '梱包', '棋士', '森田', '植生', '検出', '検収', '検定', '検査', '検潮', '検知', '検算', '検索', '検索エンジン', '検索機能', '検討', '検討中', '検証', '検閲', '楕円', '業務', '業務効率化', '業務用', '業界', '業績', '業者', '極めて', '極値', '極小', '極端', '極限', '極限値', '楽典', '楽式', '楽曲', '楽派', '楽観主義', '楽観的', '楽譜', '概ね', '概念', '概念的', '概率', '概略', '概要', '概観', '概説', '概論', '構う', '構想', '構成', '構成要素', '構文', '構文解析器', '構文論', '構築', '構造', '構造化', '構造化プログラミング', '構造物', '構造的', '様々', '様子', '様式', '様式化', '標本', '標本化', '標準', '標準偏差', '標準化', '標準的', '標的', '標高', '模倣', '模型', '模擬', '模擬試験', '模様', '模索', '権利', '権力', '権威', '権益', '権限', '横断', '横行', '樹脂', '機会', '機体', '機動隊', '機器', '機密', '機密情報', '機材', '機械', '機械化', '機械学習', '機械的', '機械語', '機構', '機種', '機能', '機能拡張', '機能的', '機運', '機関', '機関誌', '機雷', '欠かせる', '欠ける', '欠如', '欠点', '欠片', '欠陥', '次々', '次いで', '次ぐ', '次世代', '次元', '次数', '次第', '次表', '欧州', '欧文', '欧米', '欲しい', '欲求', '歓迎', '止まる', '止める', '正しい', '正則化', '正反対', '正夫', '正字', '正定', '正常', '正式', '正弥', '正当化', '正当性', '正方', '正方形', '正確', '正確性', '正規', '正規化', '正解', '正面', '歩く', '歩む', '歩留まり', '歪み', '歯科', '歴代', '歴史', '歴史的', '死亡', '殊に', '残す', '残り', '残る', '残像', '残存', '段落', '段階', '殺す', '殿堂', '毀損', '母体', '母材', '母集団', '毎回', '毎年', '毎日', '毎秒', '比べる', '比例', '比濁', '比率', '比較', '比較的', '毛筆', '民生', '民間', '気づく', '気圧計', '気温', '気球', '気象', '気象衛星', '水中', '水仕事', '水分', '水平', '水準', '水路', '水銀', '水面', '永久', '永井', '永遠', '氾濫', '求める', '求積', '汎化', '汎用', '汎用性', '汎用機', '汎用的', '汎関数', '汚染', '決まり', '決まる', '決める', '決定', '決定的', '決定論', '決断', '決済', '決着', '決議', '沖縄', '沖縄戦', '沖電気', '没入', '没落', '沢山', '河川', '油絵具', '治る', '治療', '沿う', '沿岸', '法人', '法令', '法則', '法務', '法律', '法律家', '法的', '法規', '波長', '泣き寝入り', '泥棒', '注入', '注力', '注意', '注文', '注目', '注釈', '洋学', '洋平', '洗い出す', '洗練', '洞察', '洞窟', '活かす', '活動', '活動家', '活字', '活用', '活発', '活躍', '派生', '派遣', '流し込む', '流す', '流れ', '流れる', '流れ作業', '流体', '流出', '流布', '流用', '流行', '流行る', '流通', '流量', '浅い', '浪費', '浮き彫り', '浮上', '浮動', '浴びる', '海上', '海域', '海外', '海洋', '海流', '海軍', '浸透', '消える', '消す', '消去', '消去法', '消極的', '消滅', '消耗品', '消費', '消費者', '消費量', '液晶', '液漏れ', '淡路', '深い', '深める', '深刻', '深層', '深層学習', '深度', '深海', '深遠', '混じり合う', '混入', '混合', '混同', '混在', '混成', '混用', '混載', '混迷', '添付', '添加物', '清浄', '済み', '済む', '渋滞', '減らす', '減らせる', '減る', '減価', '減少', '減算', '減量', '渡す', '渡せる', '渡る', '温度', '温度計', '測る', '測位', '測地系', '測定', '測度', '測量', '測量法', '湿る', '湿度計', '満たす', '満足', '満足度', '源流', '準じる', '準備', '準拠', '溜める', '溶け込む', '溶融', '滅多', '滋賀大学', '滑らか', '漁船', '漂う', '漏れる', '漏洩', '演じる', '演ずる', '演出', '演劇', '演奏', '演技', '演算', '演算子', '演繹', '演者', '演説', '漢字', '漢訳', '漫画', '漫画家', '漸化', '漸減', '漸近', '潜む', '潜在', '潜在的', '潜水艦', '潜航', '潮流', '激しい', '激化', '濃度', '濫用', '濾しとる', '火災', '火災報知器', '灰色', '災害', '点在', '点字', '点数', '為す', '無い', '無くなる', '無し', '無人', '無人化', '無作為', '無傷', '無償', '無制限', '無力', '無効', '無害', '無意味', '無意識的', '無数', '無料', '無条件', '無線', '無脳', '無視', '無許可', '無調', '無象', '無関係', '無限', '無限大', '無限小', '無駄', '焦点', '焼き付ける', '焼く', '焼ける', '焼結', '照合', '照明', '照計', '煩雑', '煽る', '煽動', '熟練', '熟考', '熟語', '熱い', '熱伝導', '熱力', '熱心', '爆撃', '爆撃機', '爆煙', '爆発', '爆発的', '爆雷', '片方', '物体', '物作り', '物性', '物流', '物理', '物理学', '物理療法', '物理的', '物理量', '物置', '物語', '物質', '特に', '特例', '特別', '特効薬', '特化', '特定', '特定商取引に関する法律', '特徴', '特徴的', '特性', '特撮', '特攻', '特有', '特権', '特殊', '特殊効果', '特殊性', '特異値', '特異性', '特筆', '特色', '特記事項', '特許', '特許庁', '特許権', '特長', '牽引', '犠牲', '犯罪', '状態', '状況', '状況下', '狙い', '狙う', '狩る', '独創的', '独占', '独特', '独立', '独自', '狭い', '狭義', '狼煙', '獲得', '率先', '王朝', '王様', '王立', '玩具', '玩遊', '珍しい', '珍重', '珪素', '現す', '現に', '現れる', '現われる', '現代', '現代的', '現像', '現在', '現地', '現場', '現存', '現実', '現実感', '現実的', '現時点', '現物', '現状', '現象', '理史', '理屈', '理工学', '理工系', '理念', '理想', '理想主義', '理想的', '理由', '理系', '理解', '理詰め', '理論', '理論的', '瑣末', '環境', '環境構築', '生かす', '生き残る', '生じる', '生ずる', '生まれ', '生まれる', '生みの親', '生み出す', '生み出せる', '生む', '生体', '生命', '生命科学', '生態系', '生成', '生板', '生活', '生物', '生物学', '生産', '生産品', '生産性', '生産業', '生産量', '生起', '生還', '産業', '産業界', '産物', '用いる', '用字', '用意', '用法', '用語', '用途', '田中', '由来', '申し立て', '申請', '申請用', '申請者', '电子', '电玩', '男性', '画する', '画像', '画像データ', '画像検索', '画材', '画素', '画角', '画質', '画面', '留まる', '略す', '略名', '略称', '略記', '略語', '番号', '番目', '番組', '異なる', '異常', '異論', '疎通', '疑い', '疑う', '疑似', '疑問', '疑惑', '疫学', '疲弊', '病気', '病院', '症例', '痙攣', '発する', '発作', '発信', '発券', '発売', '発展', '発想', '発揮', '発散', '発明', '発注', '発火', '発熱', '発生', '発生源', '発生率', '発祥', '発端', '発行', '発表', '発見', '発覚', '発言', '発送', '発達', '発電', '発音', '登場', '登用', '登記法', '登録', '白地図', '白色', '白黒', '百万', '百科', '百科事典', '百科全書', '皓一', '皮切り', '皮肉', '皮膚', '盗用', '盗聴', '盛り上がる', '盛り込む', '盛ん', '監査', '監視', '盤面', '目す', '目先', '目処', '目指す', '目標', '目次', '目玉', '目的', '目立つ', '目録', '直前', '直径', '直後', '直感', '直感的', '直接', '直接的', '直線', '直観', '直観的', '直訳', '直達', '直面', '相乗効果', '相互', '相互作用', '相互排他的', '相加平均', '相場', '相変わらず', '相対', '相対的', '相当', '相性', '相手', '相談', '相違', '相関', '相関係数', '省く', '省令', '省庁', '省略', '看護学', '真ん中', '真価', '真値', '真偽', '真実', '真正性', '真理値', '真相', '真空', '真空管', '眺める', '着ける', '着る', '着信', '着手', '着目', '瞬時', '瞬間', '瞳孔', '矛盾', '知る', '知性', '知的', '知的財産権', '知育', '知能', '知見', '知覚', '知識', '矩形', '短い', '短所', '短時間', '短期', '短期間', '短絡', '短編', '短編小説', '短縮', '短距離', '石井', '砂原', '研修', '研究', '研究会', '研究所', '研究者', '研究開発', '砥石', '砲撃', '破る', '破壊', '破損', '破片', '硬い', '硬化', '確か', '確かめる', '確保', '確定', '確実', '確実性', '確率', '確率論', '確立', '確認', '磁化', '磁場', '磁性体', '磁気', '磁石', '磨く', '示す', '示唆', '社会', '社会基盤', '社会学', '社会的', '社内', '社員', '神経', '神託', '神話', '禁じ手', '禁ずる', '禁止', '禁止法', '福祉', '秀樹', '私たち', '私用', '私的', '科学', '科学史', '科学技術', '科学的', '科学科', '科学者', '秒間', '秘める', '秘匿', '秘密', '秩序', '称す', '称する', '移す', '移る', '移動', '移動体', '移植', '移植性', '移籍', '移行', '稀少', '程度', '税務', '税法', '種々', '種別', '種類', '稼働', '稼動', '積み木', '積み重ね', '積む', '積分', '積分学', '積極性', '積極的', '積雪計', '空き時間', '空ける', '空中', '空想', '空欄', '空母', '空気', '空気圧', '空港', '空白', '空砲', '空調', '空軍', '空間', '空間的', '突き当たる', '突き止める', '突く', '突如', '窃取', '窃盗', '窒化', '窓口', '立ち上がり', '立ち上げる', '立ち入る', '立つ', '立てる', '立て直す', '立体', '立体的', '立場', '立心', '立案', '端子', '端数処理', '端末', '端的', '競争', '競争力', '競争意識', '競合', '競技', '競技会', '竹内', '笑顔', '符号', '符号化', '第一人者', '等々', '等しい', '等価', '等値', '等分', '等差', '等式', '筋肉', '筐体', '答え', '答える', '策定', '箇所', '算定', '算数', '算法', '算術', '管理', '管理局', '管理手法', '管理者', '管理部', '節約', '範囲', '範疇', '築く', '簡体字', '簡便', '簡単', '簡易', '簡潔', '簡略', '簡素', '簡素化', '米国', '米英', '粒子', '粒度', '粗い', '粗粒', '粘土板', '精密', '精度', '精査', '精神', '精神的', '精細', '精緻', '精通', '系列', '系統', '紀要', '約束', '紆余', '納得', '納期', '納本', '純度', '純水', '純粋', '紙媒体', '紙送り', '紙面', '級数', '紛争', '紛失', '素人', '素因数', '素子', '素数', '素早い', '素朴', '素材', '索引', '累々', '累乗', '累積', '細かい', '細分', '細分化', '細粒', '細胞', '細菌', '紹介', '終える', '終わり', '終わる', '終了', '終焉', '終盤', '終端', '組み上げる', '組み合せる', '組み合わさる', '組み合わす', '組み合わせ', '組み合わせる', '組み立て', '組み立てる', '組み込み', '組み込む', '組む', '組合', '組合せ', '組合せる', '組合わせる', '組版', '組立', '組織', '組織内', '組織化', '組織的', '組込', '組込み', '組込む', '経る', '経営', '経営管理', '経度', '経時', '経済', '経済学', '経済産業省', '経済的', '経由', '経緯', '経路', '経過', '経験', '経験則', '結びつく', '結びつける', '結び付ける', '結ぶ', '結合', '結局', '結成', '結晶', '結果', '結果的', '結論', '絡み合う', '絡む', '給与計算', '統一', '統制', '統合', '統合型', '統治', '統計', '統計データ', '統計学', '統計学的', '統計情報', '統計的', '統計資料', '統語', '統語論', '統辞論', '絵具', '絵文字', '絵画', '絶える', '絶対', '絶対的', '絶滅', '絶縁', '絶縁体', '継承', '継続', '継続的', '続々', '続く', '続ける', '続行', '維持', '維持費', '綱要', '網羅', '綺麗', '緊張感', '緊急時', '総体', '総務省', '総合', '総合的', '総和', '総局', '総数', '総理', '総目録', '総称', '総計', '総選挙', '線分', '線型', '線型性', '線引き', '線形', '線画', '線路', '編み出す', '編成', '編纂', '編集', '編集者', '緩める', '緩やか', '緩和', '緯度', '緻密', '縄張り', '縛り', '縛る', '縦横', '縦軸', '縦長', '縮める', '縮小', '縮尺', '縮約', '繊維', '繋がり', '繋がる', '繋ぎ合わせる', '繋げる', '織り込む', '繰り返し', '繰り返す', '繰返す', '罫線', '置き換え', '置き換える', '置き換わる', '置く', '置ける', '置換', '置換える', '署名', '羅列', '美しい', '美術', '美術界', '美術館', '義務', '羽根', '翌年', '習う', '習得', '習慣', '習熟', '翻す', '翻訳', '翻訳家', '翻訳者', '老人', '老若男女', '考え', '考える', '考え出す', '考え方', '考察', '考慮', '考案', '耐える', '耐用年数', '聞きだす', '聞き出す', '聞き取る', '聞き逃す', '聞く', '聴覚', '聴覚障害者', '職人', '職業', '職種', '肉体', '肖る', '肖像', '肥大化', '育つ', '育む', '背後', '背景', '背景色', '能力', '能動', '能動学習', '能動的学習', '能率', '脅威', '脆弱', '脆弱性', '脚本', '脱する', '脱線', '脳内', '腹腔', '膨大', '臨床', '自ら', '自主的', '自乗', '自体', '自作', '自分', '自分自身', '自前', '自動', '自動化', '自動的', '自動車', '自動音声', '自家', '自己', '自己評価', '自律', '自明', '自治体', '自然', '自然数', '自然界', '自然的', '自然科学', '自由', '自由度', '自発的', '自社', '自立的', '自衛隊', '自身', '臭い', '至る', '至る所', '致命的', '興味', '舞台', '航法', '航空', '航空機', '船団', '船舶', '艦艇', '艦隊', '良い', '良品', '良好', '良質', '色々', '色あせる', '色分け', '色塗り', '色彩', '色覚', '色調', '花形', '芸術', '芸術家', '芸術的', '若干', '英名', '英国', '英数字', '英文', '英機', '英語', '英語圏', '英軍', '英雄', '茶飯事', '莫大', '落ちる', '落ち着く', '落とす', '落下', '著しい', '著す', '著作', '著作権', '著作物', '著名', '著書', '著者', '著述', '蒸気', '蒸発計', '蒸着', '蓄積', '蓋然', '蔵書', '薄い', '薄膜', '薬剤学', '薬学', '薬物', '藤澤', '蘇る', '虚栄心', '虚構', '蛍光', '蜘蛛', '融合', '融資', '融通', '行う', '行える', '行き詰まる', '行く', '行ける', '行なう', '行使', '行列', '行動', '行政', '行政手続', '行数', '行為', '街区', '衛星', '衛生学', '衝撃', '衝突', '衣服', '衣装', '表す', '表せる', '表れる', '表層', '表層的', '表式', '表情', '表明', '表現', '表現力', '表示', '表示法', '表紙', '表記', '表記法', '表面', '表面的', '衰退', '被写', '被害', '被覆', '裁判', '装備', '装甲', '装着', '装置', '装飾', '裏付け', '裏打ち', '裏技', '裏面', '補い合う', '補う', '補修', '補充', '補助', '補外', '補完', '補正', '補給', '補間', '補題', '製作', '製品', '製品化', '製図', '製造', '製造業', '複写', '複合', '複合型', '複合語', '複数', '複数人', '複数個', '複数名', '複数回', '複数形', '複素', '複素数', '複製', '複雑', '複雑化', '複雑性', '複雑系', '西山', '西陣', '要する', '要件', '要員', '要因', '要求', '要注意', '要点', '要約', '要素', '要請', '要領', '覆い隠す', '覆う', '見いだす', '見える', '見える化', '見せかける', '見せる', '見た目', '見つかる', '見つける', '見なす', '見なせる', '見る', '見付ける', '見出し', '見出す', '見合う', '見失う', '見抜く', '見方', '見極め', '見極める', '見直し', '見直す', '見積もり', '見積もる', '見立てる', '見紛う', '見解', '見込み', '見送る', '見逃す', '見過ごす', '規制', '規則', '規則的', '規定', '規定違反', '規律', '規格', '規格化', '規模', '規程', '規範', '規約', '視力', '視察', '視点', '視界', '視程', '視聴者', '視聴覚', '視覚', '視覚化', '視覚的', '視覚障害', '覚える', '親しむ', '親和性', '観察', '観念', '観測', '観点', '视频', '角質', '解く', '解ける', '解像度', '解凍', '解放', '解散', '解明', '解析', '解析学', '解決', '解決方法', '解決法', '解決策', '解法', '解消', '解答', '解説', '解説書', '解読', '解釈', '解除', '触れる', '触発', '触覚', '言い換える', '言い方', '言い表す', '言う', '言える', '言ふ', '言及', '言葉', '言語', '言語コード', '言語学', '言語的', '言論', '訂正', '計る', '計器', '計測', '計画', '計画的', '計画立案', '計算', '計算力', '計算尺', '計算式', '計算手', '計算機', '計算機科学', '計算法', '計算結果', '計算能力', '計算量', '計装', '計量', '計量経済学', '討論', '訓練', '訓練データ', '記す', '記事', '記入', '記号', '記号論', '記名', '記憶', '記憶媒体', '記憶装置', '記法', '記者', '記譜', '記載', '記述', '記録', '訝しい', '訪れる', '設ける', '設備', '設定', '設立', '設置', '設計', '設計図', '許す', '許可', '許容', '許諾', '訳す', '訳注', '訳語', '訴え', '訴える', '訴訟', '診察', '診断', '診療', '診療所', '証拠', '証明', '証明書', '証言', '証跡', '詐欺', '評する', '評価', '評価者', '試し', '試す', '試み', '試みる', '試作', '試用', '試行', '試行錯誤', '試論', '試験', '試験的', '試験運用', '詩人', '詰まる', '詰め込む', '話し合う', '話し言葉', '話す', '話者', '話題', '該当', '詳しい', '詳細', '詳説', '認める', '認定', '認知', '認知症', '認証', '認証方式', '認識', '認識力', '誓約', '誕生', '誘因', '誘導', '語る', '語幹', '語彙', '語形', '語源', '語用', '語用論', '語義', '誤り', '誤り伝える', '誤り率', '誤る', '誤動作', '誤報', '誤差', '誤用', '誤解', '説明', '説明書', '説明責任', '読み', '読み出し', '読み出す', '読み取り', '読み取る', '読み書き', '読み物', '読み解く', '読み込み', '読み込む', '読み込める', '読む', '読める', '読書', '読者', '課す', '課する', '課程', '課税', '課題', '調べる', '調停', '調和', '調整', '調査', '調節', '調達', '請求', '論じる', '論ずる', '論争', '論文', '論理', '論理学', '論理的', '諜報', '諸刃', '諸国', '諸島', '諾々', '講ずる', '講義', '謳う', '識別', '識別子', '識字', '警備', '警告', '警報', '警察', '警戒', '警視', '議会', '議員', '議決権', '議論', '議長', '譲る', '譲渡', '護衛', '護送', '豊か', '豊富', '貞治', '負う', '負える', '負ける', '負担', '負荷', '財力', '財団', '財布', '貢献', '貧乏', '貧弱', '販売', '販売店', '販売者', '販路', '責任', '貯蔵庫', '貴重', '買い取る', '買い手', '買い手市場', '買い物', '買い直し', '買う', '買収', '貸し出す', '費やす', '費用', '費用対効果', '貼り付ける', '貼り合わせる', '資する', '資料', '資格者', '資源', '資産', '資産管理', '資金', '質問', '質感', '質疑', '質的', '賭け事', '賭博', '購入', '購入履歴', '購入者', '走る', '走査', '走行距離', '起きる', '起こす', '起こる', '起動', '起源', '起点', '超える', '超伝導', '超過', '超関数', '越える', '趣味', '足りる', '足る', '足跡', '距離', '跨ぐ', '跨る', '路上', '踏まえる', '踏み出す', '踏み台', '踏む', '踏査', '踏襲', '躍進', '躓く', '身体', '身体的', '身分', '身動き', '身近', '身長', '車両', '車庫', '車椅子', '車線', '車載', '軌道', '軍事', '軍事史', '軍事的', '軍備拡張', '軍艦', '軍隊', '軍需', '転ずる', '転写', '転生', '転用', '転移', '転置', '転送', '軸足', '軽減', '軽量', '載せる', '輝く', '輸入', '輸出', '輸送', '辛い', '辞典', '辞書', '農場', '農学', '農業', '込み', '込める', '辿る', '迂回', '迅速', '近い', '近く', '近しい', '近づく', '近づける', '近世', '近代', '近代化', '近代的', '近似', '近似値', '近傍', '近年', '近接', '近海', '返す', '返信', '返品', '返答', '返金', '迫る', '述べる', '述語', '迷彩', '迷惑メール', '迷路', '追いかける', '追い込む', '追う', '追加', '追及', '追求', '追記', '追跡', '追随', '退ける', '退行', '退避', '送り出す', '送る', '送付', '送信', '送信先', '送出', '送出す', '送受信', '送料', '逆算', '逆説', '逆転', '透明', '透過', '逐次', '逐語', '途中', '途切れ', '途絶', '通じる', '通す', '通ずる', '通り', '通りかかる', '通る', '通例', '通俗的', '通信', '通信局', '通信業', '通信販売', '通信路', '通信速度', '通常', '通念', '通用', '通知', '通称', '通話料', '通貨', '通販', '速い', '速さ', '速力', '速度', '造作', '造船', '造語', '連れる', '連係', '連合会', '連合軍', '連想', '連携', '連日', '連番', '連立', '連結', '連絡', '連絡先', '連続', '連続ドラマ', '連続的', '連邦', '連邦軍', '連鎖', '逮捕', '週間', '進む', '進める', '進出', '進化', '進化論', '進展', '進度', '進数', '進歩', '進行', '進行形', '進行状況', '進軍', '逸れる', '遂げる', '遂行', '遅い', '遅らせる', '遅れる', '遅延', '遊ぶ', '遊べる', '遊園地', '遊戯', '遊戲', '運ぶ', '運動', '運動家', '運動性', '運営', '運用', '運用方法', '運用時', '運転', '運転中', '遍く', '遍在', '過剰', '過去', '過少', '過程', '過酷', '道具', '道徳', '道徳的', '道路', '達する', '達人', '達成', '違い', '違う', '違える', '違反', '遜色', '遠い', '遠く', '遠ざける', '遠近', '遠近法', '遠隔', '遠隔地', '遡る', '遥か', '適う', '適す', '適する', '適切', '適合', '適宜', '適度', '適当', '適応', '適格', '適正', '適用', '適用範囲', '遮る', '遮断', '遷移', '選び出す', '選ぶ', '選定', '選択', '選択肢', '選挙', '選挙管理委員会', '遺伝', '避ける', '避難', '還元', '邦題', '邪魔', '部分', '部分的', '部品', '部局', '部屋', '部署', '部門', '部隊', '郵便', '郵便番号', '都合', '都市', '配信', '配備', '配分', '配列', '配布', '配慮', '配線', '配線板', '配置', '配色', '配送業', '酔い', '酸化物', '釈放', '重い', '重ねる', '重ね合わせ', '重ね合わせる', '重み付け', '重力', '重厚', '重大', '重度', '重点', '重複', '重要', '重要度', '重要性', '重要視', '重視', '重量', '量子', '量子論', '量感', '量産', '量的', '金型', '金属', '金物', '金融', '金銭', '金額', '針路', '鈍る', '鉄道', '鉛筆', '銀塩', '銀行', '銃座', '銃手', '銅箔', '銅線', '銘打つ', '錯綜', '錯覚', '鑑賞', '長い', '長らく', '長官', '長尾', '長年', '長所', '長時間', '長期', '長期的', '長期間', '長編', '閃き', '閃光', '閉じこもる', '閉じる', '閉鎖', '開く', '開ける', '開催', '開口', '開始', '開拓', '開放', '開発', '開発中', '開発元', '開発者', '開発職', '開発部門', '開示', '開設', '開鍵', '間に合う', '間接', '間違い', '間違う', '間隔', '関する', '関る', '関わり', '関わる', '関与', '関係', '関係データベース', '関係モデル', '関係式', '関係性', '関係者', '関心', '関心事', '関数', '関連', '関連性', '関連資料', '閲覧', '閲覧者', '閾値', '阪神', '防ぐ', '防げる', '防御', '防止', '防止法', '防空', '防衛', '防衛力', '防衛省', '防諜', '阻止', '降下', '限り', '限りない', '限る', '限定', '限定的', '限界', '院生', '除く', '除ける', '除去', '除外', '除算', '陥る', '陰極', '陳腐化', '陸上', '陸上自衛隊', '陸軍', '階層', '階差', '階数', '階調', '随伴', '隙間', '際する', '際立つ', '障壁', '障害', '障害者', '隠す', '隠れる', '隠蔽', '隣接', '集まり', '集まる', '集める', '集中', '集中型', '集中的', '集合', '集合論', '集団', '集積', '集積回路', '集約', '集計', '集計結果', '雇う', '雑多', '雑誌', '雑音', '離せる', '離れる', '離散', '離脱', '難しい', '難しさ', '難点', '難解', '難読', '雨滴', '雨量計', '雲高計', '電力', '電力量', '電動', '電化', '電卓', '電圧', '電子', '電子マネー', '電子メール', '電子化', '電子商取引', '電子工学', '電子申請', '電子署名', '電子計算機', '電子証明書', '電機', '電気', '電気量', '電池', '電波', '電流', '電源', '電界', '電磁的記録', '電荷', '電解', '電話', '電話網', '電電公社', '需要', '露光', '青空', '静止', '静的', '静電', '非公式', '非公開', '非同期', '非営利', '非営利団体', '非営利組織', '非対称', '非常', '非推奨', '非破壊', '非線形', '非難', '面々', '面倒', '面積', '革命', '革命的', '革新的', '韓国', '音列', '音声', '音楽', '音源', '音節', '音素', '音読み', '音階', '音響', '頂点', '項数', '項目', '順位', '順列', '順序', '順次', '順番', '順調', '預金口座', '頑健', '頒布', '領土', '領域', '領空', '頭字', '頭打ち', '頭文字', '頭痛', '頭部', '頻度', '頻繁', '頼り', '頼る', '題する', '顔写真', '顔色', '顔面', '顕在化', '顕著', '類似', '類似性', '類型', '顧客', '風向計', '風景', '風習', '風速計', '風雲', '飛びとび', '飛び回る', '飛び越える', '飛ぶ', '飛行', '飛躍的', '食い違い', '食い違う', '食品', '飲ます', '飽和', '飾る', '養成', '首座', '首都大学', '香水', '香港', '駆使', '駆動', '騒音', '験潮儀', '騙し取る', '騙す', '驚く', '骨格', '骨組み', '高い', '高まる', '高める', '高レベル', '高価', '高分子', '高周波', '高品質', '高密度', '高度', '高度化', '高性能', '高木', '高校', '高機能', '高次', '高水準', '高温', '高画質', '高等', '高級', '高速', '高速化', '高額', '高騰', '魅力的', '魔界', '鮮やか', '鳴る', '麻雀', '黄緑', '黎明期', '黒い', '黒色', '黒質', '齎す']\n"
          ],
          "name": "stdout"
        }
      ]
    },
    {
      "cell_type": "code",
      "metadata": {
        "id": "v6Mcat9s16Gk",
        "outputId": "8820820e-01f6-4a25-ce27-30b4161edcd8",
        "colab": {
          "base_uri": "https://localhost:8080/",
          "height": 53
        }
      },
      "source": [
        "# コーパス全体での出現頻度順で上位20単語を見てみる。\n",
        "\n",
        "import numpy as np\n",
        "\n",
        "vocab = np.array(vocab)\n",
        "print(vocab[np.argsort(- X.sum(axis=0))][:20])"
      ],
      "execution_count": 29,
      "outputs": [
        {
          "output_type": "stream",
          "text": [
            "['こと' 'ある' 'する' 'よる' 'いう' 'なる' 'もの' '言語' 'ため' 'コンピュータ' 'ソフトウェア' 'システム'\n",
            " '問題' '使う' '場合' '計算' 'ない' 'それ' 'データ' 'これ']\n"
          ],
          "name": "stdout"
        }
      ]
    },
    {
      "cell_type": "code",
      "metadata": {
        "id": "9-iVfMub3Aon",
        "outputId": "982ff959-f37f-4fc7-e13f-337a333337b9",
        "colab": {
          "base_uri": "https://localhost:8080/",
          "height": 89
        }
      },
      "source": [
        "# 「人工知能」エントリと他のエントリとの距離を求める。\n",
        "\n",
        "from scipy.spatial import distance\n",
        "\n",
        "genre = df['genre'].values.tolist()\n",
        "index_AI = genre.index('人工知能')\n",
        "print(f'「{genre[index_AI]}」と「{genre[10]}」との間での・・・')\n",
        "print(f'ユークリッド距離: {np.linalg.norm(X[0] - X[index_AI])}')\n",
        "print(f'内積: {np.dot(X[0], X[index_AI])}')\n",
        "print(f'コサイン類似度: {distance.cosine(X[0], X[index_AI])}')"
      ],
      "execution_count": 30,
      "outputs": [
        {
          "output_type": "stream",
          "text": [
            "「人工知能」と「組み込みシステム」との間での・・・\n",
            "ユークリッド距離: 57.28001396647874\n",
            "内積: 950\n",
            "コサイン類似度: 0.5446631868396676\n"
          ],
          "name": "stdout"
        }
      ]
    },
    {
      "cell_type": "markdown",
      "metadata": {
        "id": "mfb2TM94L-sC"
      },
      "source": [
        "### ここから各自作業。\n",
        "* 「人工知能」と、Wikipediaのエントリの類似度の上で、最も近いジャンルは、どれ？\n",
        "* ユークリッド距離とコサイン類似度のうち、どちらを類似度として使った場合の答えが、より納得できる答えになっているか？"
      ]
    },
    {
      "cell_type": "code",
      "metadata": {
        "id": "uxRg04cV47EX",
        "outputId": "f0fb955a-6a96-4eb2-bcf1-3794cf8bbd7d",
        "colab": {
          "base_uri": "https://localhost:8080/",
          "height": 1000
        }
      },
      "source": [
        "genre"
      ],
      "execution_count": 31,
      "outputs": [
        {
          "output_type": "execute_result",
          "data": {
            "text/plain": [
              "['コンピュータ科学',\n",
              " 'ハードウェア',\n",
              " 'プリント基板',\n",
              " '周辺機器',\n",
              " '集積回路',\n",
              " 'Systems on Chip (SoCs)',\n",
              " 'エネルギー消費 (グリーン・コンピューティング)',\n",
              " 'EDA',\n",
              " 'ハードウェアアクセラレーション',\n",
              " 'コンピュータ・アーキテクチャ',\n",
              " '組み込みシステム',\n",
              " 'リアルタイムシステム',\n",
              " 'ディペンダビリティ',\n",
              " 'ネットワーク',\n",
              " '通信プロトコル',\n",
              " 'インタプリタ',\n",
              " 'ミドルウェア',\n",
              " '仮想マシン',\n",
              " 'オペレーティングシステム',\n",
              " 'ソフトウェア品質',\n",
              " 'ツール',\n",
              " 'プログラミングパラダイム',\n",
              " 'プログラミング言語',\n",
              " 'コンパイラ',\n",
              " 'ドメイン固有言語',\n",
              " 'モデリング言語',\n",
              " 'ソフトウェアフレームワーク',\n",
              " '統合開発環境',\n",
              " 'ソフトウェア構成管理',\n",
              " 'ソフトウェアライブラリ',\n",
              " 'ソフトウェアリポジトリ',\n",
              " 'ソフトウェア開発',\n",
              " 'ソフトウェア開発プロセス',\n",
              " '要求分析',\n",
              " 'ソフトウェア設計',\n",
              " 'ソフトウェアデプロイメント',\n",
              " 'ソフトウェアメンテナンス',\n",
              " 'オープンソースモデル',\n",
              " '計算理論',\n",
              " '計算モデル',\n",
              " '形式言語',\n",
              " 'オートマトン理論',\n",
              " '計算可能性理論',\n",
              " '計算複雑性理論',\n",
              " '意味論',\n",
              " 'アルゴリズム',\n",
              " 'アルゴリズム解析',\n",
              " '乱択アルゴリズム',\n",
              " '計算幾何学',\n",
              " '離散数学',\n",
              " '確率',\n",
              " '統計学',\n",
              " '数学ソフトウェア',\n",
              " '情報理論',\n",
              " '解析学',\n",
              " '数値解析',\n",
              " '情報システム',\n",
              " 'データベース管理システム',\n",
              " '情報ストレージシステム',\n",
              " '企業情報システム',\n",
              " '地理情報システム',\n",
              " '意思決定支援システム',\n",
              " 'プロセス制御システム',\n",
              " 'データマイニング',\n",
              " '電子図書館',\n",
              " 'コンピューティング・プラットフォーム',\n",
              " 'デジタルマーケティング',\n",
              " 'World Wide Web',\n",
              " '情報検索',\n",
              " 'セキュリティ',\n",
              " '暗号理論',\n",
              " '形式手法',\n",
              " '侵入検知システム',\n",
              " 'ネットワーク・セキュリティ',\n",
              " '情報セキュリティ',\n",
              " 'ヒューマンコンピュータインタラクション',\n",
              " 'インタラクションデザイン',\n",
              " 'ユビキタスコンピューティング',\n",
              " '可視化',\n",
              " 'アクセシビリティ',\n",
              " '並行性',\n",
              " '並行コンピューティング',\n",
              " '並列コンピューティング',\n",
              " '分散コンピューティング',\n",
              " 'マルチスレッディング',\n",
              " 'マルチプロセッシング',\n",
              " '自然言語処理',\n",
              " '知識表現と推論',\n",
              " 'コンピュータビジョン',\n",
              " '自動計画とスケジューリング',\n",
              " '検索手法',\n",
              " '制御手法',\n",
              " '機械学習',\n",
              " '教師あり学習',\n",
              " '教師なし学習',\n",
              " '強化学習',\n",
              " '交差検証',\n",
              " 'グラフィックス',\n",
              " 'アニメーション',\n",
              " 'レンダリング',\n",
              " '画像編集',\n",
              " 'GPU',\n",
              " '複合現実',\n",
              " 'バーチャル・リアリティ',\n",
              " '画像圧縮',\n",
              " 'ソリッドモデリング',\n",
              " '電子商取引',\n",
              " '企業アプリケーション',\n",
              " '計算物理学',\n",
              " '計算化学',\n",
              " '計算生物学',\n",
              " '計算社会科学',\n",
              " '健康情報学',\n",
              " 'デジタルアート',\n",
              " '電子出版',\n",
              " 'サイバー戦争',\n",
              " '電子投票',\n",
              " 'コンピュータゲーム',\n",
              " 'ワードプロセッサー',\n",
              " 'オペレーションズ・リサーチ',\n",
              " '教育工学',\n",
              " '文書管理システム',\n",
              " '人工知能']"
            ]
          },
          "metadata": {
            "tags": []
          },
          "execution_count": 31
        }
      ]
    },
    {
      "cell_type": "code",
      "metadata": {
        "id": "U-da3ID_L0nK"
      },
      "source": [
        ""
      ],
      "execution_count": 31,
      "outputs": []
    }
  ]
}